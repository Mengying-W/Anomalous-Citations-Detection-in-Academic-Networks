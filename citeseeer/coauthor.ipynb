{
 "cells": [
  {
   "cell_type": "code",
   "execution_count": 1,
   "id": "71e9ee47",
   "metadata": {
    "ExecuteTime": {
     "end_time": "2023-02-24T15:25:48.225308Z",
     "start_time": "2023-02-24T15:25:47.967637Z"
    }
   },
   "outputs": [],
   "source": [
    "import csv\n",
    "import pandas as pd\n",
    "import random\n",
    "import re\n",
    "import time\n",
    "from tqdm import tqdm, trange"
   ]
  },
  {
   "cell_type": "code",
   "execution_count": 2,
   "id": "b73a2d58",
   "metadata": {
    "ExecuteTime": {
     "end_time": "2023-02-24T15:25:54.825676Z",
     "start_time": "2023-02-24T15:25:54.794546Z"
    }
   },
   "outputs": [
    {
     "data": {
      "text/html": [
       "<div>\n",
       "<style scoped>\n",
       "    .dataframe tbody tr th:only-of-type {\n",
       "        vertical-align: middle;\n",
       "    }\n",
       "\n",
       "    .dataframe tbody tr th {\n",
       "        vertical-align: top;\n",
       "    }\n",
       "\n",
       "    .dataframe thead th {\n",
       "        text-align: right;\n",
       "    }\n",
       "</style>\n",
       "<table border=\"1\" class=\"dataframe\">\n",
       "  <thead>\n",
       "    <tr style=\"text-align: right;\">\n",
       "      <th></th>\n",
       "      <th>paperA</th>\n",
       "      <th>paperB</th>\n",
       "      <th>A_firstAuthorInDegree</th>\n",
       "      <th>A_firstAuthorOutDegree</th>\n",
       "      <th>A_PaperOutDegree</th>\n",
       "      <th>abstractSim</th>\n",
       "      <th>notHasCitationPurpose</th>\n",
       "      <th>ifFirstAuthorInSameAffilaition</th>\n",
       "      <th>ifSameJournal</th>\n",
       "      <th>selfCite</th>\n",
       "      <th>citedPaperJournalTypeProportionInCitingPaperReferences</th>\n",
       "      <th>citedPaperFirstAuthorHasCiteCitingPaperFirstAuthorsPaper</th>\n",
       "      <th>citingPaperAuthorsPapersIntersectionCitedPaperAuthorsPapers</th>\n",
       "      <th>B_firstAuthorInDegree</th>\n",
       "      <th>B_firstAuthorOutDegree</th>\n",
       "      <th>B_PaperOutDegree</th>\n",
       "      <th>label_ifAbnormal</th>\n",
       "    </tr>\n",
       "  </thead>\n",
       "  <tbody>\n",
       "    <tr>\n",
       "      <th>0</th>\n",
       "      <td>2138715703</td>\n",
       "      <td>2007600326</td>\n",
       "      <td>0</td>\n",
       "      <td>171</td>\n",
       "      <td>28</td>\n",
       "      <td>0.637714</td>\n",
       "      <td>0.672244</td>\n",
       "      <td>0</td>\n",
       "      <td>0</td>\n",
       "      <td>0</td>\n",
       "      <td>0.027027</td>\n",
       "      <td>0</td>\n",
       "      <td>0</td>\n",
       "      <td>6</td>\n",
       "      <td>0</td>\n",
       "      <td>0</td>\n",
       "      <td>0</td>\n",
       "    </tr>\n",
       "    <tr>\n",
       "      <th>1</th>\n",
       "      <td>2138715703</td>\n",
       "      <td>2147617783</td>\n",
       "      <td>0</td>\n",
       "      <td>171</td>\n",
       "      <td>28</td>\n",
       "      <td>0.569197</td>\n",
       "      <td>0.723836</td>\n",
       "      <td>0</td>\n",
       "      <td>0</td>\n",
       "      <td>0</td>\n",
       "      <td>0.054054</td>\n",
       "      <td>0</td>\n",
       "      <td>0</td>\n",
       "      <td>10</td>\n",
       "      <td>0</td>\n",
       "      <td>0</td>\n",
       "      <td>0</td>\n",
       "    </tr>\n",
       "    <tr>\n",
       "      <th>2</th>\n",
       "      <td>2138715703</td>\n",
       "      <td>1966687480</td>\n",
       "      <td>0</td>\n",
       "      <td>171</td>\n",
       "      <td>28</td>\n",
       "      <td>0.473437</td>\n",
       "      <td>0.770526</td>\n",
       "      <td>0</td>\n",
       "      <td>0</td>\n",
       "      <td>0</td>\n",
       "      <td>0.027027</td>\n",
       "      <td>0</td>\n",
       "      <td>0</td>\n",
       "      <td>6</td>\n",
       "      <td>0</td>\n",
       "      <td>0</td>\n",
       "      <td>0</td>\n",
       "    </tr>\n",
       "    <tr>\n",
       "      <th>3</th>\n",
       "      <td>2138715703</td>\n",
       "      <td>2062460839</td>\n",
       "      <td>0</td>\n",
       "      <td>171</td>\n",
       "      <td>28</td>\n",
       "      <td>0.572876</td>\n",
       "      <td>0.651287</td>\n",
       "      <td>0</td>\n",
       "      <td>0</td>\n",
       "      <td>0</td>\n",
       "      <td>0.027027</td>\n",
       "      <td>0</td>\n",
       "      <td>0</td>\n",
       "      <td>6</td>\n",
       "      <td>0</td>\n",
       "      <td>0</td>\n",
       "      <td>0</td>\n",
       "    </tr>\n",
       "    <tr>\n",
       "      <th>4</th>\n",
       "      <td>2138715703</td>\n",
       "      <td>2134441116</td>\n",
       "      <td>0</td>\n",
       "      <td>171</td>\n",
       "      <td>28</td>\n",
       "      <td>0.524535</td>\n",
       "      <td>0.755068</td>\n",
       "      <td>1</td>\n",
       "      <td>0</td>\n",
       "      <td>0</td>\n",
       "      <td>0.054054</td>\n",
       "      <td>1</td>\n",
       "      <td>1</td>\n",
       "      <td>22</td>\n",
       "      <td>0</td>\n",
       "      <td>0</td>\n",
       "      <td>0</td>\n",
       "    </tr>\n",
       "  </tbody>\n",
       "</table>\n",
       "</div>"
      ],
      "text/plain": [
       "       paperA      paperB  A_firstAuthorInDegree  A_firstAuthorOutDegree  \\\n",
       "0  2138715703  2007600326                      0                     171   \n",
       "1  2138715703  2147617783                      0                     171   \n",
       "2  2138715703  1966687480                      0                     171   \n",
       "3  2138715703  2062460839                      0                     171   \n",
       "4  2138715703  2134441116                      0                     171   \n",
       "\n",
       "   A_PaperOutDegree  abstractSim  notHasCitationPurpose  \\\n",
       "0                28     0.637714               0.672244   \n",
       "1                28     0.569197               0.723836   \n",
       "2                28     0.473437               0.770526   \n",
       "3                28     0.572876               0.651287   \n",
       "4                28     0.524535               0.755068   \n",
       "\n",
       "   ifFirstAuthorInSameAffilaition  ifSameJournal  selfCite  \\\n",
       "0                               0              0         0   \n",
       "1                               0              0         0   \n",
       "2                               0              0         0   \n",
       "3                               0              0         0   \n",
       "4                               1              0         0   \n",
       "\n",
       "   citedPaperJournalTypeProportionInCitingPaperReferences  \\\n",
       "0                                           0.027027        \n",
       "1                                           0.054054        \n",
       "2                                           0.027027        \n",
       "3                                           0.027027        \n",
       "4                                           0.054054        \n",
       "\n",
       "   citedPaperFirstAuthorHasCiteCitingPaperFirstAuthorsPaper  \\\n",
       "0                                                  0          \n",
       "1                                                  0          \n",
       "2                                                  0          \n",
       "3                                                  0          \n",
       "4                                                  1          \n",
       "\n",
       "   citingPaperAuthorsPapersIntersectionCitedPaperAuthorsPapers  \\\n",
       "0                                                  0             \n",
       "1                                                  0             \n",
       "2                                                  0             \n",
       "3                                                  0             \n",
       "4                                                  1             \n",
       "\n",
       "   B_firstAuthorInDegree  B_firstAuthorOutDegree  B_PaperOutDegree  \\\n",
       "0                      6                       0                 0   \n",
       "1                     10                       0                 0   \n",
       "2                      6                       0                 0   \n",
       "3                      6                       0                 0   \n",
       "4                     22                       0                 0   \n",
       "\n",
       "   label_ifAbnormal  \n",
       "0                 0  \n",
       "1                 0  \n",
       "2                 0  \n",
       "3                 0  \n",
       "4                 0  "
      ]
     },
     "execution_count": 2,
     "metadata": {},
     "output_type": "execute_result"
    }
   ],
   "source": [
    "df = pd.read_csv('/Users/carina/Downloads/刘嘉莹/异常引用补充实验/sourcecode/ANCI_code/dataset/data/inputTable.csv')\n",
    "df.head()"
   ]
  },
  {
   "cell_type": "code",
   "execution_count": 3,
   "id": "390b9bf2",
   "metadata": {
    "ExecuteTime": {
     "end_time": "2023-02-24T15:26:07.970443Z",
     "start_time": "2023-02-24T15:26:07.962607Z"
    }
   },
   "outputs": [
    {
     "data": {
      "text/plain": [
       "'\\nprint(len(df_t)) 4428\\nprint(len(df_f)) 300\\nprint(len(df)) 4728\\n'"
      ]
     },
     "execution_count": 3,
     "metadata": {},
     "output_type": "execute_result"
    }
   ],
   "source": [
    "df_t = df.loc[df['label_ifAbnormal'] == 0]\n",
    "df_f = df.loc[df['label_ifAbnormal'] != 0]\n",
    "'''\n",
    "print(len(df_t)) 4428\n",
    "print(len(df_f)) 300\n",
    "print(len(df)) 4728\n",
    "'''"
   ]
  },
  {
   "cell_type": "code",
   "execution_count": 4,
   "id": "c509de5b",
   "metadata": {
    "ExecuteTime": {
     "end_time": "2023-02-24T15:26:21.675949Z",
     "start_time": "2023-02-24T15:26:21.670655Z"
    }
   },
   "outputs": [],
   "source": [
    "paperaidlist = []\n",
    "paperaidlist = df_t['paperA'].unique()\n",
    "paperaidliststr = [str(x) for x in paperaidlist]\n",
    "#print(len(paperaidlist)) 1199"
   ]
  },
  {
   "cell_type": "code",
   "execution_count": 5,
   "id": "5a20ae60",
   "metadata": {
    "ExecuteTime": {
     "end_time": "2023-02-24T15:26:33.652494Z",
     "start_time": "2023-02-24T15:26:33.579368Z"
    }
   },
   "outputs": [],
   "source": [
    "paperbidlist = []\n",
    "paperbidlist = df_t['paperB'].unique()\n",
    "paperbidliststr = [str(x) for x in paperbidlist]\n",
    "#print(len(paperbidlist)) 2464"
   ]
  },
  {
   "cell_type": "code",
   "execution_count": 6,
   "id": "791c79d0",
   "metadata": {
    "ExecuteTime": {
     "end_time": "2023-02-24T15:26:47.027131Z",
     "start_time": "2023-02-24T15:26:47.010531Z"
    }
   },
   "outputs": [],
   "source": [
    "f2 = open(r'/Users/carina/Downloads/刘嘉莹/异常引用补充实验/sourcecode/ANCI_code/dataset/data/allPaperAbstracts-doc2vec-Embedding-128.txt','r')\n",
    "paperid_abstractdoc2vec = []\n",
    "for line in f2:\n",
    "    line = line.strip().split('\\t')\n",
    "    paperid_abstractdoc2vec.append(line[0])\n",
    "#print(len(paperid_abstractdoc2vec)) 3312\n",
    "#join1 = [x for x in paperid_abstractdoc2vec if x  in paperaidlist]\n",
    "#print(len(join1)) 1124"
   ]
  },
  {
   "cell_type": "markdown",
   "id": "7c34449c",
   "metadata": {},
   "source": [
    "# core paper 和 true cited paper"
   ]
  },
  {
   "cell_type": "code",
   "execution_count": 7,
   "id": "e1b15f23",
   "metadata": {
    "ExecuteTime": {
     "end_time": "2023-02-24T15:28:11.045927Z",
     "start_time": "2023-02-24T15:28:11.030204Z"
    }
   },
   "outputs": [
    {
     "name": "stdout",
     "output_type": "stream",
     "text": [
      "286\n"
     ]
    }
   ],
   "source": [
    "#随机抽样301个，去掉没有 abstract vec的\n",
    "random.seed(12)\n",
    "randompaperidliststr = random.sample(paperaidliststr,301)\n",
    "corepaperidliststr_invec = [x for x in randompaperidliststr if x in paperid_abstractdoc2vec]\n",
    "print(len(corepaperidliststr_invec))\n",
    "#corepaperidlist = [int(x) for x in corepaperidliststr]\n",
    "#print(len(corepaperidlist)) 286"
   ]
  },
  {
   "cell_type": "code",
   "execution_count": 10,
   "id": "8dd05604",
   "metadata": {
    "ExecuteTime": {
     "end_time": "2023-02-24T15:55:56.889463Z",
     "start_time": "2023-02-24T15:35:50.054349Z"
    }
   },
   "outputs": [
    {
     "name": "stderr",
     "output_type": "stream",
     "text": [
      "172037947it [20:06, 142553.87it/s]\n"
     ]
    }
   ],
   "source": [
    "#找到其journal id\n",
    "f = open(r'/Users/carina/Downloads/刘嘉莹/异常引用补充实验/sourcecode/ANCI_code/dataset/data/Papers.txt','r')\n",
    "alljournalidOf_corepaperidliststr_invec = []\n",
    "allpaperidOf_corepaperidliststr_invec = []\n",
    "for line in tqdm(f) :\n",
    "    line = line.strip().split('\\t')\n",
    "    if line[0] in corepaperidliststr_invec:\n",
    "        allpaperidOf_corepaperidliststr_invec.append(line[0])\n",
    "        alljournalidOf_corepaperidliststr_invec.append(line[10])"
   ]
  },
  {
   "cell_type": "code",
   "execution_count": 18,
   "id": "fb6dd22c",
   "metadata": {
    "ExecuteTime": {
     "end_time": "2023-02-24T17:01:13.890720Z",
     "start_time": "2023-02-24T17:01:13.874788Z"
    }
   },
   "outputs": [
    {
     "name": "stderr",
     "output_type": "stream",
     "text": [
      "7623it [00:00, 902865.60it/s]"
     ]
    },
    {
     "name": "stdout",
     "output_type": "stream",
     "text": [
      "7623\n"
     ]
    },
    {
     "name": "stderr",
     "output_type": "stream",
     "text": [
      "\n"
     ]
    }
   ],
   "source": [
    "allvalidjournalid = []\n",
    "f = open(r'/Users/carina/Downloads/刘嘉莹/异常引用补充实验/sourcecode/ANCI_code/dataset/data/coauthor/processed/selectedJournals.txt','r')\n",
    "for line in tqdm(f) :\n",
    "    line = line.strip().split('\\t')\n",
    "    allvalidjournalid.append(line[0])\n",
    "print(len(allvalidjournalid))\n"
   ]
  },
  {
   "cell_type": "code",
   "execution_count": 20,
   "id": "b37599bd",
   "metadata": {
    "ExecuteTime": {
     "end_time": "2023-02-24T17:02:12.444337Z",
     "start_time": "2023-02-24T17:02:12.414115Z"
    }
   },
   "outputs": [
    {
     "name": "stdout",
     "output_type": "stream",
     "text": [
      "286\n",
      "236\n",
      "236\n"
     ]
    }
   ],
   "source": [
    "#删掉没有journalid的论文\n",
    "#print(len(alljournalidOf_corepaperidliststr_invec))#286\n",
    "corepaperidliststr = []\n",
    "for paperid,journalid in zip(allpaperidOf_corepaperidliststr_invec,alljournalidOf_corepaperidliststr_invec):\n",
    "    if journalid in allvalidjournalid:\n",
    "        corepaperidliststr.append(paperid)\n",
    "#print(len(corepaperidliststr)) #236\n",
    "corepaperidlist = [int(x) for x in corepaperidliststr]\n",
    "#print(len(corepaperidlist)) ##236"
   ]
  },
  {
   "cell_type": "code",
   "execution_count": 56,
   "id": "9ce3c1a4",
   "metadata": {
    "ExecuteTime": {
     "end_time": "2023-02-24T20:53:46.253283Z",
     "start_time": "2023-02-24T20:53:46.211145Z"
    }
   },
   "outputs": [
    {
     "name": "stdout",
     "output_type": "stream",
     "text": [
      "859\n"
     ]
    }
   ],
   "source": [
    "#真实被引用的paper，去掉没有 abstract vec的\n",
    "paperidcitedbycorepaper = []\n",
    "df_citedpaper = df[df['paperA'].isin(corepaperidlist)]\n",
    "#print(len(df_citedpaper)) #1141\n",
    "paperidcitedbycorepaperori = df_citedpaper['paperB'].unique()\n",
    "#print(len(paperidcitedbycorepaperori)) #926\n",
    "paperidcitedbycorepaperoristr = [str(x) for x in paperidcitedbycorepaperori]\n",
    "paperbinabstractem = [x for x in paperidcitedbycorepaperoristr if x in paperid_abstractdoc2vec]\n",
    "#print(len(paperbinabstractem)) #885\n",
    "paperbinabstractem_uncore = [x for x in paperbinabstractem if x not in corepaperidliststr]\n",
    "#print(len(paperbinabstractem_uncore))#859"
   ]
  },
  {
   "cell_type": "code",
   "execution_count": 27,
   "id": "70980255",
   "metadata": {
    "ExecuteTime": {
     "end_time": "2023-02-24T17:55:46.383047Z",
     "start_time": "2023-02-24T17:07:26.462910Z"
    }
   },
   "outputs": [
    {
     "name": "stderr",
     "output_type": "stream",
     "text": [
      "172037947it [48:19, 59325.23it/s]\n"
     ]
    }
   ],
   "source": [
    "\n",
    "f = open(r'/Users/carina/Downloads/刘嘉莹/异常引用补充实验/sourcecode/ANCI_code/dataset/data/Papers.txt','r')\n",
    "alljournalidOf_citedpaperidliststr_invec = []\n",
    "allpaperidOf_citedpaperidliststr_invec = []\n",
    "for line in tqdm(f) :\n",
    "    line = line.strip().split('\\t')\n",
    "    if line[0] in paperbinabstractem:\n",
    "        allpaperidOf_citedpaperidliststr_invec.append(line[0])\n",
    "        alljournalidOf_citedpaperidliststr_invec.append(line[10])\n",
    "f.close()"
   ]
  },
  {
   "cell_type": "code",
   "execution_count": 57,
   "id": "a967a364",
   "metadata": {
    "ExecuteTime": {
     "end_time": "2023-02-24T20:57:04.457257Z",
     "start_time": "2023-02-24T20:57:04.380020Z"
    }
   },
   "outputs": [
    {
     "name": "stdout",
     "output_type": "stream",
     "text": [
      "885\n",
      "764\n",
      "764\n",
      "764\n"
     ]
    }
   ],
   "source": [
    "#删掉没有journalid的论文\n",
    "print(len(alljournalidOf_citedpaperidliststr_invec))#885\n",
    "citedpaperidliststr = []\n",
    "for paperid,journalid in zip(allpaperidOf_citedpaperidliststr_invec,alljournalidOf_citedpaperidliststr_invec):\n",
    "    if journalid in allvalidjournalid:\n",
    "        citedpaperidliststr.append(paperid)\n",
    "print(len(citedpaperidliststr)) #764\n",
    "paperidcitedbycorepaperstr = citedpaperidliststr\n",
    "print(len(paperidcitedbycorepaperstr))#764\n",
    "paperidcitedbycorepaper = [int(x) for x in paperidcitedbycorepaperstr]\n",
    "print(len(paperidcitedbycorepaper)) ##764"
   ]
  },
  {
   "cell_type": "code",
   "execution_count": 58,
   "id": "9de7d940",
   "metadata": {
    "ExecuteTime": {
     "end_time": "2023-02-24T20:58:49.197835Z",
     "start_time": "2023-02-24T20:58:49.189161Z"
    }
   },
   "outputs": [
    {
     "name": "stdout",
     "output_type": "stream",
     "text": [
      "764\n",
      "738\n",
      "738\n"
     ]
    }
   ],
   "source": [
    "#删掉core paper中重复的\n",
    "paperidcitedbycorepaper = sorted(set(paperidcitedbycorepaper))\n",
    "#print(len(paperidcitedbycorepaper)) #764\n",
    "paperidcitedbycorepaper = [x for x in paperidcitedbycorepaper if x not in corepaperidlist]\n",
    "#print(len(paperidcitedbycorepaper)) #738\n",
    "paperidcitedbycorepaperstr = [str(x) for x in paperidcitedbycorepaper]\n",
    "#print(len(paperidcitedbycorepaperstr))# 738"
   ]
  },
  {
   "cell_type": "markdown",
   "id": "5a3925df",
   "metadata": {},
   "source": [
    "# 需要添加的异常引用的paper id+所需要用到的所有paper id"
   ]
  },
  {
   "cell_type": "code",
   "execution_count": 65,
   "id": "c862792d",
   "metadata": {
    "ExecuteTime": {
     "end_time": "2023-02-24T21:02:43.607757Z",
     "start_time": "2023-02-24T21:02:43.601525Z"
    }
   },
   "outputs": [
    {
     "name": "stdout",
     "output_type": "stream",
     "text": [
      "236\n",
      "118\n",
      "118\n",
      "118\n",
      "118\n"
     ]
    }
   ],
   "source": [
    "#把core paper分两半，后一半加入异常引用\n",
    "print(len(corepaperidliststr))\n",
    "corepaperidliststr1 = corepaperidliststr[0:118]\n",
    "print(len(corepaperidliststr1))  #117\n",
    "corepaperidliststr2 = corepaperidliststr[118:236]\n",
    "print(len(corepaperidliststr2))  #117\n",
    "corepaperidlist1 = corepaperidlist[0:118]\n",
    "print(len(corepaperidlist1))  #117\n",
    "corepaperidlist2 = corepaperidlist[118:236]\n",
    "print(len(corepaperidlist2))  #117"
   ]
  },
  {
   "cell_type": "code",
   "execution_count": 66,
   "id": "2de80e0d",
   "metadata": {
    "ExecuteTime": {
     "end_time": "2023-02-24T21:34:17.310496Z",
     "start_time": "2023-02-24T21:03:00.608363Z"
    }
   },
   "outputs": [
    {
     "name": "stderr",
     "output_type": "stream",
     "text": [
      "455999370it [31:16, 242980.01it/s]"
     ]
    },
    {
     "name": "stdout",
     "output_type": "stream",
     "text": [
      "588\n",
      "753\n"
     ]
    },
    {
     "name": "stderr",
     "output_type": "stream",
     "text": [
      "\n"
     ]
    }
   ],
   "source": [
    "#两半core paper的作者\n",
    "authoridofcorepaper1 = []\n",
    "authoridofcorepaper2 = []\n",
    "f = open(r'/Users/carina/Downloads/刘嘉莹/异常引用补充实验/sourcecode/ANCI_code/dataset/data/PaperAuthorAffiliations.txt','r')\n",
    "\n",
    "for line in tqdm(f):\n",
    "    line = line.split('\\t')\n",
    "    if line[0] in corepaperidliststr1:\n",
    "        authoridofcorepaper1.append(line[1]) #str\n",
    "    if line[0] in corepaperidliststr2:\n",
    "        authoridofcorepaper2.append(line[1]) #str    \n",
    "print(len(authoridofcorepaper1)) #588\n",
    "print(len(authoridofcorepaper2)) #753\n",
    "f.close()"
   ]
  },
  {
   "cell_type": "code",
   "execution_count": 67,
   "id": "5189e934",
   "metadata": {
    "ExecuteTime": {
     "end_time": "2023-02-24T21:36:23.645786Z",
     "start_time": "2023-02-24T21:36:23.634259Z"
    }
   },
   "outputs": [
    {
     "name": "stdout",
     "output_type": "stream",
     "text": [
      "584\n",
      "747\n",
      "740\n"
     ]
    }
   ],
   "source": [
    "authoridofcorepaper1_sorted = sorted(set(authoridofcorepaper1))\n",
    "print(len(authoridofcorepaper1_sorted)) #584\n",
    "authoridofcorepaper2_sorted = sorted(set(authoridofcorepaper2))\n",
    "print(len(authoridofcorepaper2_sorted)) #747\n",
    "\n",
    "#后一半core paper的作者去掉前一半的作者\n",
    "authors_notin1 = [x for x in authoridofcorepaper2_sorted if x not in authoridofcorepaper1_sorted] #str\n",
    "print(len(authors_notin1)) #740"
   ]
  },
  {
   "cell_type": "code",
   "execution_count": 68,
   "id": "668e5b6f",
   "metadata": {
    "ExecuteTime": {
     "end_time": "2023-02-24T23:00:58.875559Z",
     "start_time": "2023-02-24T21:37:42.692951Z"
    }
   },
   "outputs": [
    {
     "name": "stderr",
     "output_type": "stream",
     "text": [
      "455999370it [1:23:16, 91269.72it/s]"
     ]
    },
    {
     "name": "stdout",
     "output_type": "stream",
     "text": [
      "68548\n"
     ]
    },
    {
     "name": "stderr",
     "output_type": "stream",
     "text": [
      "\n"
     ]
    }
   ],
   "source": [
    "#要添加的异常引用的论文\n",
    "otherpaperidofcoreauthor2 = []\n",
    "\n",
    "f = open(r'/Users/carina/Downloads/刘嘉莹/异常引用补充实验/sourcecode/ANCI_code/dataset/data/PaperAuthorAffiliations.txt','r')\n",
    "\n",
    "for line in tqdm(f):\n",
    "    line = line.split('\\t')\n",
    "    if line[1] in authors_notin1:\n",
    "        otherpaperidofcoreauthor2.append(line[0]) #str\n",
    "        \n",
    "f.close()\n",
    "print(len(otherpaperidofcoreauthor2)) #68548"
   ]
  },
  {
   "cell_type": "code",
   "execution_count": 79,
   "id": "331312fc",
   "metadata": {
    "ExecuteTime": {
     "end_time": "2023-02-24T23:31:24.425422Z",
     "start_time": "2023-02-24T23:31:24.421209Z"
    }
   },
   "outputs": [],
   "source": [
    "random.seed(12)\n",
    "randompaperidcitedbycorepaperstr = random.sample(paperidcitedbycorepaperstr,280)\n",
    "randompaperidcitedbycorepaper = [int(x) for x in randompaperidcitedbycorepaperstr]"
   ]
  },
  {
   "cell_type": "code",
   "execution_count": 73,
   "id": "96592b81",
   "metadata": {
    "ExecuteTime": {
     "end_time": "2023-02-24T23:07:00.793553Z",
     "start_time": "2023-02-24T23:06:57.904289Z"
    }
   },
   "outputs": [
    {
     "name": "stdout",
     "output_type": "stream",
     "text": [
      "56306\n",
      "56306\n",
      "278\n",
      "254\n",
      "0\n"
     ]
    }
   ],
   "source": [
    "otherpaperidofcoreauthor2_0 = sorted(set(otherpaperidofcoreauthor2))\n",
    "print(len(otherpaperidofcoreauthor2_0)) #56306\n",
    "otherpaperidofcoreauthor2_1 = [x for x in otherpaperidofcoreauthor2_0 if x not in corepaperidlist]#int\n",
    "print(len(otherpaperidofcoreauthor2_1)) #56306\n",
    "otherpaperidofcoreauthor2_2 = [x for x in otherpaperidofcoreauthor2_1 if x in paperid_abstractdoc2vec]#int\n",
    "print(len(otherpaperidofcoreauthor2_2)) #278\n",
    "otherpaperidofcoreauthor2_3 = [x for x in otherpaperidofcoreauthor2_2 if x not in randompaperidcitedbycorepaperstr]#int\n",
    "print(len(otherpaperidofcoreauthor2_3)) #254\n",
    "annomouspaperidstr = []#str\n",
    "print(len(annomouspaperidstr)) #254"
   ]
  },
  {
   "cell_type": "code",
   "execution_count": 74,
   "id": "a0c6666f",
   "metadata": {
    "ExecuteTime": {
     "end_time": "2023-02-24T23:28:34.199190Z",
     "start_time": "2023-02-24T23:11:00.302543Z"
    }
   },
   "outputs": [
    {
     "name": "stderr",
     "output_type": "stream",
     "text": [
      "172037947it [17:33, 163240.87it/s]\n"
     ]
    }
   ],
   "source": [
    "f = open(r'/Users/carina/Downloads/刘嘉莹/异常引用补充实验/sourcecode/ANCI_code/dataset/data/Papers.txt','r')\n",
    "alljournalidOf_annmous_paperidliststr_invec = []\n",
    "allpaperidOf_annmous_paperidliststr_invec = []\n",
    "for line in tqdm(f) :\n",
    "    line = line.strip().split('\\t')\n",
    "    if line[0] in otherpaperidofcoreauthor2_3:\n",
    "        alljournalidOf_annmous_paperidliststr_invec.append(line[10])\n",
    "        allpaperidOf_annmous_paperidliststr_invec.append(line[0])\n",
    "f.close()"
   ]
  },
  {
   "cell_type": "code",
   "execution_count": 76,
   "id": "1a34ebab",
   "metadata": {
    "ExecuteTime": {
     "end_time": "2023-02-24T23:30:43.203050Z",
     "start_time": "2023-02-24T23:30:43.175891Z"
    }
   },
   "outputs": [
    {
     "name": "stdout",
     "output_type": "stream",
     "text": [
      "232\n",
      "232\n"
     ]
    }
   ],
   "source": [
    "annomouspaperidstr = []#str\n",
    "for journalid,paperid in zip(alljournalidOf_annmous_paperidliststr_invec ,allpaperidOf_annmous_paperidliststr_invec):\n",
    "    if journalid in allvalidjournalid:\n",
    "        annomouspaperidstr.append(paperid)\n",
    "print(len(annomouspaperidstr)) #232\n",
    "annomouspaperid = [int(x) for x in annomouspaperidstr]\n",
    "print(len(annomouspaperid)) ##232"
   ]
  },
  {
   "cell_type": "code",
   "execution_count": 80,
   "id": "d282f267",
   "metadata": {
    "ExecuteTime": {
     "end_time": "2023-02-24T23:31:27.849712Z",
     "start_time": "2023-02-24T23:31:27.845502Z"
    }
   },
   "outputs": [
    {
     "name": "stdout",
     "output_type": "stream",
     "text": [
      "748\n",
      "748\n"
     ]
    }
   ],
   "source": [
    "#所有论文id\n",
    "allpaperidstr = corepaperidliststr + randompaperidcitedbycorepaperstr + annomouspaperidstr\n",
    "print(len(allpaperidstr)) #748 = 236+280+232\n",
    "allpaperid = corepaperidlist + randompaperidcitedbycorepaper + annomouspaperid\n",
    "print(len(allpaperid))"
   ]
  },
  {
   "cell_type": "code",
   "execution_count": 83,
   "id": "044af92c",
   "metadata": {
    "ExecuteTime": {
     "end_time": "2023-02-24T23:35:56.783369Z",
     "start_time": "2023-02-24T23:35:56.778322Z"
    }
   },
   "outputs": [],
   "source": [
    "\n",
    "with open(r'/Users/carina/Downloads/刘嘉莹/异常引用补充实验/sourcecode/ANCI_code/dataset/data/coauthor/processed/allpaperid.txt', 'w') as cf:\n",
    "    for line in allpaperidstr:\n",
    "        cf.write(line+'\\n')\n",
    "\n",
    "cf.close()"
   ]
  },
  {
   "cell_type": "markdown",
   "id": "e538cddb",
   "metadata": {},
   "source": [
    "# journal和paper-journal"
   ]
  },
  {
   "cell_type": "code",
   "execution_count": 82,
   "id": "1a44d6c0",
   "metadata": {
    "ExecuteTime": {
     "end_time": "2023-02-24T23:32:47.029737Z",
     "start_time": "2023-02-24T23:32:47.007749Z"
    }
   },
   "outputs": [
    {
     "name": "stdout",
     "output_type": "stream",
     "text": [
      "815\n",
      "815\n"
     ]
    }
   ],
   "source": [
    "journal = alljournalidOf_annmous_paperidliststr_invec + alljournalidOf_citedpaperidliststr_invec + alljournalidOf_corepaperidliststr_invec\n",
    "paper = allpaperidOf_annmous_paperidliststr_invec + allpaperidOf_citedpaperidliststr_invec + allpaperidOf_corepaperidliststr_invec\n",
    "\n",
    "alljournalid = []\n",
    "publishedpaper = []\n",
    "for item1,item2 in zip(journal,paper):\n",
    "    if item2 in allpaperidstr:\n",
    "        alljournalid.append(item1)\n",
    "        publishedpaper.append(item2)\n",
    "        \n",
    "print(len(alljournalid))\n",
    "#alljournalid = sorted(set(alljournalid))\n",
    "print(len(publishedpaper))\n"
   ]
  },
  {
   "cell_type": "code",
   "execution_count": 84,
   "id": "4be2349c",
   "metadata": {
    "ExecuteTime": {
     "end_time": "2023-02-24T23:37:36.758046Z",
     "start_time": "2023-02-24T23:37:36.752502Z"
    }
   },
   "outputs": [],
   "source": [
    "with open(r'/Users/carina/Downloads/刘嘉莹/异常引用补充实验/sourcecode/ANCI_code/dataset/data/coauthor/processed/paperjournal.txt', 'w') as cf:\n",
    "    for p,j in zip(publishedpaper,alljournalid):\n",
    "        cf.write(p + ' ' + j + '\\n')\n",
    "\n",
    "cf.close()"
   ]
  },
  {
   "cell_type": "code",
   "execution_count": 85,
   "id": "4598f8ea",
   "metadata": {
    "ExecuteTime": {
     "end_time": "2023-02-24T23:38:40.499568Z",
     "start_time": "2023-02-24T23:38:40.494727Z"
    }
   },
   "outputs": [],
   "source": [
    "alljournal = sorted(set(alljournalid))\n",
    "with open(r'/Users/carina/Downloads/刘嘉莹/异常引用补充实验/sourcecode/ANCI_code/dataset/data/coauthor/processed/alljournalid.txt', 'w') as cf:\n",
    "    for line in alljournal:\n",
    "        cf.write(line+'\\n')\n",
    "\n",
    "cf.close()"
   ]
  },
  {
   "cell_type": "markdown",
   "id": "9040a7cf",
   "metadata": {},
   "source": [
    "# author 和author-paper"
   ]
  },
  {
   "cell_type": "code",
   "execution_count": 86,
   "id": "16ff5fbc",
   "metadata": {
    "ExecuteTime": {
     "end_time": "2023-02-25T01:22:08.309127Z",
     "start_time": "2023-02-24T23:45:11.933263Z"
    }
   },
   "outputs": [
    {
     "name": "stderr",
     "output_type": "stream",
     "text": [
      "455999370it [1:36:56, 78399.38it/s]"
     ]
    },
    {
     "name": "stdout",
     "output_type": "stream",
     "text": [
      "3976\n",
      "3976\n"
     ]
    },
    {
     "name": "stderr",
     "output_type": "stream",
     "text": [
      "\n"
     ]
    }
   ],
   "source": [
    "paperid_inpaperauthor = []\n",
    "authorid_inpaperauthor = []\n",
    "f = open(r'/Users/carina/Downloads/刘嘉莹/异常引用补充实验/sourcecode/ANCI_code/dataset/data/PaperAuthorAffiliations.txt','r')\n",
    "\n",
    "for line in tqdm(f):\n",
    "    line = line.split('\\t')\n",
    "    if line[0] in allpaperidstr:\n",
    "        paperid_inpaperauthor.append(line[0]) #str\n",
    "        authorid_inpaperauthor.append(line[1]) #str    \n",
    "print(len(paperid_inpaperauthor)) #588\n",
    "print(len(authorid_inpaperauthor)) #753\n",
    "f.close()"
   ]
  },
  {
   "cell_type": "code",
   "execution_count": 88,
   "id": "912ee77b",
   "metadata": {
    "ExecuteTime": {
     "end_time": "2023-02-25T01:22:40.059995Z",
     "start_time": "2023-02-25T01:22:40.053083Z"
    }
   },
   "outputs": [
    {
     "name": "stdout",
     "output_type": "stream",
     "text": [
      "3398\n"
     ]
    }
   ],
   "source": [
    "allauthor = sorted(set(authorid_inpaperauthor))\n",
    "print(len(allauthor)) #3398\n",
    "with open(r'/Users/carina/Downloads/刘嘉莹/异常引用补充实验/sourcecode/ANCI_code/dataset/data/coauthor/processed/allauthorid.txt', 'w') as cf:\n",
    "    for line in allauthor:\n",
    "        cf.write(line+'\\n')\n",
    "\n",
    "cf.close()"
   ]
  },
  {
   "cell_type": "code",
   "execution_count": 89,
   "id": "dbb3b7f3",
   "metadata": {
    "ExecuteTime": {
     "end_time": "2023-02-25T01:23:04.646325Z",
     "start_time": "2023-02-25T01:23:04.638852Z"
    }
   },
   "outputs": [],
   "source": [
    "with open(r'/Users/carina/Downloads/刘嘉莹/异常引用补充实验/sourcecode/ANCI_code/dataset/data/coauthor/processed/paperauthor.txt', 'w') as cf:\n",
    "    for p,a in zip(paperid_inpaperauthor,authorid_inpaperauthor):\n",
    "        cf.write(p + ' ' + a + '\\n')\n",
    "\n",
    "cf.close()"
   ]
  },
  {
   "cell_type": "markdown",
   "id": "b585df39",
   "metadata": {},
   "source": [
    "# citing relationship"
   ]
  },
  {
   "cell_type": "code",
   "execution_count": 91,
   "id": "5218f306",
   "metadata": {
    "ExecuteTime": {
     "end_time": "2023-02-25T01:24:20.841343Z",
     "start_time": "2023-02-25T01:24:19.449309Z"
    }
   },
   "outputs": [],
   "source": [
    "citinginfo = df_t.loc[df_t['paperA'].isin(corepaperidlist)]\n",
    "citinginfo1 = citinginfo.loc[citinginfo['paperB'].isin(randompaperidcitedbycorepaper)]\n",
    "citingpaperid = list(citinginfo1['paperA'])\n",
    "citedpaperid = list(citinginfo1['paperB'])\n",
    "\n",
    "for id1 in corepaperidliststr2:\n",
    "    author = []\n",
    "    f = open(r'/Users/carina/Downloads/刘嘉莹/异常引用补充实验/sourcecode/ANCI_code/dataset/data/coauthor/processed/paperauthor.txt', 'r')\n",
    "    for line in f:\n",
    "        line = line.strip().split(' ')\n",
    "        if line[0] == id1:\n",
    "            author.append(line[1])\n",
    "    #print(len(author))\n",
    "    paper = []\n",
    "    for au in author:\n",
    "        \n",
    "        f = open(r'/Users/carina/Downloads/刘嘉莹/异常引用补充实验/sourcecode/ANCI_code/dataset/data/coauthor/processed/paperauthor.txt', 'r')\n",
    "        for line in f:\n",
    "            line = line.strip().split(' ')\n",
    "            if line[1] == au:\n",
    "                paper.append(line[0])\n",
    "        #print(len(paper))\n",
    "    paper = sorted(set(paper))\n",
    "    paper = [x for x in paper if x != id1]\n",
    "    for i in range(len(paper)):\n",
    "        citingpaperid.append(int(id1))\n",
    "        citedpaperid.append(int(paper[i]))\n",
    "f.close()"
   ]
  },
  {
   "cell_type": "code",
   "execution_count": 128,
   "id": "43bcd330",
   "metadata": {
    "ExecuteTime": {
     "end_time": "2023-02-25T22:42:55.223834Z",
     "start_time": "2023-02-25T22:42:55.219720Z"
    }
   },
   "outputs": [
    {
     "name": "stdout",
     "output_type": "stream",
     "text": [
      "330\n",
      "504\n",
      "174\n"
     ]
    }
   ],
   "source": [
    "print(len(citinginfo1))#真实引用数量\n",
    "print(len(citingpaperid))#总引用数量\n",
    "a = len(citinginfo1)\n",
    "b = len(citingpaperid)\n",
    "c = b - a\n",
    "print(c)"
   ]
  },
  {
   "cell_type": "code",
   "execution_count": 93,
   "id": "24a540ef",
   "metadata": {
    "ExecuteTime": {
     "end_time": "2023-02-25T01:25:07.376255Z",
     "start_time": "2023-02-25T01:25:07.371411Z"
    }
   },
   "outputs": [],
   "source": [
    "with open(r'/Users/carina/Downloads/刘嘉莹/异常引用补充实验/sourcecode/ANCI_code/dataset/data/coauthor/processed/citinginfo.txt', 'w') as cf:\n",
    "    for ing,ed in zip(citingpaperid, citedpaperid):\n",
    "        cf.write(str(ing) + ' ' + str(ed) + '\\n')\n",
    "\n",
    "cf.close()"
   ]
  },
  {
   "cell_type": "markdown",
   "id": "88f2cbaa",
   "metadata": {},
   "source": [
    "# abstract vec matrix"
   ]
  },
  {
   "cell_type": "code",
   "execution_count": 123,
   "id": "c8480b86",
   "metadata": {
    "ExecuteTime": {
     "end_time": "2023-02-25T03:14:22.709865Z",
     "start_time": "2023-02-25T03:14:14.902602Z"
    }
   },
   "outputs": [
    {
     "name": "stdout",
     "output_type": "stream",
     "text": [
      "748\n",
      "128\n",
      "128\n",
      "128\n",
      "128\n",
      "128\n",
      "128\n",
      "128\n",
      "128\n",
      "128\n",
      "128\n",
      "128\n",
      "128\n",
      "128\n",
      "128\n",
      "128\n",
      "128\n",
      "128\n",
      "128\n",
      "128\n",
      "128\n",
      "128\n",
      "128\n",
      "128\n",
      "128\n",
      "128\n",
      "128\n",
      "128\n",
      "128\n",
      "128\n",
      "128\n",
      "128\n",
      "128\n",
      "128\n",
      "128\n",
      "128\n",
      "128\n",
      "128\n",
      "128\n",
      "128\n",
      "128\n",
      "128\n",
      "128\n",
      "128\n",
      "128\n",
      "128\n",
      "128\n",
      "128\n",
      "128\n",
      "128\n",
      "128\n",
      "128\n",
      "128\n",
      "128\n",
      "128\n",
      "128\n",
      "128\n",
      "128\n",
      "128\n",
      "128\n",
      "128\n",
      "128\n",
      "128\n",
      "128\n",
      "128\n",
      "128\n",
      "128\n",
      "128\n",
      "128\n",
      "128\n",
      "128\n",
      "128\n",
      "128\n",
      "128\n",
      "128\n",
      "128\n",
      "128\n",
      "128\n",
      "128\n",
      "128\n",
      "128\n",
      "128\n",
      "128\n",
      "128\n",
      "128\n",
      "128\n",
      "128\n",
      "128\n",
      "128\n",
      "128\n",
      "128\n",
      "128\n",
      "128\n",
      "128\n",
      "128\n",
      "128\n",
      "128\n",
      "128\n",
      "128\n",
      "128\n",
      "128\n",
      "128\n",
      "128\n",
      "128\n",
      "128\n",
      "128\n",
      "128\n",
      "128\n",
      "128\n",
      "128\n",
      "128\n",
      "128\n",
      "128\n",
      "128\n",
      "128\n",
      "128\n",
      "128\n",
      "128\n",
      "128\n",
      "128\n",
      "128\n",
      "128\n",
      "128\n",
      "128\n",
      "128\n",
      "128\n",
      "128\n",
      "128\n",
      "128\n",
      "128\n",
      "128\n",
      "128\n",
      "128\n",
      "128\n",
      "128\n",
      "128\n",
      "128\n",
      "128\n",
      "128\n",
      "128\n",
      "128\n",
      "128\n",
      "128\n",
      "128\n",
      "128\n",
      "128\n",
      "128\n",
      "128\n",
      "128\n",
      "128\n",
      "128\n",
      "128\n",
      "128\n",
      "128\n",
      "128\n",
      "128\n",
      "128\n",
      "128\n",
      "128\n",
      "128\n",
      "128\n",
      "128\n",
      "128\n",
      "128\n",
      "128\n",
      "128\n",
      "128\n",
      "128\n",
      "128\n",
      "128\n",
      "128\n",
      "128\n",
      "128\n",
      "128\n",
      "128\n",
      "128\n",
      "128\n",
      "128\n",
      "128\n",
      "128\n",
      "128\n",
      "128\n",
      "128\n",
      "128\n",
      "128\n",
      "128\n",
      "128\n",
      "128\n",
      "128\n",
      "128\n",
      "128\n",
      "128\n",
      "128\n",
      "128\n",
      "128\n",
      "128\n",
      "128\n",
      "128\n",
      "128\n",
      "128\n",
      "128\n",
      "128\n",
      "128\n",
      "128\n",
      "128\n",
      "128\n",
      "128\n",
      "128\n",
      "128\n",
      "128\n",
      "128\n",
      "128\n",
      "128\n",
      "128\n",
      "128\n",
      "128\n",
      "128\n",
      "128\n",
      "128\n",
      "128\n",
      "128\n",
      "128\n",
      "128\n",
      "128\n",
      "128\n",
      "128\n",
      "128\n",
      "128\n",
      "128\n",
      "128\n",
      "128\n",
      "128\n",
      "128\n",
      "128\n",
      "128\n",
      "128\n",
      "128\n",
      "128\n",
      "128\n",
      "128\n",
      "128\n",
      "128\n",
      "128\n",
      "128\n",
      "128\n",
      "128\n",
      "128\n",
      "128\n",
      "128\n",
      "128\n",
      "128\n",
      "128\n",
      "128\n",
      "128\n",
      "128\n",
      "128\n",
      "128\n",
      "128\n",
      "128\n",
      "128\n",
      "128\n",
      "128\n",
      "128\n",
      "128\n",
      "128\n",
      "128\n",
      "128\n",
      "128\n",
      "128\n",
      "128\n",
      "128\n",
      "128\n",
      "128\n",
      "128\n",
      "128\n",
      "128\n",
      "128\n",
      "128\n",
      "128\n",
      "128\n",
      "128\n",
      "128\n",
      "128\n",
      "128\n",
      "128\n",
      "128\n",
      "128\n",
      "128\n",
      "128\n",
      "128\n",
      "128\n",
      "128\n",
      "128\n",
      "128\n",
      "128\n",
      "128\n",
      "128\n",
      "128\n",
      "128\n",
      "128\n",
      "128\n",
      "128\n",
      "128\n",
      "128\n",
      "128\n",
      "128\n",
      "128\n",
      "128\n",
      "128\n",
      "128\n",
      "128\n",
      "128\n",
      "128\n",
      "128\n",
      "128\n",
      "128\n",
      "128\n",
      "128\n",
      "128\n",
      "128\n",
      "128\n",
      "128\n",
      "128\n",
      "128\n",
      "128\n",
      "128\n",
      "128\n",
      "128\n",
      "128\n",
      "128\n",
      "128\n",
      "128\n",
      "128\n",
      "128\n",
      "128\n",
      "128\n",
      "128\n",
      "128\n",
      "128\n",
      "128\n",
      "128\n",
      "128\n",
      "128\n",
      "128\n",
      "128\n",
      "128\n",
      "128\n",
      "128\n",
      "128\n",
      "128\n",
      "128\n",
      "128\n",
      "128\n",
      "128\n",
      "128\n",
      "128\n",
      "128\n",
      "128\n",
      "128\n",
      "128\n",
      "128\n",
      "128\n",
      "128\n",
      "128\n",
      "128\n",
      "128\n",
      "128\n",
      "128\n",
      "128\n",
      "128\n",
      "128\n",
      "128\n",
      "128\n",
      "128\n",
      "128\n",
      "128\n",
      "128\n",
      "128\n",
      "128\n",
      "128\n",
      "128\n",
      "128\n",
      "128\n",
      "128\n",
      "128\n",
      "128\n",
      "128\n",
      "128\n",
      "128\n",
      "128\n",
      "128\n",
      "128\n",
      "128\n",
      "128\n",
      "128\n",
      "128\n",
      "128\n",
      "128\n",
      "128\n",
      "128\n",
      "128\n",
      "128\n",
      "128\n",
      "128\n",
      "128\n",
      "128\n",
      "128\n",
      "128\n",
      "128\n",
      "128\n",
      "128\n",
      "128\n",
      "128\n",
      "128\n",
      "128\n",
      "128\n",
      "128\n",
      "128\n",
      "128\n",
      "128\n",
      "128\n",
      "128\n",
      "128\n",
      "128\n",
      "128\n",
      "128\n",
      "128\n",
      "128\n",
      "128\n",
      "128\n",
      "128\n",
      "128\n",
      "128\n",
      "128\n",
      "128\n",
      "128\n",
      "128\n",
      "128\n",
      "128\n",
      "128\n",
      "128\n",
      "128\n",
      "128\n",
      "128\n",
      "128\n",
      "128\n",
      "128\n",
      "128\n",
      "128\n",
      "128\n",
      "128\n",
      "128\n",
      "128\n",
      "128\n",
      "128\n",
      "128\n",
      "128\n",
      "128\n",
      "128\n",
      "128\n",
      "128\n",
      "128\n",
      "128\n",
      "128\n",
      "128\n",
      "128\n",
      "128\n",
      "128\n",
      "128\n",
      "128\n",
      "128\n",
      "128\n",
      "128\n",
      "128\n",
      "128\n",
      "128\n",
      "128\n",
      "128\n",
      "128\n",
      "128\n",
      "128\n",
      "128\n",
      "128\n",
      "128\n",
      "128\n",
      "128\n",
      "128\n",
      "128\n",
      "128\n",
      "128\n",
      "128\n",
      "128\n",
      "128\n",
      "128\n",
      "128\n",
      "128\n",
      "128\n",
      "128\n",
      "128\n",
      "128\n",
      "128\n",
      "128\n",
      "128\n",
      "128\n",
      "128\n",
      "128\n",
      "128\n",
      "128\n",
      "128\n",
      "128\n",
      "128\n",
      "128\n",
      "128\n",
      "128\n",
      "128\n",
      "128\n",
      "128\n",
      "128\n",
      "128\n",
      "128\n",
      "128\n",
      "128\n",
      "128\n",
      "128\n",
      "128\n",
      "128\n",
      "128\n",
      "128\n",
      "128\n",
      "128\n",
      "128\n",
      "128\n",
      "128\n",
      "128\n",
      "128\n",
      "128\n",
      "128\n",
      "128\n",
      "128\n",
      "128\n",
      "128\n",
      "128\n",
      "128\n",
      "128\n",
      "128\n",
      "128\n",
      "128\n",
      "128\n",
      "128\n",
      "128\n",
      "128\n",
      "128\n",
      "128\n",
      "128\n",
      "128\n",
      "128\n",
      "128\n",
      "128\n",
      "128\n",
      "128\n",
      "128\n",
      "128\n",
      "128\n",
      "128\n",
      "128\n",
      "128\n",
      "128\n",
      "128\n",
      "128\n",
      "128\n",
      "128\n",
      "128\n",
      "128\n",
      "128\n",
      "128\n",
      "128\n",
      "128\n",
      "128\n",
      "128\n",
      "128\n",
      "128\n",
      "128\n",
      "128\n",
      "128\n",
      "128\n",
      "128\n",
      "128\n",
      "128\n",
      "128\n",
      "128\n",
      "128\n",
      "128\n",
      "128\n",
      "128\n",
      "128\n",
      "128\n",
      "128\n",
      "128\n",
      "128\n",
      "128\n",
      "128\n",
      "128\n",
      "128\n",
      "128\n",
      "128\n",
      "128\n",
      "128\n",
      "128\n",
      "128\n",
      "128\n",
      "128\n",
      "128\n",
      "128\n",
      "128\n",
      "128\n",
      "128\n",
      "128\n",
      "128\n",
      "128\n",
      "128\n",
      "128\n",
      "128\n",
      "128\n",
      "128\n",
      "128\n",
      "128\n",
      "128\n",
      "128\n",
      "128\n",
      "128\n",
      "128\n",
      "128\n",
      "128\n",
      "128\n",
      "128\n",
      "128\n",
      "128\n",
      "128\n",
      "128\n",
      "128\n",
      "128\n",
      "128\n",
      "128\n",
      "128\n",
      "128\n",
      "128\n",
      "128\n",
      "128\n",
      "128\n",
      "128\n",
      "128\n",
      "128\n",
      "128\n",
      "128\n",
      "128\n",
      "128\n",
      "128\n",
      "128\n",
      "128\n",
      "128\n",
      "128\n",
      "128\n",
      "128\n",
      "128\n",
      "128\n",
      "128\n",
      "128\n",
      "128\n",
      "128\n",
      "128\n",
      "128\n",
      "128\n",
      "128\n",
      "128\n",
      "128\n",
      "128\n",
      "128\n",
      "128\n",
      "128\n",
      "128\n",
      "128\n",
      "128\n",
      "128\n",
      "128\n",
      "128\n",
      "128\n",
      "128\n",
      "128\n",
      "128\n",
      "128\n",
      "128\n",
      "128\n",
      "128\n",
      "128\n",
      "128\n",
      "128\n",
      "128\n",
      "128\n",
      "128\n",
      "128\n",
      "128\n",
      "128\n",
      "128\n",
      "128\n",
      "128\n",
      "128\n",
      "128\n",
      "128\n",
      "128\n",
      "128\n",
      "128\n",
      "128\n",
      "128\n",
      "128\n",
      "128\n",
      "128\n",
      "128\n",
      "128\n",
      "128\n",
      "128\n",
      "128\n",
      "128\n",
      "128\n",
      "128\n",
      "128\n",
      "128\n",
      "128\n",
      "128\n",
      "128\n",
      "128\n",
      "128\n",
      "128\n",
      "128\n",
      "128\n",
      "128\n",
      "128\n",
      "128\n",
      "128\n",
      "128\n",
      "128\n",
      "128\n",
      "128\n",
      "128\n",
      "128\n",
      "128\n",
      "128\n",
      "128\n",
      "128\n",
      "128\n",
      "748\n"
     ]
    }
   ],
   "source": [
    "embeddingvectors = []\n",
    "x = 0\n",
    "print(len(allpaperidstr))#688\n",
    "for ids in allpaperidstr:\n",
    "    f2 = open(r'/Users/carina/Downloads/刘嘉莹/异常引用补充实验/sourcecode/ANCI_code/dataset/data/allPaperAbstracts-doc2vec-Embedding-128.txt','r')\n",
    "    for line in f2:\n",
    "        line = line.strip().split('\\t')\n",
    "        if line[0] == ids:\n",
    "            x+=1\n",
    "            vectors = line[1].split(' ')\n",
    "\n",
    "            embeddingvectors.append(vectors[0:129]) #str\n",
    "            print(len(vectors))\n",
    "            \n",
    "f2.close()\n",
    "print(x)#688"
   ]
  },
  {
   "cell_type": "code",
   "execution_count": 124,
   "id": "e46971a7",
   "metadata": {
    "ExecuteTime": {
     "end_time": "2023-02-25T03:14:24.765841Z",
     "start_time": "2023-02-25T03:14:24.739462Z"
    }
   },
   "outputs": [],
   "source": [
    "f=open(r\"/Users/carina/Downloads/刘嘉莹/异常引用补充实验/sourcecode/ANCI_code/dataset/data/coauthor/matrix/abstract2vec.txt\",\"w\")\n",
    " \n",
    "for line in embeddingvectors:\n",
    "    for item in line:\n",
    "        f.write(item + ' ')\n",
    "    f.write('\\n')\n",
    "f.close()"
   ]
  },
  {
   "cell_type": "markdown",
   "id": "3ad1bc6b",
   "metadata": {},
   "source": [
    "# journal IF matrix"
   ]
  },
  {
   "cell_type": "code",
   "execution_count": 100,
   "id": "317fd67f",
   "metadata": {
    "ExecuteTime": {
     "end_time": "2023-02-25T01:28:16.115053Z",
     "start_time": "2023-02-25T01:28:09.868001Z"
    }
   },
   "outputs": [
    {
     "name": "stdout",
     "output_type": "stream",
     "text": [
      "292\n"
     ]
    },
    {
     "name": "stderr",
     "output_type": "stream",
     "text": [
      "7623it [00:00, 1125974.76it/s]\n",
      "7623it [00:00, 860280.35it/s]\n",
      "7623it [00:00, 1181522.46it/s]\n",
      "7623it [00:00, 1012354.10it/s]\n",
      "7623it [00:00, 947213.14it/s]\n",
      "7623it [00:00, 1008204.19it/s]\n",
      "7623it [00:00, 1041539.49it/s]\n",
      "7623it [00:00, 926382.90it/s]\n",
      "7623it [00:00, 1065098.08it/s]\n",
      "7623it [00:00, 873894.54it/s]\n",
      "7623it [00:00, 951809.34it/s]\n",
      "7623it [00:00, 1095534.67it/s]\n",
      "7623it [00:00, 945057.32it/s]\n",
      "7623it [00:00, 1052337.80it/s]\n",
      "7623it [00:00, 952631.75it/s]\n",
      "7623it [00:00, 1117201.14it/s]\n",
      "7623it [00:00, 933523.49it/s]\n",
      "7623it [00:00, 971091.25it/s]\n",
      "7623it [00:00, 1099717.25it/s]\n",
      "7623it [00:00, 1007664.02it/s]\n",
      "7623it [00:00, 1132676.04it/s]\n",
      "7623it [00:00, 897366.81it/s]\n",
      "7623it [00:00, 1077917.18it/s]\n",
      "7623it [00:00, 911280.27it/s]\n",
      "7623it [00:00, 988963.17it/s]\n",
      "7623it [00:00, 966511.88it/s]\n",
      "7623it [00:00, 941578.45it/s]\n",
      "7623it [00:00, 1067944.13it/s]\n",
      "7623it [00:00, 854303.94it/s]\n",
      "7623it [00:00, 1040929.14it/s]\n",
      "7623it [00:00, 1100625.80it/s]\n",
      "7623it [00:00, 447966.76it/s]\n",
      "7623it [00:00, 1156939.48it/s]\n",
      "7623it [00:00, 878022.23it/s]\n",
      "7623it [00:00, 972656.95it/s]\n",
      "7623it [00:00, 1005287.83it/s]\n",
      "7623it [00:00, 1025142.82it/s]\n",
      "7623it [00:00, 1139620.02it/s]\n",
      "7623it [00:00, 949660.79it/s]\n",
      "7623it [00:00, 891660.98it/s]\n",
      "7623it [00:00, 1116459.93it/s]\n",
      "7623it [00:00, 976936.55it/s]\n",
      "7623it [00:00, 1002639.76it/s]\n",
      "7623it [00:00, 957538.84it/s]\n",
      "7623it [00:00, 1064070.13it/s]\n",
      "7623it [00:00, 972065.53it/s]\n",
      "7623it [00:00, 1011681.41it/s]\n",
      "7623it [00:00, 937987.48it/s]\n",
      "7623it [00:00, 982731.81it/s]\n",
      "7623it [00:00, 1030561.79it/s]\n",
      "7623it [00:00, 1061068.58it/s]\n",
      "7623it [00:00, 1016247.52it/s]\n",
      "7623it [00:00, 942299.94it/s]\n",
      "7623it [00:00, 1014216.63it/s]\n",
      "7623it [00:00, 997385.26it/s]\n",
      "7623it [00:00, 900957.49it/s]\n",
      "7623it [00:00, 952518.23it/s]\n",
      "7623it [00:00, 986187.33it/s]\n",
      "7623it [00:00, 995552.98it/s]\n",
      "7623it [00:00, 1056545.48it/s]\n",
      "7623it [00:00, 919403.59it/s]\n",
      "7623it [00:00, 993603.88it/s]\n",
      "7623it [00:00, 1104961.96it/s]\n",
      "7623it [00:00, 973189.85it/s]\n",
      "7623it [00:00, 952631.75it/s]\n",
      "7623it [00:00, 975952.49it/s]\n",
      "7623it [00:00, 1060364.79it/s]\n",
      "7623it [00:00, 1083763.11it/s]\n",
      "7623it [00:00, 969354.21it/s]\n",
      "7623it [00:00, 988718.52it/s]\n",
      "7623it [00:00, 928400.34it/s]\n",
      "7623it [00:00, 953825.35it/s]\n",
      "7623it [00:00, 924347.48it/s]\n",
      "7623it [00:00, 1124865.59it/s]\n",
      "7623it [00:00, 962380.86it/s]\n",
      "7623it [00:00, 1020920.22it/s]\n",
      "7623it [00:00, 1032792.15it/s]\n",
      "7623it [00:00, 948252.55it/s]\n",
      "7623it [00:00, 996483.81it/s]\n",
      "7623it [00:00, 960559.38it/s]\n",
      "7623it [00:00, 1059802.43it/s]\n",
      "7623it [00:00, 990004.32it/s]\n",
      "7623it [00:00, 971238.74it/s]\n",
      "7623it [00:00, 1076864.35it/s]\n",
      "7623it [00:00, 988443.42it/s]\n",
      "7623it [00:00, 975684.45it/s]\n",
      "7623it [00:00, 942633.31it/s]\n",
      "7623it [00:00, 1014377.52it/s]\n",
      "7623it [00:00, 995459.99it/s]\n",
      "7623it [00:00, 986004.85it/s]\n",
      "7623it [00:00, 1007791.07it/s]\n",
      "7623it [00:00, 979570.45it/s]\n",
      "7623it [00:00, 993881.86it/s]\n",
      "7623it [00:00, 857396.67it/s]\n",
      "7623it [00:00, 1063645.36it/s]\n",
      "7623it [00:00, 1103970.01it/s]\n",
      "7623it [00:00, 1064530.69it/s]\n",
      "7623it [00:00, 1064849.78it/s]\n",
      "7623it [00:00, 978072.17it/s]\n",
      "7623it [00:00, 1038292.50it/s]\n",
      "7623it [00:00, 943105.99it/s]\n",
      "7623it [00:00, 1033927.67it/s]\n",
      "7623it [00:00, 1011393.39it/s]\n",
      "7623it [00:00, 1010051.47it/s]\n",
      "7623it [00:00, 1004340.49it/s]\n",
      "7623it [00:00, 942494.38it/s]\n",
      "7623it [00:00, 1059767.30it/s]\n",
      "7623it [00:00, 1122338.51it/s]\n",
      "7623it [00:00, 927484.68it/s]\n",
      "7623it [00:00, 1015956.89it/s]\n",
      "7623it [00:00, 1093249.65it/s]\n",
      "7623it [00:00, 1016829.26it/s]\n",
      "7623it [00:00, 1099830.74it/s]\n",
      "7623it [00:00, 1025438.72it/s]\n",
      "7623it [00:00, 1003017.20it/s]\n",
      "7623it [00:00, 988046.33it/s]\n",
      "7623it [00:00, 1153766.58it/s]\n",
      "7623it [00:00, 1145786.75it/s]\n",
      "7623it [00:00, 1126371.43it/s]\n",
      "7623it [00:00, 1153766.58it/s]\n",
      "7623it [00:00, 1097942.36it/s]\n",
      "7623it [00:00, 1152394.28it/s]\n",
      "7623it [00:00, 1064530.69it/s]\n",
      "7623it [00:00, 1137390.32it/s]\n",
      "7623it [00:00, 1043408.92it/s]\n",
      "7623it [00:00, 1155517.87it/s]\n",
      "7623it [00:00, 1049264.22it/s]\n",
      "7623it [00:00, 1081014.96it/s]\n",
      "7623it [00:00, 1056964.61it/s]\n",
      "7623it [00:00, 1027514.84it/s]\n",
      "7623it [00:00, 1009955.76it/s]\n",
      "7623it [00:00, 1071882.38it/s]\n",
      "7623it [00:00, 1079591.42it/s]\n",
      "7623it [00:00, 1018546.06it/s]\n",
      "7623it [00:00, 1122338.51it/s]\n",
      "7623it [00:00, 1069587.51it/s]\n",
      "7623it [00:00, 1124035.13it/s]\n",
      "7623it [00:00, 1000913.45it/s]\n",
      "7623it [00:00, 1121197.16it/s]\n",
      "7623it [00:00, 1055673.37it/s]\n",
      "7623it [00:00, 1112497.54it/s]\n",
      "7623it [00:00, 1000537.60it/s]\n",
      "7623it [00:00, 1137592.66it/s]\n",
      "7623it [00:00, 492341.96it/s]\n",
      "7623it [00:00, 953939.18it/s]\n",
      "7623it [00:00, 878311.66it/s]\n",
      "7623it [00:00, 899436.80it/s]\n",
      "7623it [00:00, 1133037.29it/s]\n",
      "7623it [00:00, 978551.12it/s]\n",
      "7623it [00:00, 1089932.82it/s]\n",
      "7623it [00:00, 1002231.19it/s]\n",
      "7623it [00:00, 1038292.50it/s]\n",
      "7623it [00:00, 979330.42it/s]\n",
      "7623it [00:00, 1034630.28it/s]\n",
      "7623it [00:00, 1171865.54it/s]\n",
      "7623it [00:00, 1015827.78it/s]\n",
      "7623it [00:00, 1057139.34it/s]\n",
      "7623it [00:00, 1068550.88it/s]\n",
      "7623it [00:00, 1143942.02it/s]\n",
      "7623it [00:00, 974435.55it/s]\n",
      "7623it [00:00, 1033526.62it/s]\n",
      "7623it [00:00, 920223.90it/s]\n",
      "7623it [00:00, 1055359.76it/s]\n",
      "7623it [00:00, 1003174.55it/s]\n",
      "7623it [00:00, 1124509.53it/s]\n",
      "7623it [00:00, 1116420.94it/s]\n",
      "7623it [00:00, 1079117.74it/s]\n",
      "7623it [00:00, 1122890.33it/s]\n",
      "7623it [00:00, 1043954.01it/s]\n",
      "7623it [00:00, 1125935.11it/s]\n",
      "7623it [00:00, 973930.96it/s]\n",
      "7623it [00:00, 1051853.12it/s]\n",
      "7623it [00:00, 944024.90it/s]\n",
      "7623it [00:00, 967769.82it/s]\n",
      "7623it [00:00, 1228934.14it/s]\n",
      "7623it [00:00, 1031027.04it/s]\n",
      "7623it [00:00, 1120568.44it/s]\n",
      "7623it [00:00, 1005287.83it/s]\n",
      "7623it [00:00, 1029201.68it/s]\n",
      "7623it [00:00, 1044397.31it/s]\n",
      "7623it [00:00, 1049539.76it/s]\n",
      "7623it [00:00, 957452.82it/s]\n",
      "7623it [00:00, 1052337.80it/s]\n",
      "7623it [00:00, 1135249.94it/s]\n",
      "7623it [00:00, 1155476.11it/s]\n",
      "7623it [00:00, 1165925.66it/s]\n",
      "7623it [00:00, 1108755.40it/s]\n",
      "7623it [00:00, 1098055.48it/s]\n",
      "7623it [00:00, 1099982.09it/s]\n",
      "7623it [00:00, 1164566.72it/s]\n",
      "7623it [00:00, 1017767.93it/s]\n",
      "7623it [00:00, 1069587.51it/s]\n",
      "7623it [00:00, 1076864.35it/s]\n",
      "7623it [00:00, 1101535.84it/s]\n",
      "7623it [00:00, 952036.07it/s]\n",
      "7623it [00:00, 1070805.43it/s]\n",
      "7623it [00:00, 1099225.75it/s]\n",
      "7623it [00:00, 1119861.98it/s]\n",
      "7623it [00:00, 1126649.26it/s]\n",
      "7623it [00:00, 1052614.96it/s]\n",
      "7623it [00:00, 1092763.92it/s]\n",
      "7623it [00:00, 1022781.72it/s]\n",
      "7623it [00:00, 1003394.93it/s]\n",
      "7623it [00:00, 988687.94it/s]\n",
      "7623it [00:00, 1172725.18it/s]\n",
      "7623it [00:00, 1018448.73it/s]\n",
      "7623it [00:00, 1107027.89it/s]\n",
      "7623it [00:00, 1007124.43it/s]\n",
      "7623it [00:00, 1088819.32it/s]\n",
      "7623it [00:00, 1111376.11it/s]\n",
      "7623it [00:00, 1081746.44it/s]\n",
      "7623it [00:00, 1062443.66it/s]\n",
      "7623it [00:00, 1041369.88it/s]\n",
      "7623it [00:00, 1031825.58it/s]\n",
      "7623it [00:00, 1061561.78it/s]\n",
      "7623it [00:00, 1066163.57it/s]\n",
      "7623it [00:00, 972331.58it/s]\n",
      "7623it [00:00, 989759.14it/s]\n",
      "7623it [00:00, 1086340.70it/s]\n",
      "7623it [00:00, 941578.45it/s]\n",
      "7623it [00:00, 1028473.35it/s]\n",
      "7623it [00:00, 1038697.27it/s]\n",
      "7623it [00:00, 1025734.80it/s]\n",
      "7623it [00:00, 1039845.82it/s]\n",
      "7623it [00:00, 948224.43it/s]\n",
      "7623it [00:00, 992431.93it/s]\n",
      "7623it [00:00, 1126292.07it/s]\n",
      "7623it [00:00, 1101422.01it/s]\n",
      "7623it [00:00, 973426.88it/s]\n",
      "7623it [00:00, 1075632.61it/s]\n",
      "7623it [00:00, 1048129.14it/s]\n",
      "7623it [00:00, 1032491.99it/s]\n",
      "7623it [00:00, 966044.64it/s]\n",
      "7623it [00:00, 1015601.91it/s]\n",
      "7623it [00:00, 1105726.22it/s]\n",
      "7623it [00:00, 1095759.94it/s]\n",
      "7623it [00:00, 1156395.51it/s]\n",
      "7623it [00:00, 1051749.32it/s]\n",
      "7623it [00:00, 1145294.24it/s]\n",
      "7623it [00:00, 1040387.20it/s]\n",
      "7623it [00:00, 1088819.32it/s]\n",
      "7623it [00:00, 1042116.60it/s]\n",
      "7623it [00:00, 1010051.47it/s]\n",
      "7623it [00:00, 990740.56it/s]\n",
      "7623it [00:00, 1076393.06it/s]\n",
      "7623it [00:00, 980712.21it/s]\n",
      "7623it [00:00, 989361.00it/s]\n",
      "7623it [00:00, 1124786.44it/s]\n",
      "7623it [00:00, 1085418.73it/s]\n",
      "7623it [00:00, 1153059.23it/s]\n",
      "7623it [00:00, 968473.36it/s]\n",
      "7623it [00:00, 1045216.72it/s]\n",
      "7623it [00:00, 676881.60it/s]\n",
      "7623it [00:00, 787497.34it/s]\n",
      "7623it [00:00, 991908.52it/s]\n",
      "7623it [00:00, 919985.60it/s]\n",
      "7623it [00:00, 989207.95it/s]\n",
      "7623it [00:00, 1085713.59it/s]\n",
      "7623it [00:00, 1032491.99it/s]\n",
      "7623it [00:00, 1008077.04it/s]\n",
      "7623it [00:00, 954508.74it/s]\n",
      "7623it [00:00, 948365.05it/s]\n",
      "7623it [00:00, 843530.48it/s]\n",
      "7623it [00:00, 842596.83it/s]\n",
      "7623it [00:00, 937987.48it/s]\n",
      "7623it [00:00, 854372.43it/s]\n",
      "7623it [00:00, 923119.86it/s]\n"
     ]
    },
    {
     "name": "stderr",
     "output_type": "stream",
     "text": [
      "7623it [00:00, 977563.81it/s]\n",
      "7623it [00:00, 808036.07it/s]\n",
      "7623it [00:00, 953114.51it/s]\n",
      "7623it [00:00, 968620.05it/s]\n",
      "7623it [00:00, 872701.90it/s]\n",
      "7623it [00:00, 1001164.18it/s]\n",
      "7623it [00:00, 1025833.53it/s]\n",
      "7623it [00:00, 886912.05it/s]\n",
      "7623it [00:00, 966774.90it/s]\n",
      "7623it [00:00, 905242.90it/s]\n",
      "7623it [00:00, 1041539.49it/s]\n",
      "7623it [00:00, 934888.29it/s]\n",
      "7623it [00:00, 886592.34it/s]\n",
      "7623it [00:00, 1041132.51it/s]\n",
      "7623it [00:00, 923439.79it/s]\n",
      "7623it [00:00, 961021.32it/s]\n",
      "7623it [00:00, 825093.01it/s]\n",
      "7623it [00:00, 869900.13it/s]\n",
      "7623it [00:00, 1036407.76it/s]\n",
      "7623it [00:00, 922533.89it/s]\n",
      "7623it [00:00, 984456.54it/s]\n",
      "7623it [00:00, 1000005.61it/s]\n",
      "7623it [00:00, 837257.24it/s]\n",
      "7623it [00:00, 955278.74it/s]\n",
      "7623it [00:00, 1056685.15it/s]\n"
     ]
    },
    {
     "name": "stdout",
     "output_type": "stream",
     "text": [
      "292\n",
      "292\n"
     ]
    }
   ],
   "source": [
    "df = pd.read_excel(io='/Users/carina/Downloads/刘嘉莹/异常引用补充实验/sourcecode/ANCI_code/dataset/data/if2017.xlsx')\n",
    "Full_Title = df['Full Title'].str.lower()\n",
    "IF = df['IF 2016-2017']\n",
    "Full_Title = list(Full_Title)\n",
    "IF = list(IF)\n",
    "\n",
    "alljournalnames = []\n",
    "print(len(alljournal)) #292\n",
    "for jj in alljournal:\n",
    "    f = open(r'/Users/carina/Downloads/刘嘉莹/异常引用补充实验/sourcecode/ANCI_code/dataset/data/coauthor/processed/selectedJournals.txt','r')\n",
    "    for line in tqdm(f) :\n",
    "        line = line.strip().split('\\t')\n",
    "        if line[0] == jj:\n",
    "            alljournalnames.append(line[1])\n",
    "print(len(alljournalnames))\n",
    "\n",
    "IF_journal = []\n",
    "for name in alljournalnames:\n",
    "    for title,ifs in zip(Full_Title,IF):\n",
    "        if title == name:\n",
    "            i = Full_Title.index(title)\n",
    "            score = IF[i]\n",
    "            IF_journal.append(score)\n",
    "print(len(IF_journal)) #292 "
   ]
  },
  {
   "cell_type": "code",
   "execution_count": 102,
   "id": "fb149c6e",
   "metadata": {
    "ExecuteTime": {
     "end_time": "2023-02-25T01:29:02.096301Z",
     "start_time": "2023-02-25T01:29:02.091805Z"
    }
   },
   "outputs": [],
   "source": [
    "\n",
    "f=open(\"/Users/carina/Downloads/刘嘉莹/异常引用补充实验/sourcecode/ANCI_code/dataset/data/coauthor/matrix/IFS.txt\",\"w\")\n",
    " \n",
    "for line in IF_journal:\n",
    "    f.write(str(line))\n",
    "    f.write('\\n')\n",
    "f.close()"
   ]
  },
  {
   "cell_type": "markdown",
   "id": "aff1e4b4",
   "metadata": {},
   "source": [
    "# author credit matrix"
   ]
  },
  {
   "cell_type": "code",
   "execution_count": 106,
   "id": "cf7bf912",
   "metadata": {
    "ExecuteTime": {
     "end_time": "2023-02-25T01:37:44.065090Z",
     "start_time": "2023-02-25T01:37:44.042886Z"
    }
   },
   "outputs": [],
   "source": [
    "#author credit\n",
    "df = pd.read_csv('/Users/carina/Downloads/刘嘉莹/异常引用补充实验/sourcecode/ANCI_code/dataset/data/inputTable.csv')\n",
    "df_annomous = df.loc[df['label_ifAbnormal'] == 1]\n",
    "dfa = []\n",
    "dfb = []\n",
    "dfa = df_annomous['paperA'].unique()\n",
    "dfb = df_annomous['paperB'].unique()\n",
    "creditpapers = []\n",
    "creditpapers = list(dfa) + list(dfb) #int\n",
    "creditpapers = sorted(set(creditpapers),key = creditpapers.index)\n",
    "creditpaperstr = [str(x) for x in creditpapers]"
   ]
  },
  {
   "cell_type": "code",
   "execution_count": 107,
   "id": "4fdd5a56",
   "metadata": {
    "ExecuteTime": {
     "end_time": "2023-02-25T02:14:05.826343Z",
     "start_time": "2023-02-25T01:37:54.766676Z"
    }
   },
   "outputs": [
    {
     "name": "stderr",
     "output_type": "stream",
     "text": [
      "455999370it [36:11, 210036.11it/s]"
     ]
    },
    {
     "name": "stdout",
     "output_type": "stream",
     "text": [
      "2014\n"
     ]
    },
    {
     "name": "stderr",
     "output_type": "stream",
     "text": [
      "\n"
     ]
    }
   ],
   "source": [
    "annmousauthors = []\n",
    "f = open(r'/Users/carina/Downloads/刘嘉莹/异常引用补充实验/sourcecode/ANCI_code/dataset/data/PaperAuthorAffiliations.txt','r')\n",
    "\n",
    "for line in tqdm(f):\n",
    "    line = line.split('\\t')\n",
    "    if line[0] in creditpaperstr:\n",
    "        annmousauthors.append(line[1]) #str\n",
    "\n",
    "f.close()\n",
    "print(len(annmousauthors)) #2014"
   ]
  },
  {
   "cell_type": "code",
   "execution_count": 108,
   "id": "b3ccd9c5",
   "metadata": {
    "ExecuteTime": {
     "end_time": "2023-02-25T02:22:59.689954Z",
     "start_time": "2023-02-25T02:22:59.685587Z"
    }
   },
   "outputs": [
    {
     "name": "stdout",
     "output_type": "stream",
     "text": [
      "1779\n"
     ]
    }
   ],
   "source": [
    "annmousauthorslist = sorted(set(annmousauthors))\n",
    "print(len(annmousauthorslist)) #1779"
   ]
  },
  {
   "cell_type": "code",
   "execution_count": 109,
   "id": "75211334",
   "metadata": {
    "ExecuteTime": {
     "end_time": "2023-02-25T02:23:07.135898Z",
     "start_time": "2023-02-25T02:23:07.009446Z"
    }
   },
   "outputs": [
    {
     "name": "stdout",
     "output_type": "stream",
     "text": [
      "3398\n",
      "131\n"
     ]
    }
   ],
   "source": [
    "matrixcredic = [[1 for i in range(2)] for j in range(len(allauthor))]\n",
    "#matrixcredic.shape\n",
    "i = 0\n",
    "h = 0\n",
    "for i in range(len(allauthor)):\n",
    "    matrixcredic[i][0] = allauthor[i]\n",
    "    i += 1\n",
    "for item in matrixcredic:\n",
    "    if str(item[0]) in annmousauthors:\n",
    "        item[1] = 0\n",
    "        h += 1\n",
    "credit = []\n",
    "for item in matrixcredic:\n",
    "    credit.append(item[1])#int\n",
    "print(len(credit)) #3398\n",
    "print(h) #131"
   ]
  },
  {
   "cell_type": "code",
   "execution_count": 110,
   "id": "35c54dda",
   "metadata": {
    "ExecuteTime": {
     "end_time": "2023-02-25T02:23:20.890545Z",
     "start_time": "2023-02-25T02:23:20.883293Z"
    }
   },
   "outputs": [],
   "source": [
    "creditstr = [str(x) for x in credit]\n",
    "f=open(\"/Users/carina/Downloads/刘嘉莹/异常引用补充实验/sourcecode/ANCI_code/dataset/data/coauthor/matrix/authorcredit.txt\",\"w\")\n",
    " \n",
    "for line in creditstr:\n",
    "    f.write(line)\n",
    "    f.write('\\n')\n",
    "f.close()"
   ]
  },
  {
   "cell_type": "markdown",
   "id": "c89a7ccf",
   "metadata": {},
   "source": [
    "# journal paper matrix"
   ]
  },
  {
   "cell_type": "code",
   "execution_count": 112,
   "id": "e298a6f9",
   "metadata": {
    "ExecuteTime": {
     "end_time": "2023-02-25T02:24:12.322692Z",
     "start_time": "2023-02-25T02:24:12.179593Z"
    }
   },
   "outputs": [],
   "source": [
    "journalpapermatrix = [[0 for i in range(len(allpaperidstr))] for j in range(len(alljournal))]\n",
    "\n",
    "for ids,js in zip(allpaperidstr,alljournal):\n",
    "    j = allpaperidstr.index(ids)\n",
    "    f = open(r'/Users/carina/Downloads/刘嘉莹/异常引用补充实验/sourcecode/ANCI_code/dataset/data/coauthor/processed/allpaperid.txtpaperjournal.txt', 'r')\n",
    "    for line in f:\n",
    "        line = line.strip().split(' ')\n",
    "        if line[0] == ids:\n",
    "            i = alljournal.index(js)\n",
    "            journalpapermatrix[i][j] = 1"
   ]
  },
  {
   "cell_type": "code",
   "execution_count": 113,
   "id": "bcd2b03b",
   "metadata": {
    "ExecuteTime": {
     "end_time": "2023-02-25T02:24:16.092200Z",
     "start_time": "2023-02-25T02:24:15.999083Z"
    }
   },
   "outputs": [],
   "source": [
    "f=open(r\"/Users/carina/Downloads/刘嘉莹/异常引用补充实验/sourcecode/ANCI_code/dataset/data/coauthor/matrix/journalpaper.txt\",\"w\")\n",
    " \n",
    "for line in journalpapermatrix:\n",
    "    for item in line:\n",
    "        f.write(str(item)+ ' ')\n",
    "    f.write('\\n')\n",
    "f.close()"
   ]
  },
  {
   "cell_type": "markdown",
   "id": "7e6d69c2",
   "metadata": {},
   "source": [
    "# author author matrix"
   ]
  },
  {
   "cell_type": "code",
   "execution_count": 114,
   "id": "0f0cb646",
   "metadata": {
    "ExecuteTime": {
     "end_time": "2023-02-25T02:24:35.827520Z",
     "start_time": "2023-02-25T02:24:32.738243Z"
    }
   },
   "outputs": [],
   "source": [
    "coauthormatrix = [[0 for i in range(len(allauthor))] for j in range(len(allauthor))]\n",
    "for paperid in allpaperidstr:\n",
    "    authors = []\n",
    "    f = open(r'/Users/carina/Downloads/刘嘉莹/异常引用补充实验/sourcecode/ANCI_code/dataset/data/coauthor/processed/paperauthor.txt', 'r')\n",
    "    for line in f:\n",
    "        line = line.strip().split(' ')\n",
    "        if line[0] == paperid:\n",
    "            authors.append(line[1])\n",
    "    for author1 in authors:\n",
    "        i = allauthor.index(author1)\n",
    "        for author2 in authors:\n",
    "            j = allauthor.index(author2)\n",
    "            coauthormatrix[i][j] += 1"
   ]
  },
  {
   "cell_type": "code",
   "execution_count": 115,
   "id": "775efd91",
   "metadata": {
    "ExecuteTime": {
     "end_time": "2023-02-25T02:24:44.269861Z",
     "start_time": "2023-02-25T02:24:40.278698Z"
    }
   },
   "outputs": [],
   "source": [
    "f=open(r\"/Users/carina/Downloads/刘嘉莹/异常引用补充实验/sourcecode/ANCI_code/dataset/data/coauthor/matrix/authorauthor.txt\",\"w\")\n",
    " \n",
    "for line in coauthormatrix:\n",
    "    for item in line:\n",
    "        f.write(str(item)+ ' ')\n",
    "    f.write('\\n')\n",
    "f.close()"
   ]
  },
  {
   "cell_type": "markdown",
   "id": "91735c2d",
   "metadata": {},
   "source": [
    "# author paper matrix"
   ]
  },
  {
   "cell_type": "code",
   "execution_count": 116,
   "id": "eba7c0e6",
   "metadata": {
    "ExecuteTime": {
     "end_time": "2023-02-25T02:24:48.263747Z",
     "start_time": "2023-02-25T02:24:48.259457Z"
    }
   },
   "outputs": [
    {
     "name": "stdout",
     "output_type": "stream",
     "text": [
      "504\n",
      "504\n",
      "330\n"
     ]
    }
   ],
   "source": [
    "print(len(citingpaperid)) #504\n",
    "print(len(citedpaperid))#504\n",
    "print(len(citinginfo1))#330"
   ]
  },
  {
   "cell_type": "code",
   "execution_count": 120,
   "id": "f47ce4e3",
   "metadata": {
    "ExecuteTime": {
     "end_time": "2023-02-25T02:29:45.605733Z",
     "start_time": "2023-02-25T02:29:44.322085Z"
    }
   },
   "outputs": [],
   "source": [
    "authorpapermatrix = [[0 for i in range(len(allpaperidstr))] for j in range(len(allauthor))]\n",
    "allpaperid = [int(x) for x in allpaperid]\n",
    "for a,b in zip(citingpaperid,citedpaperid):\n",
    "    j = allpaperid.index(b)\n",
    "    author = []\n",
    "    f = open(r'/Users/carina/Downloads/刘嘉莹/异常引用补充实验/sourcecode/ANCI_code/dataset/data/coauthor/processed/paperauthor.txt', 'r')\n",
    "    for line in f:\n",
    "        line = line.strip().split(' ')\n",
    "        if int(line[0]) == a:\n",
    "            author.append(line[1])\n",
    "    for au in author:\n",
    "        i = allauthor.index(au)\n",
    "        authorpapermatrix[i][j] = 1\n",
    "    \n",
    "f.close()"
   ]
  },
  {
   "cell_type": "code",
   "execution_count": 121,
   "id": "1578cd84",
   "metadata": {
    "ExecuteTime": {
     "end_time": "2023-02-25T02:29:51.201341Z",
     "start_time": "2023-02-25T02:29:50.337117Z"
    }
   },
   "outputs": [
    {
     "name": "stderr",
     "output_type": "stream",
     "text": [
      "100%|█████████████████████████████████████| 3398/3398 [00:00<00:00, 3971.06it/s]\n"
     ]
    }
   ],
   "source": [
    "f=open(r\"/Users/carina/Downloads/刘嘉莹/异常引用补充实验/sourcecode/ANCI_code/dataset/data/coauthor/matrix/authorpaper.txt\",\"w\")\n",
    " \n",
    "for line in tqdm(authorpapermatrix):\n",
    "    for item in line:\n",
    "        f.write(str(item)+' ')\n",
    "    f.write('\\n')\n",
    "f.close()"
   ]
  },
  {
   "cell_type": "markdown",
   "id": "e2a799e7",
   "metadata": {},
   "source": [
    "# 计算引用链接数量和合作链接数量"
   ]
  },
  {
   "cell_type": "code",
   "execution_count": 135,
   "id": "61a7cb91",
   "metadata": {
    "ExecuteTime": {
     "end_time": "2023-02-25T23:03:51.259516Z",
     "start_time": "2023-02-25T23:03:51.238567Z"
    }
   },
   "outputs": [
    {
     "data": {
      "text/plain": [
       "3246"
      ]
     },
     "execution_count": 135,
     "metadata": {},
     "output_type": "execute_result"
    }
   ],
   "source": [
    "sum(map(sum,authorpapermatrix)) #引用链接数量"
   ]
  },
  {
   "cell_type": "code",
   "execution_count": 136,
   "id": "dc979c79",
   "metadata": {
    "ExecuteTime": {
     "end_time": "2023-02-25T23:03:52.060189Z",
     "start_time": "2023-02-25T23:03:51.988275Z"
    }
   },
   "outputs": [
    {
     "data": {
      "text/plain": [
       "41951"
      ]
     },
     "execution_count": 136,
     "metadata": {},
     "output_type": "execute_result"
    }
   ],
   "source": [
    "sum(map(sum,coauthormatrix))#合作链接数量"
   ]
  },
  {
   "cell_type": "code",
   "execution_count": 137,
   "id": "0468e06a",
   "metadata": {
    "ExecuteTime": {
     "end_time": "2023-02-25T23:04:33.745635Z",
     "start_time": "2023-02-25T23:04:33.740031Z"
    }
   },
   "outputs": [
    {
     "name": "stdout",
     "output_type": "stream",
     "text": [
      "4729\n"
     ]
    }
   ],
   "source": [
    "s = 0\n",
    "for i in range(len(allauthor)):\n",
    "    s += coauthormatrix[i][i]\n",
    "    i += 1\n",
    "print(s)"
   ]
  },
  {
   "cell_type": "code",
   "execution_count": 138,
   "id": "65c3ff0c",
   "metadata": {
    "ExecuteTime": {
     "end_time": "2023-02-25T23:05:15.789300Z",
     "start_time": "2023-02-25T23:05:15.701090Z"
    }
   },
   "outputs": [
    {
     "data": {
      "text/plain": [
       "18611.0"
      ]
     },
     "execution_count": 138,
     "metadata": {},
     "output_type": "execute_result"
    }
   ],
   "source": [
    "h = (sum(map(sum,coauthormatrix)) - s)/2\n",
    "h"
   ]
  },
  {
   "cell_type": "code",
   "execution_count": null,
   "id": "068de7a2",
   "metadata": {},
   "outputs": [],
   "source": []
  }
 ],
 "metadata": {
  "kernelspec": {
   "display_name": "Python 3 (ipykernel)",
   "language": "python",
   "name": "python3"
  },
  "language_info": {
   "codemirror_mode": {
    "name": "ipython",
    "version": 3
   },
   "file_extension": ".py",
   "mimetype": "text/x-python",
   "name": "python",
   "nbconvert_exporter": "python",
   "pygments_lexer": "ipython3",
   "version": "3.8.3"
  },
  "toc": {
   "base_numbering": 1,
   "nav_menu": {},
   "number_sections": true,
   "sideBar": true,
   "skip_h1_title": false,
   "title_cell": "Table of Contents",
   "title_sidebar": "Contents",
   "toc_cell": false,
   "toc_position": {},
   "toc_section_display": true,
   "toc_window_display": false
  }
 },
 "nbformat": 4,
 "nbformat_minor": 5
}
