{
 "cells": [
  {
   "cell_type": "code",
   "execution_count": 1,
   "id": "59046a4d",
   "metadata": {
    "ExecuteTime": {
     "end_time": "2023-02-26T12:12:27.195335Z",
     "start_time": "2023-02-26T12:12:26.769422Z"
    }
   },
   "outputs": [],
   "source": [
    "import csv\n",
    "import pandas as pd\n",
    "import random\n",
    "import re\n",
    "import time\n",
    "from tqdm import tqdm, trange"
   ]
  },
  {
   "cell_type": "code",
   "execution_count": 2,
   "id": "e3999cab",
   "metadata": {
    "ExecuteTime": {
     "end_time": "2023-02-26T12:12:27.965383Z",
     "start_time": "2023-02-26T12:12:27.935911Z"
    }
   },
   "outputs": [
    {
     "data": {
      "text/html": [
       "<div>\n",
       "<style scoped>\n",
       "    .dataframe tbody tr th:only-of-type {\n",
       "        vertical-align: middle;\n",
       "    }\n",
       "\n",
       "    .dataframe tbody tr th {\n",
       "        vertical-align: top;\n",
       "    }\n",
       "\n",
       "    .dataframe thead th {\n",
       "        text-align: right;\n",
       "    }\n",
       "</style>\n",
       "<table border=\"1\" class=\"dataframe\">\n",
       "  <thead>\n",
       "    <tr style=\"text-align: right;\">\n",
       "      <th></th>\n",
       "      <th>paperA</th>\n",
       "      <th>paperB</th>\n",
       "      <th>A_firstAuthorInDegree</th>\n",
       "      <th>A_firstAuthorOutDegree</th>\n",
       "      <th>A_PaperOutDegree</th>\n",
       "      <th>abstractSim</th>\n",
       "      <th>notHasCitationPurpose</th>\n",
       "      <th>ifFirstAuthorInSameAffilaition</th>\n",
       "      <th>ifSameJournal</th>\n",
       "      <th>selfCite</th>\n",
       "      <th>citedPaperJournalTypeProportionInCitingPaperReferences</th>\n",
       "      <th>citedPaperFirstAuthorHasCiteCitingPaperFirstAuthorsPaper</th>\n",
       "      <th>citingPaperAuthorsPapersIntersectionCitedPaperAuthorsPapers</th>\n",
       "      <th>B_firstAuthorInDegree</th>\n",
       "      <th>B_firstAuthorOutDegree</th>\n",
       "      <th>B_PaperOutDegree</th>\n",
       "      <th>label_ifAbnormal</th>\n",
       "    </tr>\n",
       "  </thead>\n",
       "  <tbody>\n",
       "    <tr>\n",
       "      <th>0</th>\n",
       "      <td>2138715703</td>\n",
       "      <td>2007600326</td>\n",
       "      <td>0</td>\n",
       "      <td>171</td>\n",
       "      <td>28</td>\n",
       "      <td>0.637714</td>\n",
       "      <td>0.672244</td>\n",
       "      <td>0</td>\n",
       "      <td>0</td>\n",
       "      <td>0</td>\n",
       "      <td>0.027027</td>\n",
       "      <td>0</td>\n",
       "      <td>0</td>\n",
       "      <td>6</td>\n",
       "      <td>0</td>\n",
       "      <td>0</td>\n",
       "      <td>0</td>\n",
       "    </tr>\n",
       "    <tr>\n",
       "      <th>1</th>\n",
       "      <td>2138715703</td>\n",
       "      <td>2147617783</td>\n",
       "      <td>0</td>\n",
       "      <td>171</td>\n",
       "      <td>28</td>\n",
       "      <td>0.569197</td>\n",
       "      <td>0.723836</td>\n",
       "      <td>0</td>\n",
       "      <td>0</td>\n",
       "      <td>0</td>\n",
       "      <td>0.054054</td>\n",
       "      <td>0</td>\n",
       "      <td>0</td>\n",
       "      <td>10</td>\n",
       "      <td>0</td>\n",
       "      <td>0</td>\n",
       "      <td>0</td>\n",
       "    </tr>\n",
       "    <tr>\n",
       "      <th>2</th>\n",
       "      <td>2138715703</td>\n",
       "      <td>1966687480</td>\n",
       "      <td>0</td>\n",
       "      <td>171</td>\n",
       "      <td>28</td>\n",
       "      <td>0.473437</td>\n",
       "      <td>0.770526</td>\n",
       "      <td>0</td>\n",
       "      <td>0</td>\n",
       "      <td>0</td>\n",
       "      <td>0.027027</td>\n",
       "      <td>0</td>\n",
       "      <td>0</td>\n",
       "      <td>6</td>\n",
       "      <td>0</td>\n",
       "      <td>0</td>\n",
       "      <td>0</td>\n",
       "    </tr>\n",
       "    <tr>\n",
       "      <th>3</th>\n",
       "      <td>2138715703</td>\n",
       "      <td>2062460839</td>\n",
       "      <td>0</td>\n",
       "      <td>171</td>\n",
       "      <td>28</td>\n",
       "      <td>0.572876</td>\n",
       "      <td>0.651287</td>\n",
       "      <td>0</td>\n",
       "      <td>0</td>\n",
       "      <td>0</td>\n",
       "      <td>0.027027</td>\n",
       "      <td>0</td>\n",
       "      <td>0</td>\n",
       "      <td>6</td>\n",
       "      <td>0</td>\n",
       "      <td>0</td>\n",
       "      <td>0</td>\n",
       "    </tr>\n",
       "    <tr>\n",
       "      <th>4</th>\n",
       "      <td>2138715703</td>\n",
       "      <td>2134441116</td>\n",
       "      <td>0</td>\n",
       "      <td>171</td>\n",
       "      <td>28</td>\n",
       "      <td>0.524535</td>\n",
       "      <td>0.755068</td>\n",
       "      <td>1</td>\n",
       "      <td>0</td>\n",
       "      <td>0</td>\n",
       "      <td>0.054054</td>\n",
       "      <td>1</td>\n",
       "      <td>1</td>\n",
       "      <td>22</td>\n",
       "      <td>0</td>\n",
       "      <td>0</td>\n",
       "      <td>0</td>\n",
       "    </tr>\n",
       "  </tbody>\n",
       "</table>\n",
       "</div>"
      ],
      "text/plain": [
       "       paperA      paperB  A_firstAuthorInDegree  A_firstAuthorOutDegree  \\\n",
       "0  2138715703  2007600326                      0                     171   \n",
       "1  2138715703  2147617783                      0                     171   \n",
       "2  2138715703  1966687480                      0                     171   \n",
       "3  2138715703  2062460839                      0                     171   \n",
       "4  2138715703  2134441116                      0                     171   \n",
       "\n",
       "   A_PaperOutDegree  abstractSim  notHasCitationPurpose  \\\n",
       "0                28     0.637714               0.672244   \n",
       "1                28     0.569197               0.723836   \n",
       "2                28     0.473437               0.770526   \n",
       "3                28     0.572876               0.651287   \n",
       "4                28     0.524535               0.755068   \n",
       "\n",
       "   ifFirstAuthorInSameAffilaition  ifSameJournal  selfCite  \\\n",
       "0                               0              0         0   \n",
       "1                               0              0         0   \n",
       "2                               0              0         0   \n",
       "3                               0              0         0   \n",
       "4                               1              0         0   \n",
       "\n",
       "   citedPaperJournalTypeProportionInCitingPaperReferences  \\\n",
       "0                                           0.027027        \n",
       "1                                           0.054054        \n",
       "2                                           0.027027        \n",
       "3                                           0.027027        \n",
       "4                                           0.054054        \n",
       "\n",
       "   citedPaperFirstAuthorHasCiteCitingPaperFirstAuthorsPaper  \\\n",
       "0                                                  0          \n",
       "1                                                  0          \n",
       "2                                                  0          \n",
       "3                                                  0          \n",
       "4                                                  1          \n",
       "\n",
       "   citingPaperAuthorsPapersIntersectionCitedPaperAuthorsPapers  \\\n",
       "0                                                  0             \n",
       "1                                                  0             \n",
       "2                                                  0             \n",
       "3                                                  0             \n",
       "4                                                  1             \n",
       "\n",
       "   B_firstAuthorInDegree  B_firstAuthorOutDegree  B_PaperOutDegree  \\\n",
       "0                      6                       0                 0   \n",
       "1                     10                       0                 0   \n",
       "2                      6                       0                 0   \n",
       "3                      6                       0                 0   \n",
       "4                     22                       0                 0   \n",
       "\n",
       "   label_ifAbnormal  \n",
       "0                 0  \n",
       "1                 0  \n",
       "2                 0  \n",
       "3                 0  \n",
       "4                 0  "
      ]
     },
     "execution_count": 2,
     "metadata": {},
     "output_type": "execute_result"
    }
   ],
   "source": [
    "df = pd.read_csv('/Users/carina/Downloads/刘嘉莹/异常引用补充实验/sourcecode/ANCI_code/dataset/data/inputTable.csv')\n",
    "df.head()"
   ]
  },
  {
   "cell_type": "code",
   "execution_count": 3,
   "id": "e65dd184",
   "metadata": {
    "ExecuteTime": {
     "end_time": "2023-02-26T12:12:28.924690Z",
     "start_time": "2023-02-26T12:12:28.920025Z"
    }
   },
   "outputs": [],
   "source": [
    "df_t = df.loc[df['label_ifAbnormal'] == 0]\n",
    "df_f = df.loc[df['label_ifAbnormal'] != 0]"
   ]
  },
  {
   "cell_type": "code",
   "execution_count": 4,
   "id": "f83b045d",
   "metadata": {
    "ExecuteTime": {
     "end_time": "2023-02-26T12:12:29.723794Z",
     "start_time": "2023-02-26T12:12:29.719323Z"
    }
   },
   "outputs": [],
   "source": [
    "paperaidlist = []\n",
    "paperaidlist = df_t['paperA'].unique()\n",
    "paperaidliststr = [str(x) for x in paperaidlist]"
   ]
  },
  {
   "cell_type": "code",
   "execution_count": 5,
   "id": "3687d9ff",
   "metadata": {
    "ExecuteTime": {
     "end_time": "2023-02-26T12:12:30.504434Z",
     "start_time": "2023-02-26T12:12:30.499307Z"
    }
   },
   "outputs": [],
   "source": [
    "paperbidlist = []\n",
    "paperbidlist = df_t['paperB'].unique()\n",
    "paperbidliststr = [str(x) for x in paperbidlist]"
   ]
  },
  {
   "cell_type": "code",
   "execution_count": 6,
   "id": "a40c6977",
   "metadata": {
    "ExecuteTime": {
     "end_time": "2023-02-26T12:12:31.276602Z",
     "start_time": "2023-02-26T12:12:31.259486Z"
    }
   },
   "outputs": [],
   "source": [
    "f2 = open(r'/Users/carina/Downloads/刘嘉莹/异常引用补充实验/sourcecode/ANCI_code/dataset/data/allPaperAbstracts-doc2vec-Embedding-128.txt','r')\n",
    "paperid_abstractdoc2vec = []\n",
    "for line in f2:\n",
    "    line = line.strip().split('\\t')\n",
    "    paperid_abstractdoc2vec.append(line[0])"
   ]
  },
  {
   "cell_type": "markdown",
   "id": "dd63060c",
   "metadata": {},
   "source": [
    "# core paper 和 true cited paper"
   ]
  },
  {
   "cell_type": "code",
   "execution_count": 7,
   "id": "699ec49f",
   "metadata": {
    "ExecuteTime": {
     "end_time": "2023-02-26T12:12:32.824577Z",
     "start_time": "2023-02-26T12:12:32.819306Z"
    }
   },
   "outputs": [
    {
     "name": "stdout",
     "output_type": "stream",
     "text": [
      "37\n"
     ]
    }
   ],
   "source": [
    "random.seed(3)\n",
    "randompaperidliststr = random.sample(paperaidliststr,40)\n",
    "#have vectors\n",
    "corepaperidliststr_invec = [x for x in randompaperidliststr if x in paperid_abstractdoc2vec]\n",
    "print(len(corepaperidliststr_invec))"
   ]
  },
  {
   "cell_type": "code",
   "execution_count": 8,
   "id": "ea9feee4",
   "metadata": {
    "ExecuteTime": {
     "end_time": "2023-02-26T12:21:21.881300Z",
     "start_time": "2023-02-26T12:12:34.463237Z"
    }
   },
   "outputs": [
    {
     "name": "stderr",
     "output_type": "stream",
     "text": [
      "172037947it [08:47, 326206.43it/s]\n"
     ]
    }
   ],
   "source": [
    "f = open(r'/Users/carina/Downloads/刘嘉莹/异常引用补充实验/sourcecode/ANCI_code/dataset/data/Papers.txt','r')\n",
    "alljournalidOf_corepaperidliststr_invec = []\n",
    "allpaperidOf_corepaperidliststr_invec = []\n",
    "for line in tqdm(f) :\n",
    "    line = line.strip().split('\\t')\n",
    "    if line[0] in corepaperidliststr_invec:\n",
    "        allpaperidOf_corepaperidliststr_invec.append(line[0])\n",
    "        alljournalidOf_corepaperidliststr_invec.append(line[10])"
   ]
  },
  {
   "cell_type": "code",
   "execution_count": 9,
   "id": "6b0880f1",
   "metadata": {
    "ExecuteTime": {
     "end_time": "2023-02-26T12:23:11.219689Z",
     "start_time": "2023-02-26T12:23:11.204746Z"
    }
   },
   "outputs": [
    {
     "name": "stderr",
     "output_type": "stream",
     "text": [
      "7623it [00:00, 965432.07it/s]"
     ]
    },
    {
     "name": "stdout",
     "output_type": "stream",
     "text": [
      "7623\n"
     ]
    },
    {
     "name": "stderr",
     "output_type": "stream",
     "text": [
      "\n"
     ]
    }
   ],
   "source": [
    "allvalidjournalid = []\n",
    "f = open(r'/Users/carina/Downloads/刘嘉莹/异常引用补充实验/sourcecode/ANCI_code/dataset/data/coauthor/processed/selectedJournals.txt','r')\n",
    "for line in tqdm(f) :\n",
    "    line = line.strip().split('\\t')\n",
    "    allvalidjournalid.append(line[0])\n",
    "print(len(allvalidjournalid))"
   ]
  },
  {
   "cell_type": "code",
   "execution_count": 11,
   "id": "97beadb7",
   "metadata": {
    "ExecuteTime": {
     "end_time": "2023-02-26T12:23:31.852699Z",
     "start_time": "2023-02-26T12:23:31.843345Z"
    }
   },
   "outputs": [
    {
     "name": "stdout",
     "output_type": "stream",
     "text": [
      "37\n",
      "29\n",
      "29\n"
     ]
    }
   ],
   "source": [
    "#删掉没有journalid的论文\n",
    "print(len(alljournalidOf_corepaperidliststr_invec))#37\n",
    "corepaperidliststr = []\n",
    "for paperid,journalid in zip(allpaperidOf_corepaperidliststr_invec,alljournalidOf_corepaperidliststr_invec):\n",
    "    if journalid in allvalidjournalid:\n",
    "        corepaperidliststr.append(paperid)\n",
    "print(len(corepaperidliststr)) #29\n",
    "corepaperidlist = [int(x) for x in corepaperidliststr]\n",
    "print(len(corepaperidlist)) ##29\n",
    "random.seed(3)\n",
    "corepaperidlist = random.sample(corepaperidlist,28)\n",
    "corepaperidliststr = [str(x) for x in corepaperidlist]"
   ]
  },
  {
   "cell_type": "code",
   "execution_count": 16,
   "id": "de953ee6",
   "metadata": {
    "ExecuteTime": {
     "end_time": "2023-02-26T12:38:42.112104Z",
     "start_time": "2023-02-26T12:38:42.102281Z"
    }
   },
   "outputs": [
    {
     "name": "stdout",
     "output_type": "stream",
     "text": [
      "139\n",
      "135\n",
      "131\n",
      "131\n"
     ]
    }
   ],
   "source": [
    "#真实被引用的paper，去掉没有 abstract vec的\n",
    "paperidcitedbycorepaper = []\n",
    "df_citedpaper = df[df['paperA'].isin(corepaperidlist)]\n",
    "print(len(df_citedpaper)) #139\n",
    "paperidcitedbycorepaperori = df_citedpaper['paperB'].unique()\n",
    "print(len(paperidcitedbycorepaperori)) #135\n",
    "paperidcitedbycorepaperoristr = [str(x) for x in paperidcitedbycorepaperori]\n",
    "paperbinabstractem = [x for x in paperidcitedbycorepaperoristr if x in paperid_abstractdoc2vec]\n",
    "print(len(paperbinabstractem)) #131\n",
    "paperbinabstractem_uncore = [x for x in paperbinabstractem if x not in corepaperidliststr]\n",
    "print(len(paperbinabstractem_uncore))#131"
   ]
  },
  {
   "cell_type": "code",
   "execution_count": 17,
   "id": "7a02e8d4",
   "metadata": {
    "ExecuteTime": {
     "end_time": "2023-02-26T12:52:06.783767Z",
     "start_time": "2023-02-26T12:39:10.833538Z"
    }
   },
   "outputs": [
    {
     "name": "stderr",
     "output_type": "stream",
     "text": [
      "172037947it [12:55, 221714.44it/s]\n"
     ]
    }
   ],
   "source": [
    "\n",
    "f = open(r'/Users/carina/Downloads/刘嘉莹/异常引用补充实验/sourcecode/ANCI_code/dataset/data/Papers.txt','r')\n",
    "alljournalidOf_citedpaperidliststr_invec = []\n",
    "allpaperidOf_citedpaperidliststr_invec = []\n",
    "for line in tqdm(f) :\n",
    "    line = line.strip().split('\\t')\n",
    "    if line[0] in paperbinabstractem_uncore:\n",
    "        allpaperidOf_citedpaperidliststr_invec.append(line[0])\n",
    "        alljournalidOf_citedpaperidliststr_invec.append(line[10])\n",
    "f.close()"
   ]
  },
  {
   "cell_type": "code",
   "execution_count": 18,
   "id": "0caf191a",
   "metadata": {
    "ExecuteTime": {
     "end_time": "2023-02-26T12:52:30.188910Z",
     "start_time": "2023-02-26T12:52:30.173483Z"
    }
   },
   "outputs": [
    {
     "name": "stdout",
     "output_type": "stream",
     "text": [
      "131\n",
      "113\n",
      "113\n",
      "113\n"
     ]
    }
   ],
   "source": [
    "#删掉没有journalid的论文\n",
    "print(len(alljournalidOf_citedpaperidliststr_invec))#131\n",
    "citedpaperidliststr = []\n",
    "for paperid,journalid in zip(allpaperidOf_citedpaperidliststr_invec,alljournalidOf_citedpaperidliststr_invec):\n",
    "    if journalid in allvalidjournalid:\n",
    "        citedpaperidliststr.append(paperid)\n",
    "print(len(citedpaperidliststr)) #113\n",
    "paperidcitedbycorepaperstr = citedpaperidliststr\n",
    "print(len(paperidcitedbycorepaperstr))#113\n",
    "paperidcitedbycorepaper = [int(x) for x in paperidcitedbycorepaperstr]\n",
    "print(len(paperidcitedbycorepaper)) ##113"
   ]
  },
  {
   "cell_type": "code",
   "execution_count": 19,
   "id": "7367b414",
   "metadata": {
    "ExecuteTime": {
     "end_time": "2023-02-26T12:52:44.681153Z",
     "start_time": "2023-02-26T12:52:44.677161Z"
    }
   },
   "outputs": [
    {
     "name": "stdout",
     "output_type": "stream",
     "text": [
      "113\n",
      "113\n",
      "113\n"
     ]
    }
   ],
   "source": [
    "#删掉core paper中重复的\n",
    "paperidcitedbycorepaper = sorted(set(paperidcitedbycorepaper))\n",
    "print(len(paperidcitedbycorepaper)) #113\n",
    "paperidcitedbycorepaper = [x for x in paperidcitedbycorepaper if x not in corepaperidlist]\n",
    "print(len(paperidcitedbycorepaper)) #113\n",
    "paperidcitedbycorepaperstr = [str(x) for x in paperidcitedbycorepaper]\n",
    "print(len(paperidcitedbycorepaperstr))# 113"
   ]
  },
  {
   "cell_type": "markdown",
   "id": "6e41c25a",
   "metadata": {},
   "source": [
    "# 需要添加的异常引用的paper id+所需要用到的所有paper id"
   ]
  },
  {
   "cell_type": "code",
   "execution_count": 21,
   "id": "c9994d2e",
   "metadata": {
    "ExecuteTime": {
     "end_time": "2023-02-26T12:53:17.808583Z",
     "start_time": "2023-02-26T12:53:17.804029Z"
    }
   },
   "outputs": [
    {
     "name": "stdout",
     "output_type": "stream",
     "text": [
      "28\n",
      "14\n",
      "14\n",
      "14\n",
      "14\n"
     ]
    }
   ],
   "source": [
    "#把core paper分两半，后一半加入异常引用\n",
    "print(len(corepaperidliststr)) #28\n",
    "corepaperidliststr1 = corepaperidliststr[0:14]\n",
    "print(len(corepaperidliststr1))  #14\n",
    "corepaperidliststr2 = corepaperidliststr[14:28]\n",
    "print(len(corepaperidliststr2))  #14\n",
    "corepaperidlist1 = corepaperidlist[0:14]\n",
    "print(len(corepaperidlist1))  #14\n",
    "corepaperidlist2 = corepaperidlist[14:28]\n",
    "print(len(corepaperidlist2))  #14"
   ]
  },
  {
   "cell_type": "code",
   "execution_count": 22,
   "id": "7c4cd66a",
   "metadata": {
    "ExecuteTime": {
     "end_time": "2023-02-26T13:01:20.638835Z",
     "start_time": "2023-02-26T12:53:32.124056Z"
    }
   },
   "outputs": [
    {
     "name": "stderr",
     "output_type": "stream",
     "text": [
      "172037947it [07:48, 367203.47it/s]\n"
     ]
    }
   ],
   "source": [
    "f = open(r'/Users/carina/Downloads/刘嘉莹/异常引用补充实验/sourcecode/ANCI_code/dataset/data/Papers.txt','r')\n",
    "alljournalidOf_2nd = []\n",
    "for line in tqdm(f) :\n",
    "    line = line.strip().split('\\t')\n",
    "    if line[0] in corepaperidliststr2:\n",
    "        alljournalidOf_2nd.append(line[10])\n",
    "f.close()"
   ]
  },
  {
   "cell_type": "code",
   "execution_count": 23,
   "id": "0663bc2a",
   "metadata": {
    "ExecuteTime": {
     "end_time": "2023-02-26T13:01:24.170979Z",
     "start_time": "2023-02-26T13:01:24.166872Z"
    }
   },
   "outputs": [
    {
     "data": {
      "text/plain": [
       "['128227336',\n",
       " '151741590',\n",
       " '171842551',\n",
       " '194681035',\n",
       " '202381698',\n",
       " '203303425',\n",
       " '26843219',\n",
       " '45281609',\n",
       " '49878492',\n",
       " '63830647',\n",
       " '65139510',\n",
       " '70378559',\n",
       " '81455967',\n",
       " '95464858']"
      ]
     },
     "execution_count": 23,
     "metadata": {},
     "output_type": "execute_result"
    }
   ],
   "source": [
    "#delete unvalid journal\n",
    "annmous_journalstrs = sorted(set(alljournalidOf_2nd))\n",
    "annmous_journalstrs"
   ]
  },
  {
   "cell_type": "code",
   "execution_count": 27,
   "id": "7cd7de5b",
   "metadata": {
    "ExecuteTime": {
     "end_time": "2023-02-26T13:19:42.779179Z",
     "start_time": "2023-02-26T13:19:42.773597Z"
    }
   },
   "outputs": [
    {
     "data": {
      "text/plain": [
       "['astronomical journal',\n",
       " 'publications of the astronomical society of the pacific',\n",
       " 'astrophysical journal',\n",
       " 'icarus',\n",
       " 'planetary and space science',\n",
       " 'solar system research',\n",
       " 'annual review of astronomy and astrophysics',\n",
       " 'astrophysical journal supplement series',\n",
       " 'international journal of modern physics d',\n",
       " 'astrophysics',\n",
       " 'experimental astronomy',\n",
       " 'astroparticle physics',\n",
       " 'astronomy and astrophysics review',\n",
       " 'astronomy reports',\n",
       " 'astronomy letters-a journal of astronomy and space astrophysics']"
      ]
     },
     "execution_count": 27,
     "metadata": {},
     "output_type": "execute_result"
    }
   ],
   "source": [
    "#selected an irrelevant journal\n",
    "annmous_journalstr = ['ASTRONOMICAL JOURNAL','PUBLICATIONS OF THE ASTRONOMICAL SOCIETY OF THE PACIFIC','ASTROPHYSICAL JOURNAL','ICARUS','PLANETARY AND SPACE SCIENCE','SOLAR SYSTEM RESEARCH','Annual Review of Astronomy and Astrophysics','ASTROPHYSICAL JOURNAL SUPPLEMENT SERIES',\n",
    "                      'INTERNATIONAL JOURNAL OF MODERN PHYSICS D','ASTROPHYSICS','EXPERIMENTAL ASTRONOMY','ASTROPARTICLE PHYSICS','ASTRONOMY AND ASTROPHYSICS REVIEW','ASTRONOMY REPORTS','ASTRONOMY LETTERS-A JOURNAL OF ASTRONOMY AND SPACE ASTROPHYSICS']\n",
    "\n",
    "annmous_journalstr = [x.lower() for x in annmous_journalstr]\n",
    "annmous_journalstr"
   ]
  },
  {
   "cell_type": "code",
   "execution_count": 44,
   "id": "fea615aa",
   "metadata": {
    "ExecuteTime": {
     "end_time": "2023-02-26T14:15:20.255333Z",
     "start_time": "2023-02-26T14:15:17.114296Z"
    }
   },
   "outputs": [],
   "source": [
    "df = pd.read_excel(io='/Users/carina/Downloads/刘嘉莹/异常引用补充实验/sourcecode/ANCI_code/dataset/data/if2017.xlsx')\n",
    "Subcategory1 = df.loc[df['Subcategory'] == '神经科学']\n",
    "annmous_journaltitlestr1 = Subcategory1['Full Title'].str.lower()\n",
    "annmous_journaltitlestr1 = [str(x) for x in annmous_journaltitlestr1]\n",
    "\n",
    "Subcategory2 = df.loc[df['Subcategory'] == '细胞生物学']\n",
    "annmous_journaltitlestr2 = Subcategory2['Full Title'].str.lower()\n",
    "annmous_journaltitlestr2 = [str(x) for x in annmous_journaltitlestr2]\n",
    "\n",
    "annmous_journaltitlestr = annmous_journaltitlestr1 + annmous_journaltitlestr2"
   ]
  },
  {
   "cell_type": "code",
   "execution_count": 45,
   "id": "b8ce684e",
   "metadata": {
    "ExecuteTime": {
     "end_time": "2023-02-26T14:15:24.019263Z",
     "start_time": "2023-02-26T14:15:24.015973Z"
    }
   },
   "outputs": [
    {
     "name": "stdout",
     "output_type": "stream",
     "text": [
      "138\n"
     ]
    }
   ],
   "source": [
    "print(len(annmous_journaltitlestr))"
   ]
  },
  {
   "cell_type": "code",
   "execution_count": 46,
   "id": "18d51c95",
   "metadata": {
    "ExecuteTime": {
     "end_time": "2023-02-26T14:15:28.147930Z",
     "start_time": "2023-02-26T14:15:28.122500Z"
    }
   },
   "outputs": [
    {
     "name": "stderr",
     "output_type": "stream",
     "text": [
      "7623it [00:00, 393709.88it/s]"
     ]
    },
    {
     "name": "stdout",
     "output_type": "stream",
     "text": [
      "131\n"
     ]
    },
    {
     "name": "stderr",
     "output_type": "stream",
     "text": [
      "\n"
     ]
    }
   ],
   "source": [
    "annmous_journalstr = []\n",
    "f = open(r'/Users/carina/Downloads/刘嘉莹/异常引用补充实验/sourcecode/ANCI_code/dataset/data/coauthor/processed/selectedJournals.txt','r')\n",
    "for line in tqdm(f) :\n",
    "    line = line.strip().split('\\t')\n",
    "    if line[1] in annmous_journaltitlestr:\n",
    "        annmous_journalstr.append(line[0])\n",
    "print(len(annmous_journalstr))"
   ]
  },
  {
   "cell_type": "code",
   "execution_count": 47,
   "id": "545cfa9a",
   "metadata": {
    "ExecuteTime": {
     "end_time": "2023-02-26T14:28:18.289658Z",
     "start_time": "2023-02-26T14:16:01.654604Z"
    }
   },
   "outputs": [
    {
     "name": "stderr",
     "output_type": "stream",
     "text": [
      "172037947it [12:16, 233553.11it/s]\n"
     ]
    }
   ],
   "source": [
    "#papers published by annmous journal\n",
    "annmous_paperid_ori = []\n",
    "annmous_journalid_ori = []\n",
    "f = open(r'/Users/carina/Downloads/刘嘉莹/异常引用补充实验/sourcecode/ANCI_code/dataset/data/Papers.txt','r')\n",
    "\n",
    "for line in tqdm(f) :\n",
    "    line = line.strip().split('\\t')\n",
    "    if line[10] in annmous_journalstr:\n",
    "        annmous_paperid_ori.append(line[0])\n",
    "        annmous_journalid_ori.append(line[10])\n",
    "f.close()"
   ]
  },
  {
   "cell_type": "code",
   "execution_count": 48,
   "id": "76b88f1e",
   "metadata": {
    "ExecuteTime": {
     "end_time": "2023-02-26T14:29:49.231006Z",
     "start_time": "2023-02-26T14:29:13.982705Z"
    }
   },
   "outputs": [
    {
     "name": "stdout",
     "output_type": "stream",
     "text": [
      "718303\n",
      "718303\n",
      "362\n",
      "360\n",
      "352\n"
     ]
    }
   ],
   "source": [
    "print(len(annmous_paperid_ori))#718303\n",
    "annmous_paperid0 = sorted(set(annmous_paperid_ori))\n",
    "print(len(annmous_paperid0))#718303\n",
    "annmous_paperid1 = [x for x in annmous_paperid0 if x in paperid_abstractdoc2vec]\n",
    "print(len(annmous_paperid1))#362\n",
    "annmous_paperid2 = [x for x in annmous_paperid1 if x not in corepaperidliststr]\n",
    "print(len(annmous_paperid2))#360\n",
    "annmous_paperid3 = [x for x in annmous_paperid2 if x not in paperidcitedbycorepaperstr]\n",
    "print(len(annmous_paperid3))#352"
   ]
  },
  {
   "cell_type": "code",
   "execution_count": 52,
   "id": "d979188c",
   "metadata": {
    "ExecuteTime": {
     "end_time": "2023-02-26T14:32:33.840547Z",
     "start_time": "2023-02-26T14:32:33.835726Z"
    }
   },
   "outputs": [
    {
     "name": "stdout",
     "output_type": "stream",
     "text": [
      "112\n",
      "112\n"
     ]
    }
   ],
   "source": [
    "copyp = annmous_paperid_ori\n",
    "copyj = annmous_journalid_ori\n",
    "print(len(copyp))\n",
    "random.seed(3)\n",
    "annmous_paperid = random.sample(annmous_paperid3,112)\n",
    "annmous_paperidstr = [str(x) for x in annmous_paperid]\n",
    "print(len(annmous_paperid))"
   ]
  },
  {
   "cell_type": "code",
   "execution_count": 53,
   "id": "2e112c0b",
   "metadata": {
    "ExecuteTime": {
     "end_time": "2023-02-26T14:32:35.109804Z",
     "start_time": "2023-02-26T14:32:35.105267Z"
    }
   },
   "outputs": [
    {
     "name": "stdout",
     "output_type": "stream",
     "text": [
      "253\n",
      "253\n"
     ]
    }
   ],
   "source": [
    "#所有论文id\n",
    "allpaperidstr = corepaperidliststr + paperidcitedbycorepaperstr + annmous_paperid\n",
    "print(len(allpaperidstr)) #253 + 28 + 113 + 112\n",
    "allpaperid = [int(x) for x in allpaperidstr]\n",
    "print(len(allpaperid))"
   ]
  },
  {
   "cell_type": "code",
   "execution_count": 54,
   "id": "ea8afce6",
   "metadata": {
    "ExecuteTime": {
     "end_time": "2023-02-26T14:32:58.217553Z",
     "start_time": "2023-02-26T14:32:58.213191Z"
    }
   },
   "outputs": [],
   "source": [
    "\n",
    "with open(r'/Users/carina/Downloads/刘嘉莹/异常引用补充实验/sourcecode/ANCI_code/dataset/data/irrelevant/processed/allpaperid.txt', 'w') as cf:\n",
    "    for line in allpaperidstr:\n",
    "        cf.write(line+'\\n')\n",
    "\n",
    "cf.close()"
   ]
  },
  {
   "cell_type": "markdown",
   "id": "e4d7c50c",
   "metadata": {},
   "source": [
    "# journal和paper-journal"
   ]
  },
  {
   "cell_type": "code",
   "execution_count": 55,
   "id": "46e33649",
   "metadata": {
    "ExecuteTime": {
     "end_time": "2023-02-26T14:33:02.268102Z",
     "start_time": "2023-02-26T14:33:02.251840Z"
    }
   },
   "outputs": [
    {
     "name": "stdout",
     "output_type": "stream",
     "text": [
      "253\n",
      "253\n"
     ]
    }
   ],
   "source": [
    "journal = alljournalidOf_corepaperidliststr_invec + alljournalidOf_citedpaperidliststr_invec + annmous_journalid_ori\n",
    "paper = allpaperidOf_corepaperidliststr_invec + allpaperidOf_citedpaperidliststr_invec + annmous_paperid_ori\n",
    "\n",
    "alljournalid = []\n",
    "publishedpaper = []\n",
    "for item1,item2 in zip(journal,paper):\n",
    "    if item2 in allpaperidstr:\n",
    "        alljournalid.append(item1)\n",
    "        publishedpaper.append(item2)\n",
    "        \n",
    "print(len(alljournalid)) #424\n",
    "#alljournalid = sorted(set(alljournalid))\n",
    "print(len(publishedpaper)) #424\n"
   ]
  },
  {
   "cell_type": "code",
   "execution_count": 56,
   "id": "b0fc718b",
   "metadata": {
    "ExecuteTime": {
     "end_time": "2023-02-26T14:33:03.509698Z",
     "start_time": "2023-02-26T14:33:03.505066Z"
    }
   },
   "outputs": [],
   "source": [
    "with open(r'/Users/carina/Downloads/刘嘉莹/异常引用补充实验/sourcecode/ANCI_code/dataset/data/irrelevant/processed/paperjournal.txt', 'w') as cf:\n",
    "    for p,j in zip(publishedpaper,alljournalid):\n",
    "        cf.write(p + ' ' + j + '\\n')\n",
    "\n",
    "cf.close()"
   ]
  },
  {
   "cell_type": "code",
   "execution_count": 57,
   "id": "ef1940d8",
   "metadata": {
    "ExecuteTime": {
     "end_time": "2023-02-26T14:33:04.345586Z",
     "start_time": "2023-02-26T14:33:04.340420Z"
    }
   },
   "outputs": [
    {
     "name": "stdout",
     "output_type": "stream",
     "text": [
      "124\n"
     ]
    }
   ],
   "source": [
    "alljournal = sorted(set(alljournalid))\n",
    "print(len(alljournal))\n",
    "with open(r'/Users/carina/Downloads/刘嘉莹/异常引用补充实验/sourcecode/ANCI_code/dataset/data/irrelevant/processed/alljournalid.txt', 'w') as cf:\n",
    "    for line in alljournal:\n",
    "        cf.write(line+'\\n')\n",
    "\n",
    "cf.close()"
   ]
  },
  {
   "cell_type": "markdown",
   "id": "751d8e94",
   "metadata": {},
   "source": [
    "# author 和author-paper"
   ]
  },
  {
   "cell_type": "code",
   "execution_count": 59,
   "id": "05494574",
   "metadata": {
    "ExecuteTime": {
     "end_time": "2023-02-26T15:07:10.201472Z",
     "start_time": "2023-02-26T14:34:10.809310Z"
    }
   },
   "outputs": [
    {
     "name": "stderr",
     "output_type": "stream",
     "text": [
      "455999370it [32:59, 230374.41it/s]"
     ]
    },
    {
     "name": "stdout",
     "output_type": "stream",
     "text": [
      "1634\n",
      "1634\n"
     ]
    },
    {
     "name": "stderr",
     "output_type": "stream",
     "text": [
      "\n"
     ]
    }
   ],
   "source": [
    "paperid_inpaperauthor = []\n",
    "authorid_inpaperauthor = []\n",
    "f = open(r'/Users/carina/Downloads/刘嘉莹/异常引用补充实验/sourcecode/ANCI_code/dataset/data/PaperAuthorAffiliations.txt','r')\n",
    "\n",
    "for line in tqdm(f):\n",
    "    line = line.split('\\t')\n",
    "    if line[0] in allpaperidstr:\n",
    "        paperid_inpaperauthor.append(line[0]) #str\n",
    "        authorid_inpaperauthor.append(line[1]) #str    \n",
    "print(len(paperid_inpaperauthor)) #1634\n",
    "print(len(authorid_inpaperauthor)) #1634\n",
    "f.close()"
   ]
  },
  {
   "cell_type": "code",
   "execution_count": 60,
   "id": "74a8e957",
   "metadata": {
    "ExecuteTime": {
     "end_time": "2023-02-26T15:09:19.251177Z",
     "start_time": "2023-02-26T15:09:19.244322Z"
    }
   },
   "outputs": [
    {
     "name": "stdout",
     "output_type": "stream",
     "text": [
      "1525\n"
     ]
    }
   ],
   "source": [
    "allauthor = sorted(set(authorid_inpaperauthor))\n",
    "print(len(allauthor)) #1525\n",
    "with open(r'/Users/carina/Downloads/刘嘉莹/异常引用补充实验/sourcecode/ANCI_code/dataset/data/irrelevant/processed/allauthorid.txt', 'w') as cf:\n",
    "    for line in allauthor:\n",
    "        cf.write(line+'\\n')\n",
    "\n",
    "cf.close()"
   ]
  },
  {
   "cell_type": "code",
   "execution_count": 61,
   "id": "08075751",
   "metadata": {
    "ExecuteTime": {
     "end_time": "2023-02-26T15:09:27.097077Z",
     "start_time": "2023-02-26T15:09:27.091592Z"
    }
   },
   "outputs": [],
   "source": [
    "with open(r'/Users/carina/Downloads/刘嘉莹/异常引用补充实验/sourcecode/ANCI_code/dataset/data/irrelevant/processed/paperauthor.txt', 'w') as cf:\n",
    "    for p,a in zip(paperid_inpaperauthor,authorid_inpaperauthor):\n",
    "        cf.write(p + ' ' + a + '\\n')\n",
    "\n",
    "cf.close()"
   ]
  },
  {
   "cell_type": "markdown",
   "id": "3095cfe6",
   "metadata": {},
   "source": [
    "# citing relationship"
   ]
  },
  {
   "cell_type": "code",
   "execution_count": 83,
   "id": "51c34282",
   "metadata": {
    "ExecuteTime": {
     "end_time": "2023-02-26T15:19:48.048034Z",
     "start_time": "2023-02-26T15:19:48.041464Z"
    }
   },
   "outputs": [],
   "source": [
    "citinginfo = df_t.loc[df_t['paperA'].isin(corepaperidlist)]\n",
    "paperidcitedbycorepaper = [int(x) for x in paperidcitedbycorepaperstr]\n",
    "citinginfo1 = citinginfo.loc[citinginfo['paperB'].isin(paperidcitedbycorepaper)]\n",
    "citingpaperid = list(citinginfo1['paperA'])\n",
    "citedpaperid = list(citinginfo1['paperB'])\n",
    "    \n",
    "\n",
    "m = 8\n",
    "\n",
    "for id1 in corepaperidliststr2:\n",
    "    paper = []\n",
    "    i = corepaperidliststr2.index(id1)\n",
    "    paper = annmous_paperid[i:i+m]\n",
    "    #print(paper)\n",
    "    #paper1 = sorted(set(paper))\n",
    "    paper = [x for x in paper if x != id1]\n",
    "    for h in paper:\n",
    "        citingpaperid.append(int(id1))\n",
    "        citedpaperid.append(h)\n",
    "        \n",
    "        \n",
    "f.close()"
   ]
  },
  {
   "cell_type": "code",
   "execution_count": 84,
   "id": "ec3f0536",
   "metadata": {
    "ExecuteTime": {
     "end_time": "2023-02-26T15:19:48.570481Z",
     "start_time": "2023-02-26T15:19:48.565832Z"
    }
   },
   "outputs": [
    {
     "name": "stdout",
     "output_type": "stream",
     "text": [
      "116\n",
      "228\n",
      "112\n"
     ]
    }
   ],
   "source": [
    "print(len(citinginfo1))#真实引用数量 116\n",
    "print(len(citingpaperid))#总引用数量 228\n",
    "a = len(citinginfo1)\n",
    "b = len(citingpaperid)\n",
    "c = b - a\n",
    "print(c) #虚假112\n"
   ]
  },
  {
   "cell_type": "code",
   "execution_count": 85,
   "id": "cf796661",
   "metadata": {
    "ExecuteTime": {
     "end_time": "2023-02-26T15:19:50.785776Z",
     "start_time": "2023-02-26T15:19:50.781296Z"
    }
   },
   "outputs": [],
   "source": [
    "with open(r'/Users/carina/Downloads/刘嘉莹/异常引用补充实验/sourcecode/ANCI_code/dataset/data/irrelevant/processed/citinginfo.txt', 'w') as cf:\n",
    "    for ing,ed in zip(citingpaperid, citedpaperid):\n",
    "        cf.write(str(ing) + ' ' + str(ed) + '\\n')\n",
    "\n",
    "cf.close()"
   ]
  },
  {
   "cell_type": "markdown",
   "id": "cb79c599",
   "metadata": {},
   "source": [
    "# abstract vec matrix"
   ]
  },
  {
   "cell_type": "code",
   "execution_count": 86,
   "id": "a9e6760b",
   "metadata": {
    "ExecuteTime": {
     "end_time": "2023-02-26T15:19:56.841647Z",
     "start_time": "2023-02-26T15:19:54.120028Z"
    }
   },
   "outputs": [
    {
     "name": "stdout",
     "output_type": "stream",
     "text": [
      "253\n",
      "128\n",
      "128\n",
      "128\n",
      "128\n",
      "128\n",
      "128\n",
      "128\n",
      "128\n",
      "128\n",
      "128\n",
      "128\n",
      "128\n",
      "128\n",
      "128\n",
      "128\n",
      "128\n",
      "128\n",
      "128\n",
      "128\n",
      "128\n",
      "128\n",
      "128\n",
      "128\n",
      "128\n",
      "128\n",
      "128\n",
      "128\n",
      "128\n",
      "128\n",
      "128\n",
      "128\n",
      "128\n",
      "128\n",
      "128\n",
      "128\n",
      "128\n",
      "128\n",
      "128\n",
      "128\n",
      "128\n",
      "128\n",
      "128\n",
      "128\n",
      "128\n",
      "128\n",
      "128\n",
      "128\n",
      "128\n",
      "128\n",
      "128\n",
      "128\n",
      "128\n",
      "128\n",
      "128\n",
      "128\n",
      "128\n",
      "128\n",
      "128\n",
      "128\n",
      "128\n",
      "128\n",
      "128\n",
      "128\n",
      "128\n",
      "128\n",
      "128\n",
      "128\n",
      "128\n",
      "128\n",
      "128\n",
      "128\n",
      "128\n",
      "128\n",
      "128\n",
      "128\n",
      "128\n",
      "128\n",
      "128\n",
      "128\n",
      "128\n",
      "128\n",
      "128\n",
      "128\n",
      "128\n",
      "128\n",
      "128\n",
      "128\n",
      "128\n",
      "128\n",
      "128\n",
      "128\n",
      "128\n",
      "128\n",
      "128\n",
      "128\n",
      "128\n",
      "128\n",
      "128\n",
      "128\n",
      "128\n",
      "128\n",
      "128\n",
      "128\n",
      "128\n",
      "128\n",
      "128\n",
      "128\n",
      "128\n",
      "128\n",
      "128\n",
      "128\n",
      "128\n",
      "128\n",
      "128\n",
      "128\n",
      "128\n",
      "128\n",
      "128\n",
      "128\n",
      "128\n",
      "128\n",
      "128\n",
      "128\n",
      "128\n",
      "128\n",
      "128\n",
      "128\n",
      "128\n",
      "128\n",
      "128\n",
      "128\n",
      "128\n",
      "128\n",
      "128\n",
      "128\n",
      "128\n",
      "128\n",
      "128\n",
      "128\n",
      "128\n",
      "128\n",
      "128\n",
      "128\n",
      "128\n",
      "128\n",
      "128\n",
      "128\n",
      "128\n",
      "128\n",
      "128\n",
      "128\n",
      "128\n",
      "128\n",
      "128\n",
      "128\n",
      "128\n",
      "128\n",
      "128\n",
      "128\n",
      "128\n",
      "128\n",
      "128\n",
      "128\n",
      "128\n",
      "128\n",
      "128\n",
      "128\n",
      "128\n",
      "128\n",
      "128\n",
      "128\n",
      "128\n",
      "128\n",
      "128\n",
      "128\n",
      "128\n",
      "128\n",
      "128\n",
      "128\n",
      "128\n",
      "128\n",
      "128\n",
      "128\n",
      "128\n",
      "128\n",
      "128\n",
      "128\n",
      "128\n",
      "128\n",
      "128\n",
      "128\n",
      "128\n",
      "128\n",
      "128\n",
      "128\n",
      "128\n",
      "128\n",
      "128\n",
      "128\n",
      "128\n",
      "128\n",
      "128\n",
      "128\n",
      "128\n",
      "128\n",
      "128\n",
      "128\n",
      "128\n",
      "128\n",
      "128\n",
      "128\n",
      "128\n",
      "128\n",
      "128\n",
      "128\n",
      "128\n",
      "128\n",
      "128\n",
      "128\n",
      "128\n",
      "128\n",
      "128\n",
      "128\n",
      "128\n",
      "128\n",
      "128\n",
      "128\n",
      "128\n",
      "128\n",
      "128\n",
      "128\n",
      "128\n",
      "128\n",
      "128\n",
      "128\n",
      "128\n",
      "128\n",
      "128\n",
      "128\n",
      "128\n",
      "128\n",
      "128\n",
      "128\n",
      "128\n",
      "128\n",
      "128\n",
      "128\n",
      "128\n",
      "128\n",
      "128\n",
      "128\n",
      "128\n",
      "128\n",
      "253\n"
     ]
    }
   ],
   "source": [
    "embeddingvectors = []\n",
    "x = 0\n",
    "print(len(allpaperidstr))#253\n",
    "for ids in allpaperidstr:\n",
    "    f2 = open(r'/Users/carina/Downloads/刘嘉莹/异常引用补充实验/sourcecode/ANCI_code/dataset/data/allPaperAbstracts-doc2vec-Embedding-128.txt','r')\n",
    "    for line in f2:\n",
    "        line = line.strip().split('\\t')\n",
    "        if line[0] == ids:\n",
    "            x+=1\n",
    "            vectors = line[1].split(' ')\n",
    "\n",
    "            embeddingvectors.append(vectors[0:129]) #str\n",
    "            print(len(vectors))\n",
    "            \n",
    "f2.close()\n",
    "print(x)#253"
   ]
  },
  {
   "cell_type": "code",
   "execution_count": 87,
   "id": "b05e1b39",
   "metadata": {
    "ExecuteTime": {
     "end_time": "2023-02-26T15:20:09.870613Z",
     "start_time": "2023-02-26T15:20:09.857871Z"
    }
   },
   "outputs": [],
   "source": [
    "f=open(r\"/Users/carina/Downloads/刘嘉莹/异常引用补充实验/sourcecode/ANCI_code/dataset/data/irrelevant/matrix/abstract2vec.txt\",\"w\")\n",
    " \n",
    "for line in embeddingvectors:\n",
    "    for item in line:\n",
    "        f.write(item + ' ')\n",
    "    f.write('\\n')\n",
    "f.close()"
   ]
  },
  {
   "cell_type": "markdown",
   "id": "cb513eb3",
   "metadata": {},
   "source": [
    "# journal IF matrix"
   ]
  },
  {
   "cell_type": "code",
   "execution_count": 88,
   "id": "ba05dc9b",
   "metadata": {
    "ExecuteTime": {
     "end_time": "2023-02-26T15:20:16.980115Z",
     "start_time": "2023-02-26T15:20:12.007938Z"
    }
   },
   "outputs": [
    {
     "name": "stdout",
     "output_type": "stream",
     "text": [
      "124\n"
     ]
    },
    {
     "name": "stderr",
     "output_type": "stream",
     "text": [
      "7623it [00:00, 1012610.59it/s]\n",
      "7623it [00:00, 915245.30it/s]\n",
      "7623it [00:00, 976667.97it/s]\n",
      "7623it [00:00, 984608.12it/s]\n",
      "7623it [00:00, 820203.67it/s]\n",
      "7623it [00:00, 838530.80it/s]\n",
      "7623it [00:00, 1108140.55it/s]\n",
      "7623it [00:00, 865543.57it/s]\n",
      "7623it [00:00, 818523.87it/s]\n",
      "7623it [00:00, 1125023.91it/s]\n",
      "7623it [00:00, 934423.81it/s]\n",
      "7623it [00:00, 1109140.02it/s]\n",
      "7623it [00:00, 841864.70it/s]\n",
      "7623it [00:00, 1036878.30it/s]\n",
      "7623it [00:00, 1082808.84it/s]\n",
      "7623it [00:00, 904065.47it/s]\n",
      "7623it [00:00, 1134404.09it/s]\n",
      "7623it [00:00, 891163.93it/s]\n",
      "7623it [00:00, 979330.42it/s]\n",
      "7623it [00:00, 1126490.48it/s]\n",
      "7623it [00:00, 919773.87it/s]\n",
      "7623it [00:00, 1146485.20it/s]\n",
      "7623it [00:00, 884752.32it/s]\n",
      "7623it [00:00, 1067944.13it/s]\n",
      "7623it [00:00, 967272.10it/s]\n",
      "7623it [00:00, 946736.33it/s]\n",
      "7623it [00:00, 1082332.33it/s]\n",
      "7623it [00:00, 791336.98it/s]\n",
      "7623it [00:00, 979540.44it/s]\n",
      "7623it [00:00, 1042796.37it/s]\n",
      "7623it [00:00, 875521.77it/s]\n",
      "7623it [00:00, 1031925.49it/s]\n",
      "7623it [00:00, 954195.40it/s]\n",
      "7623it [00:00, 1063044.17it/s]\n",
      "7623it [00:00, 1029732.03it/s]\n",
      "7623it [00:00, 896209.76it/s]\n",
      "7623it [00:00, 1009923.86it/s]\n",
      "7623it [00:00, 937519.92it/s]\n",
      "7623it [00:00, 1185860.82it/s]\n",
      "7623it [00:00, 1047236.56it/s]\n",
      "7623it [00:00, 887330.49it/s]\n",
      "7623it [00:00, 1110102.75it/s]\n",
      "7623it [00:00, 979570.45it/s]\n",
      "7623it [00:00, 1143573.78it/s]\n",
      "7623it [00:00, 869497.97it/s]\n",
      "7623it [00:00, 986643.81it/s]\n",
      "7623it [00:00, 1063468.46it/s]\n",
      "7623it [00:00, 998444.22it/s]\n",
      "7623it [00:00, 1134726.17it/s]\n",
      "7623it [00:00, 883603.13it/s]\n",
      "7623it [00:00, 1051023.29it/s]\n",
      "7623it [00:00, 1079737.25it/s]\n",
      "7623it [00:00, 898097.79it/s]\n",
      "7623it [00:00, 1175484.54it/s]\n",
      "7623it [00:00, 898425.86it/s]\n",
      "7623it [00:00, 1082992.22it/s]\n",
      "7623it [00:00, 1034462.90it/s]\n",
      "7623it [00:00, 831011.81it/s]\n",
      "7623it [00:00, 1080503.51it/s]\n",
      "7623it [00:00, 964936.76it/s]\n",
      "7623it [00:00, 1117904.25it/s]\n",
      "7623it [00:00, 809078.89it/s]\n",
      "7623it [00:00, 932271.38it/s]\n",
      "7623it [00:00, 1001697.40it/s]\n",
      "7623it [00:00, 920435.83it/s]\n",
      "7623it [00:00, 1092577.21it/s]\n",
      "7623it [00:00, 975000.13it/s]\n",
      "7623it [00:00, 781530.14it/s]\n",
      "7623it [00:00, 936257.08it/s]\n",
      "7623it [00:00, 779928.76it/s]\n",
      "7623it [00:00, 692239.96it/s]\n",
      "7623it [00:00, 961628.30it/s]\n",
      "7623it [00:00, 787904.86it/s]\n",
      "7623it [00:00, 732708.01it/s]\n",
      "7623it [00:00, 592633.67it/s]\n",
      "7623it [00:00, 874324.68it/s]\n",
      "7623it [00:00, 917319.74it/s]\n",
      "7623it [00:00, 854395.26it/s]\n",
      "7623it [00:00, 898627.86it/s]\n",
      "7623it [00:00, 779130.53it/s]\n",
      "7623it [00:00, 1129155.93it/s]\n",
      "7623it [00:00, 777085.41it/s]\n",
      "7623it [00:00, 685634.19it/s]\n",
      "7623it [00:00, 1035300.31it/s]\n",
      "7623it [00:00, 934642.33it/s]\n",
      "7623it [00:00, 700843.46it/s]\n",
      "7623it [00:00, 869119.81it/s]\n",
      "7623it [00:00, 930778.71it/s]\n",
      "7623it [00:00, 669581.36it/s]\n",
      "7623it [00:00, 291542.55it/s]\n",
      "7623it [00:00, 1065843.70it/s]\n",
      "7623it [00:00, 829222.97it/s]\n",
      "7623it [00:00, 925926.83it/s]\n",
      "7623it [00:00, 964703.84it/s]\n",
      "7623it [00:00, 873488.67it/s]\n",
      "7623it [00:00, 911384.17it/s]\n",
      "7623it [00:00, 1151108.13it/s]\n",
      "7623it [00:00, 903937.67it/s]\n",
      "7623it [00:00, 1072889.48it/s]\n",
      "7623it [00:00, 955735.62it/s]\n",
      "7623it [00:00, 1150445.43it/s]\n",
      "7623it [00:00, 823562.82it/s]\n",
      "7623it [00:00, 869710.83it/s]\n",
      "7623it [00:00, 1130673.29it/s]\n",
      "7623it [00:00, 830407.48it/s]\n",
      "7623it [00:00, 1194812.38it/s]\n",
      "7623it [00:00, 770066.94it/s]\n",
      "7623it [00:00, 971976.88it/s]\n",
      "7623it [00:00, 1109293.95it/s]\n",
      "7623it [00:00, 968473.36it/s]\n",
      "7623it [00:00, 857856.76it/s]\n",
      "7623it [00:00, 1129155.93it/s]\n",
      "7623it [00:00, 1024551.52it/s]\n",
      "7623it [00:00, 828234.88it/s]\n",
      "7623it [00:00, 836403.05it/s]\n",
      "7623it [00:00, 893779.65it/s]\n",
      "7623it [00:00, 977414.39it/s]\n",
      "7623it [00:00, 712970.89it/s]\n",
      "7623it [00:00, 914250.81it/s]\n",
      "7623it [00:00, 952745.30it/s]\n",
      "7623it [00:00, 835594.28it/s]\n",
      "7623it [00:00, 925230.18it/s]\n",
      "7623it [00:00, 969001.68it/s]\n",
      "7623it [00:00, 776575.81it/s]\n"
     ]
    },
    {
     "name": "stdout",
     "output_type": "stream",
     "text": [
      "124\n",
      "124\n"
     ]
    }
   ],
   "source": [
    "df = pd.read_excel(io='/Users/carina/Downloads/刘嘉莹/异常引用补充实验/sourcecode/ANCI_code/dataset/data/if2017.xlsx')\n",
    "Full_Title = df['Full Title'].str.lower()\n",
    "IF = df['IF 2016-2017']\n",
    "Full_Title = list(Full_Title)\n",
    "IF = list(IF) #102\n",
    "\n",
    "alljournalnames = []\n",
    "print(len(alljournal)) #124\n",
    "for jj in alljournal:\n",
    "    f = open(r'/Users/carina/Downloads/刘嘉莹/异常引用补充实验/sourcecode/ANCI_code/dataset/data/coauthor/processed/selectedJournals.txt','r')\n",
    "    for line in tqdm(f) :\n",
    "        line = line.strip().split('\\t')\n",
    "        if line[0] == jj:\n",
    "            alljournalnames.append(line[1])\n",
    "print(len(alljournalnames)) #124\n",
    "\n",
    "IF_journal = []\n",
    "for name in alljournalnames:\n",
    "    for title,ifs in zip(Full_Title,IF):\n",
    "        if title == name:\n",
    "            i = Full_Title.index(title)\n",
    "            score = IF[i]\n",
    "            IF_journal.append(score)\n",
    "print(len(IF_journal)) #124"
   ]
  },
  {
   "cell_type": "code",
   "execution_count": 89,
   "id": "f9d73b87",
   "metadata": {
    "ExecuteTime": {
     "end_time": "2023-02-26T15:20:35.897396Z",
     "start_time": "2023-02-26T15:20:35.892857Z"
    }
   },
   "outputs": [],
   "source": [
    "\n",
    "f=open(\"/Users/carina/Downloads/刘嘉莹/异常引用补充实验/sourcecode/ANCI_code/dataset/data/irrelevant/matrix/IFS.txt\",\"w\")\n",
    " \n",
    "for line in IF_journal:\n",
    "    f.write(str(line))\n",
    "    f.write('\\n')\n",
    "f.close()"
   ]
  },
  {
   "cell_type": "markdown",
   "id": "db814712",
   "metadata": {},
   "source": [
    "# author credit matrix"
   ]
  },
  {
   "cell_type": "code",
   "execution_count": 90,
   "id": "d6137f08",
   "metadata": {
    "ExecuteTime": {
     "end_time": "2023-02-26T15:20:39.638916Z",
     "start_time": "2023-02-26T15:20:39.618164Z"
    }
   },
   "outputs": [],
   "source": [
    "#author credit\n",
    "df = pd.read_csv('/Users/carina/Downloads/刘嘉莹/异常引用补充实验/sourcecode/ANCI_code/dataset/data/inputTable.csv')\n",
    "df_annomous = df.loc[df['label_ifAbnormal'] == 1]\n",
    "dfa = []\n",
    "dfb = []\n",
    "dfa = df_annomous['paperA'].unique()\n",
    "dfb = df_annomous['paperB'].unique()\n",
    "creditpapers = []\n",
    "creditpapers = list(dfa) + list(dfb) #int\n",
    "creditpapers = sorted(set(creditpapers),key = creditpapers.index)\n",
    "creditpaperstr = [str(x) for x in creditpapers]"
   ]
  },
  {
   "cell_type": "code",
   "execution_count": 95,
   "id": "d4495f2d",
   "metadata": {
    "ExecuteTime": {
     "end_time": "2023-02-26T15:31:23.386305Z",
     "start_time": "2023-02-26T15:31:23.378438Z"
    }
   },
   "outputs": [
    {
     "name": "stderr",
     "output_type": "stream",
     "text": [
      "2014it [00:00, 1133413.16it/s]"
     ]
    },
    {
     "name": "stdout",
     "output_type": "stream",
     "text": [
      "2014\n"
     ]
    },
    {
     "name": "stderr",
     "output_type": "stream",
     "text": [
      "\n"
     ]
    }
   ],
   "source": [
    "annmousauthors = []\n",
    "f=open(r\"/Users/carina/Downloads/刘嘉莹/异常引用补充实验/sourcecode/ANCI_code/dataset/data/annmousauthors.txt\",\"r\")\n",
    "for line in tqdm(f):\n",
    "   \n",
    "    annmousauthors.append(line)\n",
    "\n",
    "f.close()\n",
    "print(len(annmousauthors))  #2014"
   ]
  },
  {
   "cell_type": "code",
   "execution_count": 96,
   "id": "28e385f6",
   "metadata": {
    "ExecuteTime": {
     "end_time": "2023-02-26T15:31:36.397300Z",
     "start_time": "2023-02-26T15:31:36.392371Z"
    }
   },
   "outputs": [
    {
     "name": "stdout",
     "output_type": "stream",
     "text": [
      "1779\n"
     ]
    }
   ],
   "source": [
    "annmousauthorslist = sorted(set(annmousauthors))\n",
    "print(len(annmousauthorslist)) #1779"
   ]
  },
  {
   "cell_type": "code",
   "execution_count": 98,
   "id": "862f3982",
   "metadata": {
    "ExecuteTime": {
     "end_time": "2023-02-26T15:34:46.203887Z",
     "start_time": "2023-02-26T15:34:46.146521Z"
    }
   },
   "outputs": [
    {
     "name": "stdout",
     "output_type": "stream",
     "text": [
      "1525\n",
      "0\n"
     ]
    }
   ],
   "source": [
    "matrixcredic = [[1 for i in range(2)] for j in range(len(allauthor))]\n",
    "#matrixcredic.shape\n",
    "i = 0\n",
    "h = 0\n",
    "for i in range(len(allauthor)):\n",
    "    matrixcredic[i][0] = allauthor[i]\n",
    "    i += 1\n",
    "for item in matrixcredic:\n",
    "    if item[0] in annmousauthors:\n",
    "        item[1] = 0\n",
    "        h += 1\n",
    "credit = []\n",
    "for item in matrixcredic:\n",
    "    credit.append(item[1])#int\n",
    "print(len(credit)) #2566\n",
    "print(h) #76"
   ]
  },
  {
   "cell_type": "code",
   "execution_count": 99,
   "id": "9a28ef54",
   "metadata": {
    "ExecuteTime": {
     "end_time": "2023-02-26T15:35:37.252730Z",
     "start_time": "2023-02-26T15:35:37.246473Z"
    }
   },
   "outputs": [],
   "source": [
    "creditstr = [str(x) for x in credit]\n",
    "f=open(\"/Users/carina/Downloads/刘嘉莹/异常引用补充实验/sourcecode/ANCI_code/dataset/data/irrelevant/matrix/authorcredit.txt\",\"w\")\n",
    " \n",
    "for line in creditstr:\n",
    "    f.write(line)\n",
    "    f.write('\\n')\n",
    "f.close()"
   ]
  },
  {
   "cell_type": "markdown",
   "id": "d0b8a005",
   "metadata": {},
   "source": [
    "# journal paper matrix"
   ]
  },
  {
   "cell_type": "code",
   "execution_count": 100,
   "id": "a5daa511",
   "metadata": {
    "ExecuteTime": {
     "end_time": "2023-02-26T15:35:40.039306Z",
     "start_time": "2023-02-26T15:35:40.010737Z"
    }
   },
   "outputs": [],
   "source": [
    "journalpapermatrix = [[0 for i in range(len(allpaperidstr))] for j in range(len(alljournal))]\n",
    "\n",
    "for ids,js in zip(allpaperidstr,alljournal):\n",
    "    j = allpaperidstr.index(ids)\n",
    "    f = open(r'/Users/carina/Downloads/刘嘉莹/异常引用补充实验/sourcecode/ANCI_code/dataset/data/irrelevant/processed/paperjournal.txt', 'r')\n",
    "    for line in f:\n",
    "        line = line.strip().split(' ')\n",
    "        if line[0] == ids:\n",
    "            i = alljournal.index(js)\n",
    "            journalpapermatrix[i][j] = 1"
   ]
  },
  {
   "cell_type": "code",
   "execution_count": 101,
   "id": "9cf3b678",
   "metadata": {
    "ExecuteTime": {
     "end_time": "2023-02-26T15:35:42.948349Z",
     "start_time": "2023-02-26T15:35:42.929914Z"
    }
   },
   "outputs": [],
   "source": [
    "f=open(r\"/Users/carina/Downloads/刘嘉莹/异常引用补充实验/sourcecode/ANCI_code/dataset/data/irrelevant/matrix/journalpaper.txt\",\"w\")\n",
    " \n",
    "for line in journalpapermatrix:\n",
    "    for item in line:\n",
    "        f.write(str(item)+ ' ')\n",
    "    f.write('\\n')\n",
    "f.close()"
   ]
  },
  {
   "cell_type": "markdown",
   "id": "c1b92538",
   "metadata": {},
   "source": [
    "# author author matrix"
   ]
  },
  {
   "cell_type": "code",
   "execution_count": 102,
   "id": "e06b5e9d",
   "metadata": {
    "ExecuteTime": {
     "end_time": "2023-02-26T15:35:47.595342Z",
     "start_time": "2023-02-26T15:35:47.080155Z"
    }
   },
   "outputs": [],
   "source": [
    "coauthormatrix = [[0 for i in range(len(allauthor))] for j in range(len(allauthor))]\n",
    "for paperid in allpaperidstr:\n",
    "    authors = []\n",
    "    f = open(r'/Users/carina/Downloads/刘嘉莹/异常引用补充实验/sourcecode/ANCI_code/dataset/data/irrelevant/processed/paperauthor.txt', 'r')\n",
    "    for line in f:\n",
    "        line = line.strip().split(' ')\n",
    "        if line[0] == paperid:\n",
    "            authors.append(line[1])\n",
    "    authors = sorted(set(authors))\n",
    "    for author1 in authors:\n",
    "        i = allauthor.index(author1)\n",
    "        for author2 in authors:\n",
    "            j = allauthor.index(author2)\n",
    "            coauthormatrix[i][j] += 1"
   ]
  },
  {
   "cell_type": "code",
   "execution_count": 103,
   "id": "cdbda54f",
   "metadata": {
    "ExecuteTime": {
     "end_time": "2023-02-26T15:35:50.198729Z",
     "start_time": "2023-02-26T15:35:49.462031Z"
    }
   },
   "outputs": [],
   "source": [
    "f=open(r\"/Users/carina/Downloads/刘嘉莹/异常引用补充实验/sourcecode/ANCI_code/dataset/data/irrelevant/matrix/authorauthor.txt\",\"w\")\n",
    " \n",
    "for line in coauthormatrix:\n",
    "    for item in line:\n",
    "        f.write(str(item)+ ' ')\n",
    "    f.write('\\n')\n",
    "f.close()"
   ]
  },
  {
   "cell_type": "markdown",
   "id": "9313f06d",
   "metadata": {},
   "source": [
    "# author paper matrix"
   ]
  },
  {
   "cell_type": "code",
   "execution_count": 104,
   "id": "f00189ea",
   "metadata": {
    "ExecuteTime": {
     "end_time": "2023-02-26T15:35:52.330424Z",
     "start_time": "2023-02-26T15:35:52.326147Z"
    }
   },
   "outputs": [
    {
     "name": "stdout",
     "output_type": "stream",
     "text": [
      "228\n",
      "228\n",
      "116\n"
     ]
    }
   ],
   "source": [
    "print(len(citingpaperid)) #228\n",
    "print(len(citedpaperid))#228\n",
    "print(len(citinginfo1))#116"
   ]
  },
  {
   "cell_type": "code",
   "execution_count": 106,
   "id": "7abfdade",
   "metadata": {
    "ExecuteTime": {
     "end_time": "2023-02-26T15:39:50.981574Z",
     "start_time": "2023-02-26T15:39:50.716670Z"
    }
   },
   "outputs": [],
   "source": [
    "authorpapermatrix = [[0 for i in range(len(allpaperidstr))] for j in range(len(allauthor))]\n",
    "allpaperid = [int(x) for x in allpaperid]\n",
    "for a,b in zip(citingpaperid,citedpaperid):\n",
    "    j = allpaperid.index(int(b))\n",
    "    author = []\n",
    "    f = open(r'/Users/carina/Downloads/刘嘉莹/异常引用补充实验/sourcecode/ANCI_code/dataset/data/irrelevant/processed/paperauthor.txt', 'r')\n",
    "    for line in f:\n",
    "        line = line.strip().split(' ')\n",
    "        if int(line[0]) == a:\n",
    "            author.append(line[1])\n",
    "    author = sorted(set(author))\n",
    "    for au in author:\n",
    "        i = allauthor.index(au)\n",
    "        authorpapermatrix[i][j] = 1\n",
    "    \n",
    "f.close()"
   ]
  },
  {
   "cell_type": "code",
   "execution_count": 107,
   "id": "7207c7e4",
   "metadata": {
    "ExecuteTime": {
     "end_time": "2023-02-26T15:39:56.750552Z",
     "start_time": "2023-02-26T15:39:56.596629Z"
    }
   },
   "outputs": [
    {
     "name": "stderr",
     "output_type": "stream",
     "text": [
      "100%|████████████████████████████████████| 1525/1525 [00:00<00:00, 10449.36it/s]\n"
     ]
    }
   ],
   "source": [
    "f=open(r\"/Users/carina/Downloads/刘嘉莹/异常引用补充实验/sourcecode/ANCI_code/dataset/data/irrelevant/matrix/authorpaper.txt\",\"w\")\n",
    " \n",
    "for line in tqdm(authorpapermatrix):\n",
    "    for item in line:\n",
    "        f.write(str(item)+' ')\n",
    "    f.write('\\n')\n",
    "f.close()"
   ]
  },
  {
   "cell_type": "markdown",
   "id": "21a1c4b2",
   "metadata": {},
   "source": [
    "# 计算引用链接数量和合作链接数量"
   ]
  },
  {
   "cell_type": "code",
   "execution_count": 108,
   "id": "4b476bcc",
   "metadata": {
    "ExecuteTime": {
     "end_time": "2023-02-26T15:40:00.607414Z",
     "start_time": "2023-02-26T15:40:00.599726Z"
    }
   },
   "outputs": [
    {
     "data": {
      "text/plain": [
       "1172"
      ]
     },
     "execution_count": 108,
     "metadata": {},
     "output_type": "execute_result"
    }
   ],
   "source": [
    "sum(map(sum,authorpapermatrix)) #引用链接数量"
   ]
  },
  {
   "cell_type": "code",
   "execution_count": 109,
   "id": "b8c12d67",
   "metadata": {
    "ExecuteTime": {
     "end_time": "2023-02-26T15:40:01.500232Z",
     "start_time": "2023-02-26T15:40:01.480323Z"
    }
   },
   "outputs": [
    {
     "data": {
      "text/plain": [
       "17232"
      ]
     },
     "execution_count": 109,
     "metadata": {},
     "output_type": "execute_result"
    }
   ],
   "source": [
    "sum(map(sum,coauthormatrix))#合作链接数量"
   ]
  },
  {
   "cell_type": "code",
   "execution_count": 110,
   "id": "a365a76f",
   "metadata": {
    "ExecuteTime": {
     "end_time": "2023-02-26T15:40:02.276979Z",
     "start_time": "2023-02-26T15:40:02.256409Z"
    }
   },
   "outputs": [
    {
     "name": "stdout",
     "output_type": "stream",
     "text": [
      "1634\n",
      "7799.0\n"
     ]
    }
   ],
   "source": [
    "s = 0\n",
    "for i in range(len(allauthor)):\n",
    "    s += coauthormatrix[i][i]\n",
    "    i += 1\n",
    "print(s)\n",
    "\n",
    "h = (sum(map(sum,coauthormatrix)) - s)/2\n",
    "print(h)"
   ]
  },
  {
   "cell_type": "code",
   "execution_count": null,
   "id": "d78c2016",
   "metadata": {},
   "outputs": [],
   "source": []
  }
 ],
 "metadata": {
  "kernelspec": {
   "display_name": "Python 3 (ipykernel)",
   "language": "python",
   "name": "python3"
  },
  "language_info": {
   "codemirror_mode": {
    "name": "ipython",
    "version": 3
   },
   "file_extension": ".py",
   "mimetype": "text/x-python",
   "name": "python",
   "nbconvert_exporter": "python",
   "pygments_lexer": "ipython3",
   "version": "3.8.3"
  },
  "toc": {
   "base_numbering": 1,
   "nav_menu": {},
   "number_sections": true,
   "sideBar": true,
   "skip_h1_title": false,
   "title_cell": "Table of Contents",
   "title_sidebar": "Contents",
   "toc_cell": false,
   "toc_position": {},
   "toc_section_display": true,
   "toc_window_display": false
  }
 },
 "nbformat": 4,
 "nbformat_minor": 5
}
