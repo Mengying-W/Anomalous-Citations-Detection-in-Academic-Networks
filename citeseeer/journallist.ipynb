{
 "cells": [
  {
   "cell_type": "code",
   "execution_count": 1,
   "id": "abfa410f",
   "metadata": {
    "ExecuteTime": {
     "end_time": "2023-02-24T14:59:09.308705Z",
     "start_time": "2023-02-24T14:59:01.808762Z"
    }
   },
   "outputs": [],
   "source": [
    "import csv\n",
    "import pandas as pd\n",
    "import random\n",
    "import re\n",
    "import time\n",
    "from tqdm import tqdm, trange"
   ]
  },
  {
   "cell_type": "code",
   "execution_count": 21,
   "id": "b041c758",
   "metadata": {
    "ExecuteTime": {
     "end_time": "2023-02-24T16:30:39.774092Z",
     "start_time": "2023-02-24T16:30:39.692613Z"
    }
   },
   "outputs": [
    {
     "name": "stderr",
     "output_type": "stream",
     "text": [
      "47927it [00:00, 651658.67it/s]\n"
     ]
    }
   ],
   "source": [
    "f = open(r'/Users/carina/Downloads/刘嘉莹/异常引用补充实验/sourcecode/ANCI_code/dataset/data/Journals.txt','r')\n",
    "alljournalid = []\n",
    "alljournalname = []\n",
    "for line in tqdm(f) :\n",
    "    line = line.strip().split('\\t')\n",
    "    alljournalid.append(line[0])\n",
    "    alljournalname.append(line[2])\n",
    "f.close()"
   ]
  },
  {
   "cell_type": "code",
   "execution_count": 22,
   "id": "20dbc359",
   "metadata": {
    "ExecuteTime": {
     "end_time": "2023-02-24T16:30:50.704287Z",
     "start_time": "2023-02-24T16:30:47.447873Z"
    }
   },
   "outputs": [],
   "source": [
    "df = pd.read_excel(io='/Users/carina/Downloads/刘嘉莹/异常引用补充实验/sourcecode/ANCI_code/dataset/data/if2017.xlsx')\n",
    "Full_Title = df['Full Title'].str.lower()"
   ]
  },
  {
   "cell_type": "code",
   "execution_count": 23,
   "id": "7833764f",
   "metadata": {
    "ExecuteTime": {
     "end_time": "2023-02-24T16:30:53.900758Z",
     "start_time": "2023-02-24T16:30:53.896333Z"
    }
   },
   "outputs": [],
   "source": [
    "Full_Title = list(Full_Title)"
   ]
  },
  {
   "cell_type": "code",
   "execution_count": 34,
   "id": "3a829c7d",
   "metadata": {
    "ExecuteTime": {
     "end_time": "2023-02-24T16:40:33.836215Z",
     "start_time": "2023-02-24T16:40:31.004594Z"
    }
   },
   "outputs": [
    {
     "name": "stdout",
     "output_type": "stream",
     "text": [
      "8857\n",
      "7600\n"
     ]
    }
   ],
   "source": [
    "print(len(Full_Title))\n",
    "selectedtitle = [x for x in Full_Title if x in alljournalname ]\n",
    "print(len(selectedtitle))\n",
    "    "
   ]
  },
  {
   "cell_type": "code",
   "execution_count": 43,
   "id": "793460e1",
   "metadata": {
    "ExecuteTime": {
     "end_time": "2023-02-24T16:47:16.782772Z",
     "start_time": "2023-02-24T16:47:12.691628Z"
    }
   },
   "outputs": [
    {
     "name": "stdout",
     "output_type": "stream",
     "text": [
      "7623\n"
     ]
    }
   ],
   "source": [
    "selectedjournalid = []\n",
    "selectedjournalname = []\n",
    "for i,j in zip(alljournalid,alljournalname):\n",
    "    if j in Full_Title:\n",
    "        selectedjournalid.append(i)\n",
    "        selectedjournalname.append(j)\n",
    "print(len(selectedjournalname))\n",
    "with open(r'/Users/carina/Downloads/刘嘉莹/异常引用补充实验/sourcecode/ANCI_code/dataset/data/coauthor/processed/selectedJournals.txt', 'w') as cf:\n",
    "    for i,j in zip(selectedjournalid,selectedjournalname):\n",
    "        cf.write(i + '\\t' + j + '\\n')\n",
    "cf.close()\n",
    "    "
   ]
  }
 ],
 "metadata": {
  "kernelspec": {
   "display_name": "Python 3 (ipykernel)",
   "language": "python",
   "name": "python3"
  },
  "language_info": {
   "codemirror_mode": {
    "name": "ipython",
    "version": 3
   },
   "file_extension": ".py",
   "mimetype": "text/x-python",
   "name": "python",
   "nbconvert_exporter": "python",
   "pygments_lexer": "ipython3",
   "version": "3.8.3"
  },
  "toc": {
   "base_numbering": 1,
   "nav_menu": {},
   "number_sections": true,
   "sideBar": true,
   "skip_h1_title": false,
   "title_cell": "Table of Contents",
   "title_sidebar": "Contents",
   "toc_cell": false,
   "toc_position": {},
   "toc_section_display": true,
   "toc_window_display": false
  }
 },
 "nbformat": 4,
 "nbformat_minor": 5
}
