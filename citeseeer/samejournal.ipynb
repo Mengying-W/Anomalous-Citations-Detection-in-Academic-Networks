{
 "cells": [
  {
   "cell_type": "code",
   "execution_count": 1,
   "id": "92c1cded",
   "metadata": {
    "ExecuteTime": {
     "end_time": "2023-02-25T23:07:36.637272Z",
     "start_time": "2023-02-25T23:07:36.182608Z"
    }
   },
   "outputs": [],
   "source": [
    "import csv\n",
    "import pandas as pd\n",
    "import random\n",
    "import re\n",
    "import time\n",
    "from tqdm import tqdm, trange"
   ]
  },
  {
   "cell_type": "code",
   "execution_count": 2,
   "id": "55483389",
   "metadata": {
    "ExecuteTime": {
     "end_time": "2023-02-25T23:07:43.762568Z",
     "start_time": "2023-02-25T23:07:43.725874Z"
    }
   },
   "outputs": [
    {
     "data": {
      "text/html": [
       "<div>\n",
       "<style scoped>\n",
       "    .dataframe tbody tr th:only-of-type {\n",
       "        vertical-align: middle;\n",
       "    }\n",
       "\n",
       "    .dataframe tbody tr th {\n",
       "        vertical-align: top;\n",
       "    }\n",
       "\n",
       "    .dataframe thead th {\n",
       "        text-align: right;\n",
       "    }\n",
       "</style>\n",
       "<table border=\"1\" class=\"dataframe\">\n",
       "  <thead>\n",
       "    <tr style=\"text-align: right;\">\n",
       "      <th></th>\n",
       "      <th>paperA</th>\n",
       "      <th>paperB</th>\n",
       "      <th>A_firstAuthorInDegree</th>\n",
       "      <th>A_firstAuthorOutDegree</th>\n",
       "      <th>A_PaperOutDegree</th>\n",
       "      <th>abstractSim</th>\n",
       "      <th>notHasCitationPurpose</th>\n",
       "      <th>ifFirstAuthorInSameAffilaition</th>\n",
       "      <th>ifSameJournal</th>\n",
       "      <th>selfCite</th>\n",
       "      <th>citedPaperJournalTypeProportionInCitingPaperReferences</th>\n",
       "      <th>citedPaperFirstAuthorHasCiteCitingPaperFirstAuthorsPaper</th>\n",
       "      <th>citingPaperAuthorsPapersIntersectionCitedPaperAuthorsPapers</th>\n",
       "      <th>B_firstAuthorInDegree</th>\n",
       "      <th>B_firstAuthorOutDegree</th>\n",
       "      <th>B_PaperOutDegree</th>\n",
       "      <th>label_ifAbnormal</th>\n",
       "    </tr>\n",
       "  </thead>\n",
       "  <tbody>\n",
       "    <tr>\n",
       "      <th>0</th>\n",
       "      <td>2138715703</td>\n",
       "      <td>2007600326</td>\n",
       "      <td>0</td>\n",
       "      <td>171</td>\n",
       "      <td>28</td>\n",
       "      <td>0.637714</td>\n",
       "      <td>0.672244</td>\n",
       "      <td>0</td>\n",
       "      <td>0</td>\n",
       "      <td>0</td>\n",
       "      <td>0.027027</td>\n",
       "      <td>0</td>\n",
       "      <td>0</td>\n",
       "      <td>6</td>\n",
       "      <td>0</td>\n",
       "      <td>0</td>\n",
       "      <td>0</td>\n",
       "    </tr>\n",
       "    <tr>\n",
       "      <th>1</th>\n",
       "      <td>2138715703</td>\n",
       "      <td>2147617783</td>\n",
       "      <td>0</td>\n",
       "      <td>171</td>\n",
       "      <td>28</td>\n",
       "      <td>0.569197</td>\n",
       "      <td>0.723836</td>\n",
       "      <td>0</td>\n",
       "      <td>0</td>\n",
       "      <td>0</td>\n",
       "      <td>0.054054</td>\n",
       "      <td>0</td>\n",
       "      <td>0</td>\n",
       "      <td>10</td>\n",
       "      <td>0</td>\n",
       "      <td>0</td>\n",
       "      <td>0</td>\n",
       "    </tr>\n",
       "    <tr>\n",
       "      <th>2</th>\n",
       "      <td>2138715703</td>\n",
       "      <td>1966687480</td>\n",
       "      <td>0</td>\n",
       "      <td>171</td>\n",
       "      <td>28</td>\n",
       "      <td>0.473437</td>\n",
       "      <td>0.770526</td>\n",
       "      <td>0</td>\n",
       "      <td>0</td>\n",
       "      <td>0</td>\n",
       "      <td>0.027027</td>\n",
       "      <td>0</td>\n",
       "      <td>0</td>\n",
       "      <td>6</td>\n",
       "      <td>0</td>\n",
       "      <td>0</td>\n",
       "      <td>0</td>\n",
       "    </tr>\n",
       "    <tr>\n",
       "      <th>3</th>\n",
       "      <td>2138715703</td>\n",
       "      <td>2062460839</td>\n",
       "      <td>0</td>\n",
       "      <td>171</td>\n",
       "      <td>28</td>\n",
       "      <td>0.572876</td>\n",
       "      <td>0.651287</td>\n",
       "      <td>0</td>\n",
       "      <td>0</td>\n",
       "      <td>0</td>\n",
       "      <td>0.027027</td>\n",
       "      <td>0</td>\n",
       "      <td>0</td>\n",
       "      <td>6</td>\n",
       "      <td>0</td>\n",
       "      <td>0</td>\n",
       "      <td>0</td>\n",
       "    </tr>\n",
       "    <tr>\n",
       "      <th>4</th>\n",
       "      <td>2138715703</td>\n",
       "      <td>2134441116</td>\n",
       "      <td>0</td>\n",
       "      <td>171</td>\n",
       "      <td>28</td>\n",
       "      <td>0.524535</td>\n",
       "      <td>0.755068</td>\n",
       "      <td>1</td>\n",
       "      <td>0</td>\n",
       "      <td>0</td>\n",
       "      <td>0.054054</td>\n",
       "      <td>1</td>\n",
       "      <td>1</td>\n",
       "      <td>22</td>\n",
       "      <td>0</td>\n",
       "      <td>0</td>\n",
       "      <td>0</td>\n",
       "    </tr>\n",
       "  </tbody>\n",
       "</table>\n",
       "</div>"
      ],
      "text/plain": [
       "       paperA      paperB  A_firstAuthorInDegree  A_firstAuthorOutDegree  \\\n",
       "0  2138715703  2007600326                      0                     171   \n",
       "1  2138715703  2147617783                      0                     171   \n",
       "2  2138715703  1966687480                      0                     171   \n",
       "3  2138715703  2062460839                      0                     171   \n",
       "4  2138715703  2134441116                      0                     171   \n",
       "\n",
       "   A_PaperOutDegree  abstractSim  notHasCitationPurpose  \\\n",
       "0                28     0.637714               0.672244   \n",
       "1                28     0.569197               0.723836   \n",
       "2                28     0.473437               0.770526   \n",
       "3                28     0.572876               0.651287   \n",
       "4                28     0.524535               0.755068   \n",
       "\n",
       "   ifFirstAuthorInSameAffilaition  ifSameJournal  selfCite  \\\n",
       "0                               0              0         0   \n",
       "1                               0              0         0   \n",
       "2                               0              0         0   \n",
       "3                               0              0         0   \n",
       "4                               1              0         0   \n",
       "\n",
       "   citedPaperJournalTypeProportionInCitingPaperReferences  \\\n",
       "0                                           0.027027        \n",
       "1                                           0.054054        \n",
       "2                                           0.027027        \n",
       "3                                           0.027027        \n",
       "4                                           0.054054        \n",
       "\n",
       "   citedPaperFirstAuthorHasCiteCitingPaperFirstAuthorsPaper  \\\n",
       "0                                                  0          \n",
       "1                                                  0          \n",
       "2                                                  0          \n",
       "3                                                  0          \n",
       "4                                                  1          \n",
       "\n",
       "   citingPaperAuthorsPapersIntersectionCitedPaperAuthorsPapers  \\\n",
       "0                                                  0             \n",
       "1                                                  0             \n",
       "2                                                  0             \n",
       "3                                                  0             \n",
       "4                                                  1             \n",
       "\n",
       "   B_firstAuthorInDegree  B_firstAuthorOutDegree  B_PaperOutDegree  \\\n",
       "0                      6                       0                 0   \n",
       "1                     10                       0                 0   \n",
       "2                      6                       0                 0   \n",
       "3                      6                       0                 0   \n",
       "4                     22                       0                 0   \n",
       "\n",
       "   label_ifAbnormal  \n",
       "0                 0  \n",
       "1                 0  \n",
       "2                 0  \n",
       "3                 0  \n",
       "4                 0  "
      ]
     },
     "execution_count": 2,
     "metadata": {},
     "output_type": "execute_result"
    }
   ],
   "source": [
    "df = pd.read_csv('/Users/carina/Downloads/刘嘉莹/异常引用补充实验/sourcecode/ANCI_code/dataset/data/inputTable.csv')\n",
    "df.head()"
   ]
  },
  {
   "cell_type": "code",
   "execution_count": 3,
   "id": "c5f3c47f",
   "metadata": {
    "ExecuteTime": {
     "end_time": "2023-02-25T23:07:54.593571Z",
     "start_time": "2023-02-25T23:07:54.587581Z"
    }
   },
   "outputs": [],
   "source": [
    "df_t = df.loc[df['label_ifAbnormal'] == 0]\n",
    "df_f = df.loc[df['label_ifAbnormal'] != 0]"
   ]
  },
  {
   "cell_type": "code",
   "execution_count": 4,
   "id": "ceab8337",
   "metadata": {
    "ExecuteTime": {
     "end_time": "2023-02-25T23:08:07.618484Z",
     "start_time": "2023-02-25T23:08:07.613611Z"
    }
   },
   "outputs": [],
   "source": [
    "paperaidlist = []\n",
    "paperaidlist = df_t['paperA'].unique()\n",
    "paperaidliststr = [str(x) for x in paperaidlist]"
   ]
  },
  {
   "cell_type": "code",
   "execution_count": 5,
   "id": "25ece459",
   "metadata": {
    "ExecuteTime": {
     "end_time": "2023-02-25T23:08:15.321772Z",
     "start_time": "2023-02-25T23:08:15.250796Z"
    }
   },
   "outputs": [],
   "source": [
    "paperbidlist = []\n",
    "paperbidlist = df_t['paperB'].unique()\n",
    "paperbidliststr = [str(x) for x in paperbidlist]"
   ]
  },
  {
   "cell_type": "code",
   "execution_count": 6,
   "id": "e8cd35b4",
   "metadata": {
    "ExecuteTime": {
     "end_time": "2023-02-25T23:08:25.270851Z",
     "start_time": "2023-02-25T23:08:25.251737Z"
    }
   },
   "outputs": [],
   "source": [
    "f2 = open(r'/Users/carina/Downloads/刘嘉莹/异常引用补充实验/sourcecode/ANCI_code/dataset/data/allPaperAbstracts-doc2vec-Embedding-128.txt','r')\n",
    "paperid_abstractdoc2vec = []\n",
    "for line in f2:\n",
    "    line = line.strip().split('\\t')\n",
    "    paperid_abstractdoc2vec.append(line[0])"
   ]
  },
  {
   "cell_type": "markdown",
   "id": "bac1e275",
   "metadata": {},
   "source": [
    "# core paper 和 true cited paper"
   ]
  },
  {
   "cell_type": "code",
   "execution_count": 13,
   "id": "b8892c31",
   "metadata": {
    "ExecuteTime": {
     "end_time": "2023-02-25T23:21:37.631516Z",
     "start_time": "2023-02-25T23:21:37.623351Z"
    }
   },
   "outputs": [
    {
     "name": "stdout",
     "output_type": "stream",
     "text": [
      "47\n"
     ]
    }
   ],
   "source": [
    "random.seed(3)\n",
    "randompaperidliststr = random.sample(paperaidliststr,50)\n",
    "#have vectors\n",
    "corepaperidliststr_invec = [x for x in randompaperidliststr if x in paperid_abstractdoc2vec]\n",
    "print(len(corepaperidliststr_invec))"
   ]
  },
  {
   "cell_type": "code",
   "execution_count": 14,
   "id": "474763f2",
   "metadata": {
    "ExecuteTime": {
     "end_time": "2023-02-25T23:30:41.919439Z",
     "start_time": "2023-02-25T23:21:38.922223Z"
    }
   },
   "outputs": [
    {
     "name": "stderr",
     "output_type": "stream",
     "text": [
      "172037947it [09:02, 316834.20it/s]\n"
     ]
    }
   ],
   "source": [
    "f = open(r'/Users/carina/Downloads/刘嘉莹/异常引用补充实验/sourcecode/ANCI_code/dataset/data/Papers.txt','r')\n",
    "alljournalidOf_corepaperidliststr_invec = []\n",
    "allpaperidOf_corepaperidliststr_invec = []\n",
    "for line in tqdm(f) :\n",
    "    line = line.strip().split('\\t')\n",
    "    if line[0] in corepaperidliststr_invec:\n",
    "        allpaperidOf_corepaperidliststr_invec.append(line[0])\n",
    "        alljournalidOf_corepaperidliststr_invec.append(line[10])"
   ]
  },
  {
   "cell_type": "code",
   "execution_count": 10,
   "id": "75d2e46e",
   "metadata": {
    "ExecuteTime": {
     "end_time": "2023-02-25T23:20:32.775680Z",
     "start_time": "2023-02-25T23:20:32.762505Z"
    }
   },
   "outputs": [
    {
     "name": "stderr",
     "output_type": "stream",
     "text": [
      "7623it [00:00, 1108947.68it/s]"
     ]
    },
    {
     "name": "stdout",
     "output_type": "stream",
     "text": [
      "7623\n"
     ]
    },
    {
     "name": "stderr",
     "output_type": "stream",
     "text": [
      "\n"
     ]
    }
   ],
   "source": [
    "allvalidjournalid = []\n",
    "f = open(r'/Users/carina/Downloads/刘嘉莹/异常引用补充实验/sourcecode/ANCI_code/dataset/data/coauthor/processed/selectedJournals.txt','r')\n",
    "for line in tqdm(f) :\n",
    "    line = line.strip().split('\\t')\n",
    "    allvalidjournalid.append(line[0])\n",
    "print(len(allvalidjournalid))"
   ]
  },
  {
   "cell_type": "code",
   "execution_count": 16,
   "id": "42b7f40b",
   "metadata": {
    "ExecuteTime": {
     "end_time": "2023-02-25T23:31:41.103257Z",
     "start_time": "2023-02-25T23:31:41.093946Z"
    }
   },
   "outputs": [
    {
     "name": "stdout",
     "output_type": "stream",
     "text": [
      "47\n",
      "38\n",
      "38\n"
     ]
    }
   ],
   "source": [
    "#删掉没有journalid的论文\n",
    "print(len(alljournalidOf_corepaperidliststr_invec))#47\n",
    "corepaperidliststr = []\n",
    "for paperid,journalid in zip(allpaperidOf_corepaperidliststr_invec,alljournalidOf_corepaperidliststr_invec):\n",
    "    if journalid in allvalidjournalid:\n",
    "        corepaperidliststr.append(paperid)\n",
    "print(len(corepaperidliststr)) #38\n",
    "corepaperidlist = [int(x) for x in corepaperidliststr]\n",
    "print(len(corepaperidlist)) ##38"
   ]
  },
  {
   "cell_type": "code",
   "execution_count": 17,
   "id": "e23d72ce",
   "metadata": {
    "ExecuteTime": {
     "end_time": "2023-02-25T23:32:01.170203Z",
     "start_time": "2023-02-25T23:32:01.155987Z"
    }
   },
   "outputs": [
    {
     "name": "stdout",
     "output_type": "stream",
     "text": [
      "178\n",
      "166\n",
      "161\n",
      "160\n"
     ]
    }
   ],
   "source": [
    "#真实被引用的paper，去掉没有 abstract vec的\n",
    "paperidcitedbycorepaper = []\n",
    "df_citedpaper = df[df['paperA'].isin(corepaperidlist)]\n",
    "print(len(df_citedpaper)) #178\n",
    "paperidcitedbycorepaperori = df_citedpaper['paperB'].unique()\n",
    "print(len(paperidcitedbycorepaperori)) #166\n",
    "paperidcitedbycorepaperoristr = [str(x) for x in paperidcitedbycorepaperori]\n",
    "paperbinabstractem = [x for x in paperidcitedbycorepaperoristr if x in paperid_abstractdoc2vec]\n",
    "print(len(paperbinabstractem)) #161\n",
    "paperbinabstractem_uncore = [x for x in paperbinabstractem if x not in corepaperidliststr]\n",
    "print(len(paperbinabstractem_uncore))#160"
   ]
  },
  {
   "cell_type": "code",
   "execution_count": 20,
   "id": "ffdd6942",
   "metadata": {
    "ExecuteTime": {
     "end_time": "2023-02-26T00:04:16.268994Z",
     "start_time": "2023-02-25T23:50:02.060745Z"
    }
   },
   "outputs": [
    {
     "name": "stderr",
     "output_type": "stream",
     "text": [
      "172037947it [14:14, 201402.03it/s]\n"
     ]
    }
   ],
   "source": [
    "\n",
    "f = open(r'/Users/carina/Downloads/刘嘉莹/异常引用补充实验/sourcecode/ANCI_code/dataset/data/Papers.txt','r')\n",
    "alljournalidOf_citedpaperidliststr_invec = []\n",
    "allpaperidOf_citedpaperidliststr_invec = []\n",
    "for line in tqdm(f) :\n",
    "    line = line.strip().split('\\t')\n",
    "    if line[0] in paperbinabstractem_uncore:\n",
    "        allpaperidOf_citedpaperidliststr_invec.append(line[0])\n",
    "        alljournalidOf_citedpaperidliststr_invec.append(line[10])\n",
    "f.close()"
   ]
  },
  {
   "cell_type": "code",
   "execution_count": 21,
   "id": "b156fd8d",
   "metadata": {
    "ExecuteTime": {
     "end_time": "2023-02-26T00:04:28.259701Z",
     "start_time": "2023-02-26T00:04:28.242017Z"
    }
   },
   "outputs": [
    {
     "name": "stdout",
     "output_type": "stream",
     "text": [
      "160\n",
      "137\n",
      "137\n",
      "137\n"
     ]
    }
   ],
   "source": [
    "#删掉没有journalid的论文\n",
    "print(len(alljournalidOf_citedpaperidliststr_invec))#160\n",
    "citedpaperidliststr = []\n",
    "for paperid,journalid in zip(allpaperidOf_citedpaperidliststr_invec,alljournalidOf_citedpaperidliststr_invec):\n",
    "    if journalid in allvalidjournalid:\n",
    "        citedpaperidliststr.append(paperid)\n",
    "print(len(citedpaperidliststr)) #137\n",
    "paperidcitedbycorepaperstr = citedpaperidliststr\n",
    "print(len(paperidcitedbycorepaperstr))#137\n",
    "paperidcitedbycorepaper = [int(x) for x in paperidcitedbycorepaperstr]\n",
    "print(len(paperidcitedbycorepaper)) ##137"
   ]
  },
  {
   "cell_type": "code",
   "execution_count": 22,
   "id": "e54f14d6",
   "metadata": {
    "ExecuteTime": {
     "end_time": "2023-02-26T00:05:03.497683Z",
     "start_time": "2023-02-26T00:05:03.492843Z"
    }
   },
   "outputs": [
    {
     "name": "stdout",
     "output_type": "stream",
     "text": [
      "137\n",
      "137\n",
      "137\n"
     ]
    }
   ],
   "source": [
    "#删掉core paper中重复的\n",
    "paperidcitedbycorepaper = sorted(set(paperidcitedbycorepaper))\n",
    "print(len(paperidcitedbycorepaper)) #137\n",
    "paperidcitedbycorepaper = [x for x in paperidcitedbycorepaper if x not in corepaperidlist]\n",
    "print(len(paperidcitedbycorepaper)) #137\n",
    "paperidcitedbycorepaperstr = [str(x) for x in paperidcitedbycorepaper]\n",
    "print(len(paperidcitedbycorepaperstr))# 137"
   ]
  },
  {
   "cell_type": "markdown",
   "id": "22a4d03f",
   "metadata": {},
   "source": [
    "# 需要添加的异常引用的paper id+所需要用到的所有paper id"
   ]
  },
  {
   "cell_type": "code",
   "execution_count": 23,
   "id": "d8e41d45",
   "metadata": {
    "ExecuteTime": {
     "end_time": "2023-02-26T00:06:01.600871Z",
     "start_time": "2023-02-26T00:06:01.594631Z"
    }
   },
   "outputs": [
    {
     "name": "stdout",
     "output_type": "stream",
     "text": [
      "38\n",
      "19\n",
      "19\n",
      "19\n",
      "19\n"
     ]
    }
   ],
   "source": [
    "#把core paper分两半，后一半加入异常引用\n",
    "print(len(corepaperidliststr)) #38\n",
    "corepaperidliststr1 = corepaperidliststr[0:19]\n",
    "print(len(corepaperidliststr1))  #19\n",
    "corepaperidliststr2 = corepaperidliststr[19:38]\n",
    "print(len(corepaperidliststr2))  #19\n",
    "corepaperidlist1 = corepaperidlist[0:19]\n",
    "print(len(corepaperidlist1))  #19\n",
    "corepaperidlist2 = corepaperidlist[19:38]\n",
    "print(len(corepaperidlist2))  #19"
   ]
  },
  {
   "cell_type": "code",
   "execution_count": 24,
   "id": "279e39f8",
   "metadata": {
    "ExecuteTime": {
     "end_time": "2023-02-26T00:14:24.829520Z",
     "start_time": "2023-02-26T00:06:19.794909Z"
    }
   },
   "outputs": [
    {
     "name": "stderr",
     "output_type": "stream",
     "text": [
      "172037947it [08:05, 354697.54it/s]\n"
     ]
    }
   ],
   "source": [
    "f = open(r'/Users/carina/Downloads/刘嘉莹/异常引用补充实验/sourcecode/ANCI_code/dataset/data/Papers.txt','r')\n",
    "alljournalidOf_2nd = []\n",
    "for line in tqdm(f) :\n",
    "    line = line.strip().split('\\t')\n",
    "    if line[0] in corepaperidliststr2:\n",
    "        alljournalidOf_2nd.append(line[10])\n",
    "f.close()"
   ]
  },
  {
   "cell_type": "code",
   "execution_count": 25,
   "id": "e2e0e5e5",
   "metadata": {
    "ExecuteTime": {
     "end_time": "2023-02-26T00:20:05.998849Z",
     "start_time": "2023-02-26T00:20:05.994718Z"
    }
   },
   "outputs": [],
   "source": [
    "#delete unvalid journal\n",
    "annmous_journalstr = [x for x in alljournalidOf_2nd if x in allvalidjournalid]"
   ]
  },
  {
   "cell_type": "code",
   "execution_count": 27,
   "id": "8038bc81",
   "metadata": {
    "ExecuteTime": {
     "end_time": "2023-02-26T00:28:31.804335Z",
     "start_time": "2023-02-26T00:20:29.252823Z"
    }
   },
   "outputs": [
    {
     "name": "stderr",
     "output_type": "stream",
     "text": [
      "172037947it [08:02, 356522.28it/s]\n"
     ]
    }
   ],
   "source": [
    "#papers published by annmous journal\n",
    "annmous_paperid_ori = []\n",
    "annmous_journalid_ori = []\n",
    "f = open(r'/Users/carina/Downloads/刘嘉莹/异常引用补充实验/sourcecode/ANCI_code/dataset/data/Papers.txt','r')\n",
    "\n",
    "for line in tqdm(f) :\n",
    "    line = line.strip().split('\\t')\n",
    "    if line[10] in annmous_journalstr:\n",
    "        annmous_paperid_ori.append(line[0])\n",
    "        annmous_journalid_ori.append(line[10])\n",
    "f.close()"
   ]
  },
  {
   "cell_type": "code",
   "execution_count": 28,
   "id": "1ce943ec",
   "metadata": {
    "ExecuteTime": {
     "end_time": "2023-02-26T00:29:38.725831Z",
     "start_time": "2023-02-26T00:29:20.698341Z"
    }
   },
   "outputs": [
    {
     "name": "stdout",
     "output_type": "stream",
     "text": [
      "356974\n",
      "356974\n",
      "249\n",
      "228\n",
      "215\n"
     ]
    }
   ],
   "source": [
    "print(len(annmous_paperid_ori))#356974\n",
    "annmous_paperid0 = sorted(set(annmous_paperid_ori))\n",
    "print(len(annmous_paperid0))#356974\n",
    "annmous_paperid1 = [x for x in annmous_paperid0 if x in paperid_abstractdoc2vec]\n",
    "print(len(annmous_paperid1))#249\n",
    "annmous_paperid2 = [x for x in annmous_paperid1 if x not in corepaperidliststr]\n",
    "print(len(annmous_paperid2))#228\n",
    "annmous_paperid = [x for x in annmous_paperid2 if x not in paperidcitedbycorepaperstr]\n",
    "print(len(annmous_paperid))#215"
   ]
  },
  {
   "cell_type": "code",
   "execution_count": 29,
   "id": "cd841dd0",
   "metadata": {
    "ExecuteTime": {
     "end_time": "2023-02-26T00:30:42.853729Z",
     "start_time": "2023-02-26T00:30:42.849169Z"
    }
   },
   "outputs": [
    {
     "name": "stdout",
     "output_type": "stream",
     "text": [
      "390\n",
      "390\n"
     ]
    }
   ],
   "source": [
    "#所有论文id\n",
    "allpaperidstr = corepaperidliststr + paperidcitedbycorepaperstr + annmous_paperid\n",
    "print(len(allpaperidstr)) #390 + 38 + 137 + 215\n",
    "allpaperid = [int(x) for x in allpaperidstr]\n",
    "print(len(allpaperid))"
   ]
  },
  {
   "cell_type": "code",
   "execution_count": 30,
   "id": "1aad0d9b",
   "metadata": {
    "ExecuteTime": {
     "end_time": "2023-02-26T00:30:59.503727Z",
     "start_time": "2023-02-26T00:30:59.499064Z"
    }
   },
   "outputs": [],
   "source": [
    "\n",
    "with open(r'/Users/carina/Downloads/刘嘉莹/异常引用补充实验/sourcecode/ANCI_code/dataset/data/samejournal/processed/allpaperid.txt', 'w') as cf:\n",
    "    for line in allpaperidstr:\n",
    "        cf.write(line+'\\n')\n",
    "\n",
    "cf.close()"
   ]
  },
  {
   "cell_type": "markdown",
   "id": "d0240a77",
   "metadata": {},
   "source": [
    "# journal和paper-journal"
   ]
  },
  {
   "cell_type": "code",
   "execution_count": 31,
   "id": "2e818774",
   "metadata": {
    "ExecuteTime": {
     "end_time": "2023-02-26T00:31:05.008789Z",
     "start_time": "2023-02-26T00:31:03.037609Z"
    }
   },
   "outputs": [
    {
     "name": "stdout",
     "output_type": "stream",
     "text": [
      "424\n",
      "424\n"
     ]
    }
   ],
   "source": [
    "journal = alljournalidOf_corepaperidliststr_invec + alljournalidOf_citedpaperidliststr_invec + annmous_journalid_ori\n",
    "paper = allpaperidOf_corepaperidliststr_invec + allpaperidOf_citedpaperidliststr_invec + annmous_paperid_ori\n",
    "\n",
    "alljournalid = []\n",
    "publishedpaper = []\n",
    "for item1,item2 in zip(journal,paper):\n",
    "    if item2 in allpaperidstr:\n",
    "        alljournalid.append(item1)\n",
    "        publishedpaper.append(item2)\n",
    "        \n",
    "print(len(alljournalid)) #424\n",
    "#alljournalid = sorted(set(alljournalid))\n",
    "print(len(publishedpaper)) #424\n"
   ]
  },
  {
   "cell_type": "code",
   "execution_count": 32,
   "id": "3da866cf",
   "metadata": {
    "ExecuteTime": {
     "end_time": "2023-02-26T00:31:17.616357Z",
     "start_time": "2023-02-26T00:31:17.611687Z"
    }
   },
   "outputs": [],
   "source": [
    "with open(r'/Users/carina/Downloads/刘嘉莹/异常引用补充实验/sourcecode/ANCI_code/dataset/data/samejournal/processed/paperjournal.txt', 'w') as cf:\n",
    "    for p,j in zip(publishedpaper,alljournalid):\n",
    "        cf.write(p + ' ' + j + '\\n')\n",
    "\n",
    "cf.close()"
   ]
  },
  {
   "cell_type": "code",
   "execution_count": 38,
   "id": "62892930",
   "metadata": {
    "ExecuteTime": {
     "end_time": "2023-02-26T00:37:01.444250Z",
     "start_time": "2023-02-26T00:37:01.438365Z"
    }
   },
   "outputs": [
    {
     "name": "stdout",
     "output_type": "stream",
     "text": [
      "102\n"
     ]
    }
   ],
   "source": [
    "alljournal = sorted(set(alljournalid))\n",
    "print(len(alljournal))\n",
    "with open(r'/Users/carina/Downloads/刘嘉莹/异常引用补充实验/sourcecode/ANCI_code/dataset/data/samejournal/processed//alljournalid.txt', 'w') as cf:\n",
    "    for line in alljournal:\n",
    "        cf.write(line+'\\n')\n",
    "\n",
    "cf.close()"
   ]
  },
  {
   "cell_type": "markdown",
   "id": "6d1b795f",
   "metadata": {},
   "source": [
    "# author 和author-paper"
   ]
  },
  {
   "cell_type": "code",
   "execution_count": 39,
   "id": "c95a083d",
   "metadata": {
    "ExecuteTime": {
     "end_time": "2023-02-26T01:22:24.616708Z",
     "start_time": "2023-02-26T00:37:16.861753Z"
    }
   },
   "outputs": [
    {
     "name": "stderr",
     "output_type": "stream",
     "text": [
      "455999370it [45:07, 168405.42it/s]"
     ]
    },
    {
     "name": "stdout",
     "output_type": "stream",
     "text": [
      "2759\n",
      "2759\n"
     ]
    },
    {
     "name": "stderr",
     "output_type": "stream",
     "text": [
      "\n"
     ]
    }
   ],
   "source": [
    "paperid_inpaperauthor = []\n",
    "authorid_inpaperauthor = []\n",
    "f = open(r'/Users/carina/Downloads/刘嘉莹/异常引用补充实验/sourcecode/ANCI_code/dataset/data/PaperAuthorAffiliations.txt','r')\n",
    "\n",
    "for line in tqdm(f):\n",
    "    line = line.split('\\t')\n",
    "    if line[0] in allpaperidstr:\n",
    "        paperid_inpaperauthor.append(line[0]) #str\n",
    "        authorid_inpaperauthor.append(line[1]) #str    \n",
    "print(len(paperid_inpaperauthor)) #588\n",
    "print(len(authorid_inpaperauthor)) #753\n",
    "f.close()"
   ]
  },
  {
   "cell_type": "code",
   "execution_count": 40,
   "id": "8053476d",
   "metadata": {
    "ExecuteTime": {
     "end_time": "2023-02-26T01:25:47.328555Z",
     "start_time": "2023-02-26T01:25:47.319841Z"
    }
   },
   "outputs": [
    {
     "name": "stdout",
     "output_type": "stream",
     "text": [
      "2566\n"
     ]
    }
   ],
   "source": [
    "allauthor = sorted(set(authorid_inpaperauthor))\n",
    "print(len(allauthor)) #2566\n",
    "with open(r'/Users/carina/Downloads/刘嘉莹/异常引用补充实验/sourcecode/ANCI_code/dataset/data/samejournal/processed/allauthorid.txt', 'w') as cf:\n",
    "    for line in allauthor:\n",
    "        cf.write(line+'\\n')\n",
    "\n",
    "cf.close()"
   ]
  },
  {
   "cell_type": "code",
   "execution_count": 41,
   "id": "1ac0aebf",
   "metadata": {
    "ExecuteTime": {
     "end_time": "2023-02-26T01:25:50.564235Z",
     "start_time": "2023-02-26T01:25:50.558120Z"
    }
   },
   "outputs": [],
   "source": [
    "with open(r'/Users/carina/Downloads/刘嘉莹/异常引用补充实验/sourcecode/ANCI_code/dataset/data/samejournal/processed/paperauthor.txt', 'w') as cf:\n",
    "    for p,a in zip(paperid_inpaperauthor,authorid_inpaperauthor):\n",
    "        cf.write(p + ' ' + a + '\\n')\n",
    "\n",
    "cf.close()"
   ]
  },
  {
   "cell_type": "markdown",
   "id": "e11f7a89",
   "metadata": {},
   "source": [
    "# citing relationship"
   ]
  },
  {
   "cell_type": "code",
   "execution_count": 43,
   "id": "7b339e86",
   "metadata": {
    "ExecuteTime": {
     "end_time": "2023-02-26T01:27:25.894218Z",
     "start_time": "2023-02-26T01:27:25.833379Z"
    }
   },
   "outputs": [],
   "source": [
    "citinginfo = df_t.loc[df_t['paperA'].isin(corepaperidlist)]\n",
    "paperidcitedbycorepaper = [int(x) for x in paperidcitedbycorepaperstr]\n",
    "citinginfo1 = citinginfo.loc[citinginfo['paperB'].isin(paperidcitedbycorepaper)]\n",
    "citingpaperid = list(citinginfo1['paperA'])\n",
    "citedpaperid = list(citinginfo1['paperB'])\n",
    "\n",
    "for id1 in corepaperidliststr2:\n",
    "    journal = []\n",
    "    f = open(r'/Users/carina/Downloads/刘嘉莹/异常引用补充实验/sourcecode/ANCI_code/dataset/data/samejournal/processed/paperjournal.txt', 'r')\n",
    "    for line in f:\n",
    "        line = line.strip().split(' ')\n",
    "        if line[0] == id1:\n",
    "            journal.append(line[1])\n",
    "    #print(len(author))\n",
    "    paper = []\n",
    "    for jj in journal:\n",
    "        \n",
    "        f = open(r'/Users/carina/Downloads/刘嘉莹/异常引用补充实验/sourcecode/ANCI_code/dataset/data/samejournal/processed/paperjournal.txt', 'r')\n",
    "        for line in f:\n",
    "            line = line.strip().split(' ')\n",
    "            if line[1] == jj:\n",
    "                paper.append(line[0])\n",
    "        #print(len(paper))\n",
    "    paper = sorted(set(paper))\n",
    "    paper = [x for x in paper if x != id1]\n",
    "    for i in range(len(paper)):\n",
    "        citingpaperid.append(int(id1))\n",
    "        citedpaperid.append(int(paper[i]))\n",
    "f.close()"
   ]
  },
  {
   "cell_type": "code",
   "execution_count": 44,
   "id": "b01d2734",
   "metadata": {
    "ExecuteTime": {
     "end_time": "2023-02-26T01:27:32.373579Z",
     "start_time": "2023-02-26T01:27:32.369276Z"
    }
   },
   "outputs": [
    {
     "name": "stdout",
     "output_type": "stream",
     "text": [
      "143\n",
      "545\n",
      "402\n"
     ]
    }
   ],
   "source": [
    "print(len(citinginfo1))#真实引用数量 143\n",
    "print(len(citingpaperid))#总引用数量 545\n",
    "a = len(citinginfo1)\n",
    "b = len(citingpaperid)\n",
    "c = b - a\n",
    "print(c) #402"
   ]
  },
  {
   "cell_type": "code",
   "execution_count": 45,
   "id": "6545833b",
   "metadata": {
    "ExecuteTime": {
     "end_time": "2023-02-26T01:27:37.825619Z",
     "start_time": "2023-02-26T01:27:37.820328Z"
    }
   },
   "outputs": [],
   "source": [
    "with open(r'/Users/carina/Downloads/刘嘉莹/异常引用补充实验/sourcecode/ANCI_code/dataset/data/samejournal/processed/citinginfo.txt', 'w') as cf:\n",
    "    for ing,ed in zip(citingpaperid, citedpaperid):\n",
    "        cf.write(str(ing) + ' ' + str(ed) + '\\n')\n",
    "\n",
    "cf.close()"
   ]
  },
  {
   "cell_type": "markdown",
   "id": "9f31b730",
   "metadata": {},
   "source": [
    "# abstract vec matrix"
   ]
  },
  {
   "cell_type": "code",
   "execution_count": 46,
   "id": "4cb95bc5",
   "metadata": {
    "ExecuteTime": {
     "end_time": "2023-02-26T01:27:44.652966Z",
     "start_time": "2023-02-26T01:27:40.681681Z"
    }
   },
   "outputs": [
    {
     "name": "stdout",
     "output_type": "stream",
     "text": [
      "390\n",
      "128\n",
      "128\n",
      "128\n",
      "128\n",
      "128\n",
      "128\n",
      "128\n",
      "128\n",
      "128\n",
      "128\n",
      "128\n",
      "128\n",
      "128\n",
      "128\n",
      "128\n",
      "128\n",
      "128\n",
      "128\n",
      "128\n",
      "128\n",
      "128\n",
      "128\n",
      "128\n",
      "128\n",
      "128\n",
      "128\n",
      "128\n",
      "128\n",
      "128\n",
      "128\n",
      "128\n",
      "128\n",
      "128\n",
      "128\n",
      "128\n",
      "128\n",
      "128\n",
      "128\n",
      "128\n",
      "128\n",
      "128\n",
      "128\n",
      "128\n",
      "128\n",
      "128\n",
      "128\n",
      "128\n",
      "128\n",
      "128\n",
      "128\n",
      "128\n",
      "128\n",
      "128\n",
      "128\n",
      "128\n",
      "128\n",
      "128\n",
      "128\n",
      "128\n",
      "128\n",
      "128\n",
      "128\n",
      "128\n",
      "128\n",
      "128\n",
      "128\n",
      "128\n",
      "128\n",
      "128\n",
      "128\n",
      "128\n",
      "128\n",
      "128\n",
      "128\n",
      "128\n",
      "128\n",
      "128\n",
      "128\n",
      "128\n",
      "128\n",
      "128\n",
      "128\n",
      "128\n",
      "128\n",
      "128\n",
      "128\n",
      "128\n",
      "128\n",
      "128\n",
      "128\n",
      "128\n",
      "128\n",
      "128\n",
      "128\n",
      "128\n",
      "128\n",
      "128\n",
      "128\n",
      "128\n",
      "128\n",
      "128\n",
      "128\n",
      "128\n",
      "128\n",
      "128\n",
      "128\n",
      "128\n",
      "128\n",
      "128\n",
      "128\n",
      "128\n",
      "128\n",
      "128\n",
      "128\n",
      "128\n",
      "128\n",
      "128\n",
      "128\n",
      "128\n",
      "128\n",
      "128\n",
      "128\n",
      "128\n",
      "128\n",
      "128\n",
      "128\n",
      "128\n",
      "128\n",
      "128\n",
      "128\n",
      "128\n",
      "128\n",
      "128\n",
      "128\n",
      "128\n",
      "128\n",
      "128\n",
      "128\n",
      "128\n",
      "128\n",
      "128\n",
      "128\n",
      "128\n",
      "128\n",
      "128\n",
      "128\n",
      "128\n",
      "128\n",
      "128\n",
      "128\n",
      "128\n",
      "128\n",
      "128\n",
      "128\n",
      "128\n",
      "128\n",
      "128\n",
      "128\n",
      "128\n",
      "128\n",
      "128\n",
      "128\n",
      "128\n",
      "128\n",
      "128\n",
      "128\n",
      "128\n",
      "128\n",
      "128\n",
      "128\n",
      "128\n",
      "128\n",
      "128\n",
      "128\n",
      "128\n",
      "128\n",
      "128\n",
      "128\n",
      "128\n",
      "128\n",
      "128\n",
      "128\n",
      "128\n",
      "128\n",
      "128\n",
      "128\n",
      "128\n",
      "128\n",
      "128\n",
      "128\n",
      "128\n",
      "128\n",
      "128\n",
      "128\n",
      "128\n",
      "128\n",
      "128\n",
      "128\n",
      "128\n",
      "128\n",
      "128\n",
      "128\n",
      "128\n",
      "128\n",
      "128\n",
      "128\n",
      "128\n",
      "128\n",
      "128\n",
      "128\n",
      "128\n",
      "128\n",
      "128\n",
      "128\n",
      "128\n",
      "128\n",
      "128\n",
      "128\n",
      "128\n",
      "128\n",
      "128\n",
      "128\n",
      "128\n",
      "128\n",
      "128\n",
      "128\n",
      "128\n",
      "128\n",
      "128\n",
      "128\n",
      "128\n",
      "128\n",
      "128\n",
      "128\n",
      "128\n",
      "128\n",
      "128\n",
      "128\n",
      "128\n",
      "128\n",
      "128\n",
      "128\n",
      "128\n",
      "128\n",
      "128\n",
      "128\n",
      "128\n",
      "128\n",
      "128\n",
      "128\n",
      "128\n",
      "128\n",
      "128\n",
      "128\n",
      "128\n",
      "128\n",
      "128\n",
      "128\n",
      "128\n",
      "128\n",
      "128\n",
      "128\n",
      "128\n",
      "128\n",
      "128\n",
      "128\n",
      "128\n",
      "128\n",
      "128\n",
      "128\n",
      "128\n",
      "128\n",
      "128\n",
      "128\n",
      "128\n",
      "128\n",
      "128\n",
      "128\n",
      "128\n",
      "128\n",
      "128\n",
      "128\n",
      "128\n",
      "128\n",
      "128\n",
      "128\n",
      "128\n",
      "128\n",
      "128\n",
      "128\n",
      "128\n",
      "128\n",
      "128\n",
      "128\n",
      "128\n",
      "128\n",
      "128\n",
      "128\n",
      "128\n",
      "128\n",
      "128\n",
      "128\n",
      "128\n",
      "128\n",
      "128\n",
      "128\n",
      "128\n",
      "128\n",
      "128\n",
      "128\n",
      "128\n",
      "128\n",
      "128\n",
      "128\n",
      "128\n",
      "128\n",
      "128\n",
      "128\n",
      "128\n",
      "128\n",
      "128\n",
      "128\n",
      "128\n",
      "128\n",
      "128\n",
      "128\n",
      "128\n",
      "128\n",
      "128\n",
      "128\n",
      "128\n",
      "128\n",
      "128\n",
      "128\n",
      "128\n",
      "128\n",
      "128\n",
      "128\n",
      "128\n",
      "128\n",
      "128\n",
      "128\n",
      "128\n",
      "128\n",
      "128\n",
      "128\n",
      "128\n",
      "128\n",
      "128\n",
      "128\n",
      "128\n",
      "128\n",
      "128\n",
      "128\n",
      "128\n",
      "128\n",
      "128\n",
      "128\n",
      "128\n",
      "128\n",
      "128\n",
      "128\n",
      "128\n",
      "128\n",
      "128\n",
      "128\n",
      "128\n",
      "128\n",
      "128\n",
      "128\n",
      "128\n",
      "128\n",
      "128\n",
      "128\n",
      "128\n",
      "128\n",
      "128\n",
      "128\n",
      "128\n",
      "128\n",
      "128\n",
      "128\n",
      "128\n",
      "128\n",
      "128\n",
      "128\n",
      "128\n",
      "128\n",
      "128\n",
      "128\n",
      "390\n"
     ]
    }
   ],
   "source": [
    "embeddingvectors = []\n",
    "x = 0\n",
    "print(len(allpaperidstr))#390\n",
    "for ids in allpaperidstr:\n",
    "    f2 = open(r'/Users/carina/Downloads/刘嘉莹/异常引用补充实验/sourcecode/ANCI_code/dataset/data/allPaperAbstracts-doc2vec-Embedding-128.txt','r')\n",
    "    for line in f2:\n",
    "        line = line.strip().split('\\t')\n",
    "        if line[0] == ids:\n",
    "            x+=1\n",
    "            vectors = line[1].split(' ')\n",
    "\n",
    "            embeddingvectors.append(vectors[0:129]) #str\n",
    "            print(len(vectors))\n",
    "            \n",
    "f2.close()\n",
    "print(x)#390"
   ]
  },
  {
   "cell_type": "code",
   "execution_count": 47,
   "id": "b11b2038",
   "metadata": {
    "ExecuteTime": {
     "end_time": "2023-02-26T01:28:48.175588Z",
     "start_time": "2023-02-26T01:28:48.157889Z"
    }
   },
   "outputs": [],
   "source": [
    "f=open(r\"/Users/carina/Downloads/刘嘉莹/异常引用补充实验/sourcecode/ANCI_code/dataset/data/samejournal/matrix/abstract2vec.txt\",\"w\")\n",
    " \n",
    "for line in embeddingvectors:\n",
    "    for item in line:\n",
    "        f.write(item + ' ')\n",
    "    f.write('\\n')\n",
    "f.close()"
   ]
  },
  {
   "cell_type": "markdown",
   "id": "ed1d0bd7",
   "metadata": {},
   "source": [
    "# journal IF matrix"
   ]
  },
  {
   "cell_type": "code",
   "execution_count": 48,
   "id": "2f74f4b4",
   "metadata": {
    "ExecuteTime": {
     "end_time": "2023-02-26T01:28:57.999820Z",
     "start_time": "2023-02-26T01:28:53.608077Z"
    }
   },
   "outputs": [
    {
     "name": "stdout",
     "output_type": "stream",
     "text": [
      "102\n"
     ]
    },
    {
     "name": "stderr",
     "output_type": "stream",
     "text": [
      "7623it [00:00, 1050712.43it/s]\n",
      "7623it [00:00, 899158.56it/s]\n",
      "7623it [00:00, 925123.10it/s]\n",
      "7623it [00:00, 977832.88it/s]\n",
      "7623it [00:00, 992185.55it/s]\n",
      "7623it [00:00, 934423.81it/s]\n",
      "7623it [00:00, 826693.02it/s]\n",
      "7623it [00:00, 1066448.06it/s]\n",
      "7623it [00:00, 1052926.94it/s]\n",
      "7623it [00:00, 1001038.80it/s]\n",
      "7623it [00:00, 985640.11it/s]\n",
      "7623it [00:00, 961512.63it/s]\n",
      "7623it [00:00, 911280.27it/s]\n",
      "7623it [00:00, 896310.25it/s]\n",
      "7623it [00:00, 968737.45it/s]\n",
      "7623it [00:00, 1136379.71it/s]\n",
      "7623it [00:00, 882505.64it/s]\n",
      "7623it [00:00, 1051610.95it/s]\n",
      "7623it [00:00, 932815.36it/s]\n",
      "7623it [00:00, 930887.10it/s]\n",
      "7623it [00:00, 1118412.60it/s]\n",
      "7623it [00:00, 768050.62it/s]\n",
      "7623it [00:00, 953683.09it/s]\n",
      "7623it [00:00, 1058749.61it/s]\n",
      "7623it [00:00, 769844.44it/s]\n",
      "7623it [00:00, 1015989.18it/s]\n",
      "7623it [00:00, 1060505.47it/s]\n",
      "7623it [00:00, 1029301.08it/s]\n",
      "7623it [00:00, 883212.60it/s]\n",
      "7623it [00:00, 1085124.02it/s]\n",
      "7623it [00:00, 832591.52it/s]\n",
      "7623it [00:00, 1057139.34it/s]\n",
      "7623it [00:00, 929290.80it/s]\n",
      "7623it [00:00, 885462.89it/s]\n",
      "7623it [00:00, 977563.81it/s]\n",
      "7623it [00:00, 931538.02it/s]\n",
      "7623it [00:00, 1021181.07it/s]\n",
      "7623it [00:00, 1060822.14it/s]\n",
      "7623it [00:00, 1012899.30it/s]\n",
      "7623it [00:00, 1013702.15it/s]\n",
      "7623it [00:00, 901999.59it/s]\n",
      "7623it [00:00, 1042728.35it/s]\n",
      "7623it [00:00, 959953.75it/s]\n",
      "7623it [00:00, 989605.97it/s]\n",
      "7623it [00:00, 1031259.82it/s]\n",
      "7623it [00:00, 922667.00it/s]\n",
      "7623it [00:00, 1064707.94it/s]\n",
      "7623it [00:00, 801232.41it/s]\n",
      "7623it [00:00, 1114630.62it/s]\n",
      "7623it [00:00, 948843.50it/s]\n",
      "7623it [00:00, 938896.44it/s]\n",
      "7623it [00:00, 1076864.35it/s]\n",
      "7623it [00:00, 814084.77it/s]\n",
      "7623it [00:00, 999349.23it/s]\n",
      "7623it [00:00, 1019097.96it/s]\n",
      "7623it [00:00, 938924.01it/s]\n",
      "7623it [00:00, 1046105.86it/s]\n",
      "7623it [00:00, 928616.06it/s]\n",
      "7623it [00:00, 1116265.03it/s]\n",
      "7623it [00:00, 905653.17it/s]\n",
      "7623it [00:00, 957538.84it/s]\n",
      "7623it [00:00, 1042354.42it/s]\n",
      "7623it [00:00, 888143.87it/s]\n",
      "7623it [00:00, 1011713.43it/s]\n",
      "7623it [00:00, 911618.04it/s]\n",
      "7623it [00:00, 866059.36it/s]\n",
      "7623it [00:00, 1107641.49it/s]\n",
      "7623it [00:00, 900323.24it/s]\n",
      "7623it [00:00, 1096210.77it/s]\n",
      "7623it [00:00, 901923.26it/s]\n",
      "7623it [00:00, 935107.02it/s]\n",
      "7623it [00:00, 1013702.15it/s]\n",
      "7623it [00:00, 866834.20it/s]\n",
      "7623it [00:00, 995305.05it/s]\n",
      "7623it [00:00, 1087893.14it/s]\n",
      "7623it [00:00, 548378.00it/s]\n",
      "7623it [00:00, 1032491.99it/s]\n",
      "7623it [00:00, 967974.91it/s]\n",
      "7623it [00:00, 1049436.42it/s]\n",
      "7623it [00:00, 887921.89it/s]\n",
      "7623it [00:00, 1162196.19it/s]\n",
      "7623it [00:00, 998444.22it/s]\n",
      "7623it [00:00, 987283.60it/s]\n",
      "7623it [00:00, 1095422.07it/s]\n",
      "7623it [00:00, 909336.46it/s]\n",
      "7623it [00:00, 1065559.53it/s]\n",
      "7623it [00:00, 1158826.41it/s]\n",
      "7623it [00:00, 943774.11it/s]\n",
      "7623it [00:00, 870397.44it/s]\n",
      "7623it [00:00, 1043647.32it/s]\n",
      "7623it [00:00, 884238.49it/s]\n",
      "7623it [00:00, 1036172.65it/s]\n",
      "7623it [00:00, 1017120.39it/s]\n",
      "7623it [00:00, 854121.37it/s]\n",
      "7623it [00:00, 899360.90it/s]\n",
      "7623it [00:00, 1099036.83it/s]\n",
      "7623it [00:00, 1021997.10it/s]\n",
      "7623it [00:00, 986826.52it/s]\n",
      "7623it [00:00, 980591.90it/s]\n",
      "7623it [00:00, 1114630.62it/s]\n",
      "7623it [00:00, 953455.58it/s]\n",
      "7623it [00:00, 1064956.18it/s]\n"
     ]
    },
    {
     "name": "stdout",
     "output_type": "stream",
     "text": [
      "102\n",
      "102\n"
     ]
    }
   ],
   "source": [
    "df = pd.read_excel(io='/Users/carina/Downloads/刘嘉莹/异常引用补充实验/sourcecode/ANCI_code/dataset/data/if2017.xlsx')\n",
    "Full_Title = df['Full Title'].str.lower()\n",
    "IF = df['IF 2016-2017']\n",
    "Full_Title = list(Full_Title)\n",
    "IF = list(IF) #102\n",
    "\n",
    "alljournalnames = []\n",
    "print(len(alljournal)) #102\n",
    "for jj in alljournal:\n",
    "    f = open(r'/Users/carina/Downloads/刘嘉莹/异常引用补充实验/sourcecode/ANCI_code/dataset/data/coauthor/processed/selectedJournals.txt','r')\n",
    "    for line in tqdm(f) :\n",
    "        line = line.strip().split('\\t')\n",
    "        if line[0] == jj:\n",
    "            alljournalnames.append(line[1])\n",
    "print(len(alljournalnames))\n",
    "\n",
    "IF_journal = []\n",
    "for name in alljournalnames:\n",
    "    for title,ifs in zip(Full_Title,IF):\n",
    "        if title == name:\n",
    "            i = Full_Title.index(title)\n",
    "            score = IF[i]\n",
    "            IF_journal.append(score)\n",
    "print(len(IF_journal)) #102"
   ]
  },
  {
   "cell_type": "code",
   "execution_count": 49,
   "id": "075e9522",
   "metadata": {
    "ExecuteTime": {
     "end_time": "2023-02-26T01:29:22.423010Z",
     "start_time": "2023-02-26T01:29:22.418627Z"
    }
   },
   "outputs": [],
   "source": [
    "\n",
    "f=open(\"/Users/carina/Downloads/刘嘉莹/异常引用补充实验/sourcecode/ANCI_code/dataset/data/samejournal/matrix/IFS.txt\",\"w\")\n",
    " \n",
    "for line in IF_journal:\n",
    "    f.write(str(line))\n",
    "    f.write('\\n')\n",
    "f.close()"
   ]
  },
  {
   "cell_type": "markdown",
   "id": "52d1319a",
   "metadata": {},
   "source": [
    "# author credit matrix"
   ]
  },
  {
   "cell_type": "code",
   "execution_count": 50,
   "id": "297de67a",
   "metadata": {
    "ExecuteTime": {
     "end_time": "2023-02-26T01:29:27.556377Z",
     "start_time": "2023-02-26T01:29:27.535197Z"
    }
   },
   "outputs": [],
   "source": [
    "#author credit\n",
    "df = pd.read_csv('/Users/carina/Downloads/刘嘉莹/异常引用补充实验/sourcecode/ANCI_code/dataset/data/inputTable.csv')\n",
    "df_annomous = df.loc[df['label_ifAbnormal'] == 1]\n",
    "dfa = []\n",
    "dfb = []\n",
    "dfa = df_annomous['paperA'].unique()\n",
    "dfb = df_annomous['paperB'].unique()\n",
    "creditpapers = []\n",
    "creditpapers = list(dfa) + list(dfb) #int\n",
    "creditpapers = sorted(set(creditpapers),key = creditpapers.index)\n",
    "creditpaperstr = [str(x) for x in creditpapers]"
   ]
  },
  {
   "cell_type": "code",
   "execution_count": 51,
   "id": "c9104ecc",
   "metadata": {
    "ExecuteTime": {
     "end_time": "2023-02-26T02:05:57.902868Z",
     "start_time": "2023-02-26T01:29:31.309455Z"
    }
   },
   "outputs": [
    {
     "name": "stderr",
     "output_type": "stream",
     "text": [
      "455999370it [36:26, 208544.00it/s]"
     ]
    },
    {
     "name": "stdout",
     "output_type": "stream",
     "text": [
      "2014\n"
     ]
    },
    {
     "name": "stderr",
     "output_type": "stream",
     "text": [
      "\n"
     ]
    }
   ],
   "source": [
    "annmousauthors = []\n",
    "f = open(r'/Users/carina/Downloads/刘嘉莹/异常引用补充实验/sourcecode/ANCI_code/dataset/data/PaperAuthorAffiliations.txt','r')\n",
    "\n",
    "for line in tqdm(f):\n",
    "    line = line.split('\\t')\n",
    "    if line[0] in creditpaperstr:\n",
    "        annmousauthors.append(line[1]) #str\n",
    "\n",
    "f.close()\n",
    "print(len(annmousauthors)) #2014"
   ]
  },
  {
   "cell_type": "code",
   "execution_count": 69,
   "id": "69f465f7",
   "metadata": {
    "ExecuteTime": {
     "end_time": "2023-02-26T15:31:13.543936Z",
     "start_time": "2023-02-26T15:31:13.538966Z"
    }
   },
   "outputs": [],
   "source": [
    "\n",
    "f=open(\"/Users/carina/Downloads/刘嘉莹/异常引用补充实验/sourcecode/ANCI_code/dataset/data/annmousauthors.txt\",\"w\")\n",
    "for line in annmousauthors:\n",
    "    f.write(line)\n",
    "    f.write('\\n')\n",
    "f.close()"
   ]
  },
  {
   "cell_type": "code",
   "execution_count": 52,
   "id": "bd09547a",
   "metadata": {
    "ExecuteTime": {
     "end_time": "2023-02-26T02:06:03.113655Z",
     "start_time": "2023-02-26T02:06:03.109751Z"
    }
   },
   "outputs": [
    {
     "name": "stdout",
     "output_type": "stream",
     "text": [
      "1779\n"
     ]
    }
   ],
   "source": [
    "annmousauthorslist = sorted(set(annmousauthors))\n",
    "print(len(annmousauthorslist)) #1779"
   ]
  },
  {
   "cell_type": "code",
   "execution_count": 53,
   "id": "5d088869",
   "metadata": {
    "ExecuteTime": {
     "end_time": "2023-02-26T02:06:05.878816Z",
     "start_time": "2023-02-26T02:06:05.748753Z"
    }
   },
   "outputs": [
    {
     "name": "stdout",
     "output_type": "stream",
     "text": [
      "2566\n",
      "76\n"
     ]
    }
   ],
   "source": [
    "matrixcredic = [[1 for i in range(2)] for j in range(len(allauthor))]\n",
    "#matrixcredic.shape\n",
    "i = 0\n",
    "h = 0\n",
    "for i in range(len(allauthor)):\n",
    "    matrixcredic[i][0] = allauthor[i]\n",
    "    i += 1\n",
    "for item in matrixcredic:\n",
    "    if str(item[0]) in annmousauthors:\n",
    "        item[1] = 0\n",
    "        h += 1\n",
    "credit = []\n",
    "for item in matrixcredic:\n",
    "    credit.append(item[1])#int\n",
    "print(len(credit)) #2566\n",
    "print(h) #76"
   ]
  },
  {
   "cell_type": "code",
   "execution_count": 54,
   "id": "66cd4ad2",
   "metadata": {
    "ExecuteTime": {
     "end_time": "2023-02-26T02:06:20.146158Z",
     "start_time": "2023-02-26T02:06:20.140175Z"
    }
   },
   "outputs": [],
   "source": [
    "creditstr = [str(x) for x in credit]\n",
    "f=open(\"/Users/carina/Downloads/刘嘉莹/异常引用补充实验/sourcecode/ANCI_code/dataset/data/samejournal/matrix/authorcredit.txt\",\"w\")\n",
    " \n",
    "for line in creditstr:\n",
    "    f.write(line)\n",
    "    f.write('\\n')\n",
    "f.close()"
   ]
  },
  {
   "cell_type": "markdown",
   "id": "287a21f6",
   "metadata": {},
   "source": [
    "# journal paper matrix"
   ]
  },
  {
   "cell_type": "code",
   "execution_count": 57,
   "id": "4764817e",
   "metadata": {
    "ExecuteTime": {
     "end_time": "2023-02-26T02:07:35.172560Z",
     "start_time": "2023-02-26T02:07:35.139647Z"
    }
   },
   "outputs": [],
   "source": [
    "journalpapermatrix = [[0 for i in range(len(allpaperidstr))] for j in range(len(alljournal))]\n",
    "\n",
    "for ids,js in zip(allpaperidstr,alljournal):\n",
    "    j = allpaperidstr.index(ids)\n",
    "    f = open(r'/Users/carina/Downloads/刘嘉莹/异常引用补充实验/sourcecode/ANCI_code/dataset/data/samejournal/processed/paperjournal.txt', 'r')\n",
    "    for line in f:\n",
    "        line = line.strip().split(' ')\n",
    "        if line[0] == ids:\n",
    "            i = alljournal.index(js)\n",
    "            journalpapermatrix[i][j] = 1"
   ]
  },
  {
   "cell_type": "code",
   "execution_count": 58,
   "id": "5785448b",
   "metadata": {
    "ExecuteTime": {
     "end_time": "2023-02-26T02:07:38.349446Z",
     "start_time": "2023-02-26T02:07:38.326652Z"
    }
   },
   "outputs": [],
   "source": [
    "f=open(r\"/Users/carina/Downloads/刘嘉莹/异常引用补充实验/sourcecode/ANCI_code/dataset/data/samejournal/matrix/journalpaper.txt\",\"w\")\n",
    " \n",
    "for line in journalpapermatrix:\n",
    "    for item in line:\n",
    "        f.write(str(item)+ ' ')\n",
    "    f.write('\\n')\n",
    "f.close()"
   ]
  },
  {
   "cell_type": "markdown",
   "id": "4c34f1e6",
   "metadata": {},
   "source": [
    "# author author matrix"
   ]
  },
  {
   "cell_type": "code",
   "execution_count": 59,
   "id": "918d35de",
   "metadata": {
    "ExecuteTime": {
     "end_time": "2023-02-26T02:07:42.439709Z",
     "start_time": "2023-02-26T02:07:40.976977Z"
    }
   },
   "outputs": [],
   "source": [
    "coauthormatrix = [[0 for i in range(len(allauthor))] for j in range(len(allauthor))]\n",
    "for paperid in allpaperidstr:\n",
    "    authors = []\n",
    "    f = open(r'/Users/carina/Downloads/刘嘉莹/异常引用补充实验/sourcecode/ANCI_code/dataset/data/samejournal/processed/paperauthor.txt', 'r')\n",
    "    for line in f:\n",
    "        line = line.strip().split(' ')\n",
    "        if line[0] == paperid:\n",
    "            authors.append(line[1])\n",
    "    authors = sorted(set(authors))\n",
    "    for author1 in authors:\n",
    "        i = allauthor.index(author1)\n",
    "        for author2 in authors:\n",
    "            j = allauthor.index(author2)\n",
    "            coauthormatrix[i][j] += 1"
   ]
  },
  {
   "cell_type": "code",
   "execution_count": 60,
   "id": "873a941f",
   "metadata": {
    "ExecuteTime": {
     "end_time": "2023-02-26T02:07:47.343416Z",
     "start_time": "2023-02-26T02:07:44.988236Z"
    }
   },
   "outputs": [],
   "source": [
    "f=open(r\"/Users/carina/Downloads/刘嘉莹/异常引用补充实验/sourcecode/ANCI_code/dataset/data/samejournal/matrix/authorauthor.txt\",\"w\")\n",
    " \n",
    "for line in coauthormatrix:\n",
    "    for item in line:\n",
    "        f.write(str(item)+ ' ')\n",
    "    f.write('\\n')\n",
    "f.close()"
   ]
  },
  {
   "cell_type": "markdown",
   "id": "7cf24155",
   "metadata": {},
   "source": [
    "# author paper matrix"
   ]
  },
  {
   "cell_type": "code",
   "execution_count": 61,
   "id": "97858cb3",
   "metadata": {
    "ExecuteTime": {
     "end_time": "2023-02-26T02:07:55.339169Z",
     "start_time": "2023-02-26T02:07:55.335239Z"
    }
   },
   "outputs": [
    {
     "name": "stdout",
     "output_type": "stream",
     "text": [
      "545\n",
      "545\n",
      "143\n"
     ]
    }
   ],
   "source": [
    "print(len(citingpaperid)) #504\n",
    "print(len(citedpaperid))#504\n",
    "print(len(citinginfo1))#330"
   ]
  },
  {
   "cell_type": "code",
   "execution_count": 62,
   "id": "5eb2d139",
   "metadata": {
    "ExecuteTime": {
     "end_time": "2023-02-26T02:08:00.492847Z",
     "start_time": "2023-02-26T02:07:59.476327Z"
    }
   },
   "outputs": [],
   "source": [
    "authorpapermatrix = [[0 for i in range(len(allpaperidstr))] for j in range(len(allauthor))]\n",
    "allpaperid = [int(x) for x in allpaperid]\n",
    "for a,b in zip(citingpaperid,citedpaperid):\n",
    "    j = allpaperid.index(b)\n",
    "    author = []\n",
    "    f = open(r'/Users/carina/Downloads/刘嘉莹/异常引用补充实验/sourcecode/ANCI_code/dataset/data/samejournal/processed/paperauthor.txt', 'r')\n",
    "    for line in f:\n",
    "        line = line.strip().split(' ')\n",
    "        if int(line[0]) == a:\n",
    "            author.append(line[1])\n",
    "    author = sorted(set(author))\n",
    "    for au in author:\n",
    "        i = allauthor.index(au)\n",
    "        authorpapermatrix[i][j] = 1\n",
    "    \n",
    "f.close()"
   ]
  },
  {
   "cell_type": "code",
   "execution_count": 63,
   "id": "0090f415",
   "metadata": {
    "ExecuteTime": {
     "end_time": "2023-02-26T02:08:03.721379Z",
     "start_time": "2023-02-26T02:08:03.377089Z"
    }
   },
   "outputs": [
    {
     "name": "stderr",
     "output_type": "stream",
     "text": [
      "100%|█████████████████████████████████████| 2566/2566 [00:00<00:00, 7613.50it/s]\n"
     ]
    }
   ],
   "source": [
    "f=open(r\"/Users/carina/Downloads/刘嘉莹/异常引用补充实验/sourcecode/ANCI_code/dataset/data/samejournal/matrix/authorpaper.txt\",\"w\")\n",
    " \n",
    "for line in tqdm(authorpapermatrix):\n",
    "    for item in line:\n",
    "        f.write(str(item)+' ')\n",
    "    f.write('\\n')\n",
    "f.close()"
   ]
  },
  {
   "cell_type": "markdown",
   "id": "007ec9d8",
   "metadata": {},
   "source": [
    "# 计算引用链接数量和合作链接数量"
   ]
  },
  {
   "cell_type": "code",
   "execution_count": 64,
   "id": "c8a7a28f",
   "metadata": {
    "ExecuteTime": {
     "end_time": "2023-02-26T02:08:07.000551Z",
     "start_time": "2023-02-26T02:08:06.989103Z"
    }
   },
   "outputs": [
    {
     "data": {
      "text/plain": [
       "4194"
      ]
     },
     "execution_count": 64,
     "metadata": {},
     "output_type": "execute_result"
    }
   ],
   "source": [
    "sum(map(sum,authorpapermatrix)) #引用链接数量"
   ]
  },
  {
   "cell_type": "code",
   "execution_count": 65,
   "id": "78dbdf79",
   "metadata": {
    "ExecuteTime": {
     "end_time": "2023-02-26T02:08:08.069149Z",
     "start_time": "2023-02-26T02:08:08.026061Z"
    }
   },
   "outputs": [
    {
     "data": {
      "text/plain": [
       "29633"
      ]
     },
     "execution_count": 65,
     "metadata": {},
     "output_type": "execute_result"
    }
   ],
   "source": [
    "sum(map(sum,coauthormatrix))#合作链接数量"
   ]
  },
  {
   "cell_type": "code",
   "execution_count": 66,
   "id": "6eafbcf0",
   "metadata": {
    "ExecuteTime": {
     "end_time": "2023-02-26T02:08:09.597192Z",
     "start_time": "2023-02-26T02:08:09.550716Z"
    }
   },
   "outputs": [
    {
     "name": "stdout",
     "output_type": "stream",
     "text": [
      "2759\n",
      "13437.0\n"
     ]
    }
   ],
   "source": [
    "s = 0\n",
    "for i in range(len(allauthor)):\n",
    "    s += coauthormatrix[i][i]\n",
    "    i += 1\n",
    "print(s)\n",
    "\n",
    "h = (sum(map(sum,coauthormatrix)) - s)/2\n",
    "print(h)"
   ]
  },
  {
   "cell_type": "code",
   "execution_count": null,
   "id": "f20c783f",
   "metadata": {},
   "outputs": [],
   "source": []
  }
 ],
 "metadata": {
  "kernelspec": {
   "display_name": "Python 3 (ipykernel)",
   "language": "python",
   "name": "python3"
  },
  "language_info": {
   "codemirror_mode": {
    "name": "ipython",
    "version": 3
   },
   "file_extension": ".py",
   "mimetype": "text/x-python",
   "name": "python",
   "nbconvert_exporter": "python",
   "pygments_lexer": "ipython3",
   "version": "3.8.3"
  },
  "toc": {
   "base_numbering": 1,
   "nav_menu": {},
   "number_sections": true,
   "sideBar": true,
   "skip_h1_title": false,
   "title_cell": "Table of Contents",
   "title_sidebar": "Contents",
   "toc_cell": false,
   "toc_position": {},
   "toc_section_display": true,
   "toc_window_display": false
  }
 },
 "nbformat": 4,
 "nbformat_minor": 5
}
