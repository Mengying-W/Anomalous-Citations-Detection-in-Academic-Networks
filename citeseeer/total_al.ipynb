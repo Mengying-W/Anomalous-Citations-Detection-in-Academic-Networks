{
 "cells": [
  {
   "cell_type": "code",
   "execution_count": 1,
   "id": "d3001c1d",
   "metadata": {
    "ExecuteTime": {
     "end_time": "2023-02-27T17:05:15.418955Z",
     "start_time": "2023-02-27T17:05:15.055974Z"
    }
   },
   "outputs": [],
   "source": [
    "## import csv\n",
    "import pandas as pd\n",
    "import random\n",
    "import re\n",
    "import time\n",
    "from tqdm import tqdm, trange\n",
    "import numpy as np\n",
    "import math\n",
    "import codecs\n",
    "import copy"
   ]
  },
  {
   "cell_type": "code",
   "execution_count": 2,
   "id": "1e3e9ae4",
   "metadata": {
    "ExecuteTime": {
     "end_time": "2023-02-27T17:05:15.426301Z",
     "start_time": "2023-02-27T17:05:15.421928Z"
    }
   },
   "outputs": [],
   "source": [
    "def andor(Y,A):\n",
    "    m = 7489\n",
    "    YA = np.zeros((m,m))\n",
    "    for i in range(m):\n",
    "        for j in range(m):\n",
    "            if Y[i][j] == 0 and A[i][j] == 0:\n",
    "                YA[i][j] = 1\n",
    "            elif Y[i][j] == 1 and A[i][j] == 1:\n",
    "                YA[i][j] = 1\n",
    "            else:\n",
    "                YA[i][j] = 0               \n",
    "    return YA"
   ]
  },
  {
   "cell_type": "code",
   "execution_count": 3,
   "id": "280a1c41",
   "metadata": {
    "ExecuteTime": {
     "end_time": "2023-02-27T17:05:15.431410Z",
     "start_time": "2023-02-27T17:05:15.428760Z"
    }
   },
   "outputs": [],
   "source": [
    "def plus(X):\n",
    "    X1 = (abs(X)+X)/2\n",
    "    return X1"
   ]
  },
  {
   "cell_type": "code",
   "execution_count": 4,
   "id": "c8c3820e",
   "metadata": {
    "ExecuteTime": {
     "end_time": "2023-02-27T17:05:15.437351Z",
     "start_time": "2023-02-27T17:05:15.434644Z"
    }
   },
   "outputs": [],
   "source": [
    "def minus(X):\n",
    "    X1 = (abs(X)-X)/2\n",
    "    return X1"
   ]
  },
  {
   "cell_type": "code",
   "execution_count": 5,
   "id": "64bb0f01",
   "metadata": {
    "ExecuteTime": {
     "end_time": "2023-02-27T17:05:15.443162Z",
     "start_time": "2023-02-27T17:05:15.439262Z"
    }
   },
   "outputs": [],
   "source": [
    "def OneZeroNorm(X):\n",
    "    row_num = X.shape[0]\n",
    "    col_num = X.shape[1]\n",
    "    temp = X.sum(axis=1)#       \n",
    "    #print temp     \n",
    "    X1 = copy.deepcopy(X)\n",
    "    for i in range(row_num):\n",
    "        for j in range(col_num):\n",
    "            if temp[i] != 0:\n",
    "                X1[i][j] = X[i][j]/temp[i]\n",
    "            else:\n",
    "                X1[i][j] = 0\n",
    "    return X1"
   ]
  },
  {
   "cell_type": "code",
   "execution_count": 6,
   "id": "90a6fb07",
   "metadata": {
    "ExecuteTime": {
     "end_time": "2023-02-27T17:05:15.457768Z",
     "start_time": "2023-02-27T17:05:15.445413Z"
    }
   },
   "outputs": [],
   "source": [
    "def calL():\n",
    "    m = 0\n",
    "    r = 0\n",
    "\n",
    "    f = open('/Users/carina/Downloads/刘嘉莹/异常引用补充实验/sourcecode/ANCI_code/dataset/data/total/matrix/authorpaper.txt')\n",
    "    line = f.readline()\n",
    "    line = line.replace(' ','').strip('\\n')\n",
    "    n_init = len(line)#文章数\n",
    "    print(n_init)\n",
    "    m = len(f.readlines()) + 1 #作者数\n",
    "    print(m)\n",
    "    f.close()\n",
    "\n",
    "    r = 871   #假定已标记前895个\n",
    "    n = 1089   #除去core文章\n",
    "    Wtemp = np.zeros((m,n_init))     #作者-文章矩阵\n",
    "    f = open('/Users/carina/Downloads/刘嘉莹/异常引用补充实验/sourcecode/ANCI_code/dataset/data/total/matrix/authorpaper.txt')\n",
    "    lines = f.readlines()\n",
    "    Wtemp_row = 0\n",
    "    for line in lines:\n",
    "        list = line.strip().split(' ')\n",
    "        Wtemp[Wtemp_row:] = list[0:n_init]\n",
    "        Wtemp_row += 1\n",
    "\n",
    "    W = np.zeros((m,n))\n",
    "    for i in range(m):\n",
    "        for j in range(n):\n",
    "            if 0 <= j and j < 424:\n",
    "                W[i][j] = Wtemp[i][j+302]\n",
    "            elif 424 <= j and j < 871:\n",
    "                W[i][j] = Wtemp[i][j+408]\n",
    "            elif 871 <= j and j < 977:\n",
    "                W[i][j] = Wtemp[i][j-145]\n",
    "            else:\n",
    "                W[i][j] = Wtemp[i][j+302]\n",
    "\n",
    "\n",
    "    yL = np.ones((r,1))   #真假标签,如果是1则是假\n",
    "    for i in range(r):\n",
    "        if i>=0 and i < 424:\n",
    "            yL[i][0] = -1\n",
    "        else:\n",
    "            yL[i][0] = 1\n",
    "    \n",
    "     #读入c\n",
    "    f = open('/Users/carina/Downloads/刘嘉莹/异常引用补充实验/sourcecode/ANCI_code/dataset/data/total/matrix/authorcredit.txt')\n",
    "    c = np.ones((m,1))\n",
    "    lines = f.readlines()\n",
    "    c_row = 0\n",
    "    for line in lines:\n",
    "        list = line.strip('\\n')\n",
    "        c[c_row] = list[0]\n",
    "        c_row += 1\n",
    "\n",
    "    f.close()\n",
    "    \n",
    "    G = np.ones((m,r))\n",
    "    F = np.zeros((m+r,m+r))\n",
    "    for i in range(m):\n",
    "        for j in range(r):\n",
    "            G[i][j] = W[i][j] * ( c[i][0] * ( 1 - ( 1 + yL[j][0] ) / 2 ) + ( 1 - c[i][0]) * ( 1 + yL[j][0]) / 2)\n",
    "\n",
    "    for i in range(m+r):\n",
    "        for j in range(m+r):\n",
    "            if i>=0 and i < m and j >= m and j < m+r:\n",
    "                F[i][j] = G[i][j-m]\n",
    "            elif j>=0 and j < m and i >= m and i < m+r:\n",
    "                F[i][j] = G[j][i-m]\n",
    "                              \n",
    "    S = np.zeros((m+r,m+r))\n",
    "    F2 = F.sum(axis = 0)\n",
    "\n",
    "    for i in range(m+r):\n",
    "        S[i][i] = F2[i]\n",
    "\n",
    "    L = S - F\n",
    "    print('----------calculate L--------------')\n",
    "    return L"
   ]
  },
  {
   "cell_type": "code",
   "execution_count": 7,
   "id": "0e8dcf12",
   "metadata": {
    "ExecuteTime": {
     "end_time": "2023-02-27T17:05:15.467315Z",
     "start_time": "2023-02-27T17:05:15.460306Z"
    }
   },
   "outputs": [],
   "source": [
    "def evaluate(yU):\n",
    "    TP = 0  #真的，判断为真的数量\n",
    "    FN = 0  #真的，判断为假的数量\n",
    "    TN = 0  #假的，判断为假的数量\n",
    "    FP = 0  #假的，判断为真的数量\n",
    "    for i in range(218):\n",
    "        if  0 <= i < 106:\n",
    "            if yU[i] == -1:\n",
    "                TP += 1\n",
    "            else:\n",
    "                FN += 1\n",
    "        if  i >=106:\n",
    "            if yU[i] == 1:\n",
    "                TN += 1\n",
    "            else:\n",
    "                FP += 1\n",
    "    print(TP)\n",
    "    print(FP)\n",
    "    print(TN)\n",
    "    print(FN)\n",
    "     \n",
    "    Accuracy = (TP+TN)/float(TP+1+FP+TN+FN)\n",
    "    Precision = TP/float(TP+FP+1)\n",
    "    Recall = TP/float(TP+FN+1)\n",
    "    F1 = 2*((Precision*Recall)/float(Precision+Recall))\n",
    "    print(\"Accuracy：\"+str(Accuracy))\n",
    "    print(\"Precision：\"+str(Precision))\n",
    "    print(\"Recall：\"+str(Recall))\n",
    "    print(\"F1：\"+str(F1))\n",
    "    with codecs.open(r'/Users/carina/Downloads/刘嘉莹/异常引用补充实验/sourcecode/ANCI_code/dataset/data/total/processed/valuate_add_credit.txt','a') as f:\n",
    "        f.write(str(Accuracy)+'\\t'+str(Precision)+'\\t'+str(Recall)+'\\t'+str(F1)+'\\n')"
   ]
  },
  {
   "cell_type": "code",
   "execution_count": 8,
   "id": "33b46898",
   "metadata": {
    "ExecuteTime": {
     "end_time": "2023-02-27T17:05:15.472134Z",
     "start_time": "2023-02-27T17:05:15.468988Z"
    }
   },
   "outputs": [],
   "source": [
    "n_init = 1391#n+m+h'\n",
    "n = 1089 #1696个中前204个是core,m+h'\n",
    "t = 128#128\n",
    "r = 871 #从1492个中挑选出前654个T和前540个F, m和h'\n",
    "m = 7489 #作者数\n",
    "l = 518\n",
    "\n",
    "gama = 10\n",
    "beita = 0.0001\n",
    "nita = 1\n",
    "alpha = 0.00001\n",
    "lambta = 0.1"
   ]
  },
  {
   "cell_type": "code",
   "execution_count": 9,
   "id": "f33ec7dd",
   "metadata": {
    "ExecuteTime": {
     "end_time": "2023-02-27T17:05:15.577925Z",
     "start_time": "2023-02-27T17:05:15.473624Z"
    }
   },
   "outputs": [
    {
     "name": "stdout",
     "output_type": "stream",
     "text": [
      "-----------abstract2vec.txt prepared-------------------\n"
     ]
    }
   ],
   "source": [
    "#读入Xtemp，取需要部分组成X\n",
    "Xtemp = np.zeros((1391,128),dtype = float)\n",
    "f = open('/Users/carina/Downloads/刘嘉莹/异常引用补充实验/sourcecode/ANCI_code/dataset/data/total/matrix/abstract2vec.txt')\n",
    "lines = f.readlines()\n",
    "Xtemp_row = 0\n",
    "for line in lines:\n",
    "    list = re.sub(' +',' ',line.strip('\\n').strip()).split(' ')\n",
    "    Xtemp[Xtemp_row][:] = list[0:128]\n",
    "    Xtemp_row += 1\n",
    "f.close()\n",
    "print (\"-----------abstract2vec.txt prepared-------------------\")"
   ]
  },
  {
   "cell_type": "code",
   "execution_count": 10,
   "id": "a1c0d311",
   "metadata": {
    "ExecuteTime": {
     "end_time": "2023-02-27T17:05:15.782089Z",
     "start_time": "2023-02-27T17:05:15.583097Z"
    }
   },
   "outputs": [],
   "source": [
    "#更新X，把它变为正\n",
    "for i in range(n_init):\n",
    "    for j in range(t):\n",
    "        Xtemp[i][j] = Xtemp[i][j] + 1 \n",
    "\n",
    "#组成X\n",
    "X = np.zeros((1089,128),dtype = float)\n",
    "for i in range(n):\n",
    "    for j in range(t):\n",
    "        if 0 <= i and i < 424:\n",
    "            X[i][j] = Xtemp[i+302][j]\n",
    "        elif 424 <= i and i < 871:\n",
    "            X[i][j] = Xtemp[i+408][j]\n",
    "        elif 871 <= i and i <977 :\n",
    "            X[i][j] = Xtemp[i-145][j]\n",
    "        else:\n",
    "            X[i][j] = Xtemp[i+302][j]"
   ]
  },
  {
   "cell_type": "code",
   "execution_count": 11,
   "id": "281dbc1e",
   "metadata": {
    "ExecuteTime": {
     "end_time": "2023-02-27T17:07:14.818469Z",
     "start_time": "2023-02-27T17:05:15.783928Z"
    }
   },
   "outputs": [
    {
     "name": "stderr",
     "output_type": "stream",
     "text": [
      "100%|███████████████████████████████████████| 7489/7489 [01:58<00:00, 63.10it/s]"
     ]
    },
    {
     "name": "stdout",
     "output_type": "stream",
     "text": [
      "-----------Author_author_matrix.txt prepared-------------------\n"
     ]
    },
    {
     "name": "stderr",
     "output_type": "stream",
     "text": [
      "\n"
     ]
    }
   ],
   "source": [
    "#读入A\n",
    "f = open('/Users/carina/Downloads/刘嘉莹/异常引用补充实验/sourcecode/ANCI_code/dataset/data/total/matrix/authorauthor.txt')\n",
    "A = np.ones((m,m))\n",
    "lines = f.readlines()\n",
    "A_row = 0\n",
    "for line in tqdm(lines):\n",
    "    list = line.strip().split(' ')\n",
    "    A[A_row:] = list[0:m]\n",
    "    A_row += 1\n",
    "\n",
    "f.close()\n",
    "print (\"-----------Author_author_matrix.txt prepared-------------------\")"
   ]
  },
  {
   "cell_type": "code",
   "execution_count": 12,
   "id": "be03e88d",
   "metadata": {
    "ExecuteTime": {
     "end_time": "2023-02-27T17:07:14.980646Z",
     "start_time": "2023-02-27T17:07:14.821164Z"
    }
   },
   "outputs": [
    {
     "name": "stderr",
     "output_type": "stream",
     "text": [
      "100%|███████████████████████████████████████| 518/518 [00:00<00:00, 3929.72it/s]"
     ]
    },
    {
     "name": "stdout",
     "output_type": "stream",
     "text": [
      "-----------Journal_paper_matrix.txt prepared-------------------\n"
     ]
    },
    {
     "name": "stderr",
     "output_type": "stream",
     "text": [
      "\n"
     ]
    }
   ],
   "source": [
    "#读入Btemp\n",
    "f = open('/Users/carina/Downloads/刘嘉莹/异常引用补充实验/sourcecode/ANCI_code/dataset/data/total/matrix/journalpaper.txt')\n",
    "Btemp = np.ones((l,n_init))\n",
    "lines = f.readlines()\n",
    "Btemp_row = 0\n",
    "for line in tqdm(lines):\n",
    "    list = line.strip().split(' ')\n",
    "    Btemp[Btemp_row:] = list[0:n_init]\n",
    "    Btemp_row += 1\n",
    "\n",
    "f.close()\n",
    "print (\"-----------Journal_paper_matrix.txt prepared-------------------\")"
   ]
  },
  {
   "cell_type": "code",
   "execution_count": 13,
   "id": "f2e8d245",
   "metadata": {
    "ExecuteTime": {
     "end_time": "2023-02-27T17:07:15.337883Z",
     "start_time": "2023-02-27T17:07:14.982689Z"
    }
   },
   "outputs": [],
   "source": [
    "#组成B\n",
    "B = np.ones((l,n))\n",
    "for i in range(l):\n",
    "    for j in range(n):\n",
    "        if 0 <= j and j < 424:\n",
    "            B[i][j] = Btemp[i][j+302]\n",
    "        elif 424 <= j and j < 871:\n",
    "            B[i][j] = Btemp[i][j+408]\n",
    "        elif 871 <= j and j < 977:\n",
    "            B[i][j] = Btemp[i][j-145]\n",
    "        elif 977<= j and j < n:\n",
    "            B[i][j] = Btemp[i][j+302]"
   ]
  },
  {
   "cell_type": "code",
   "execution_count": 14,
   "id": "03acfb1a",
   "metadata": {
    "ExecuteTime": {
     "end_time": "2023-02-27T17:07:15.594267Z",
     "start_time": "2023-02-27T17:07:15.339972Z"
    }
   },
   "outputs": [],
   "source": [
    "Y = np.sign(A) # Y和A有关"
   ]
  },
  {
   "cell_type": "code",
   "execution_count": 15,
   "id": "12f55529",
   "metadata": {
    "ExecuteTime": {
     "end_time": "2023-02-27T17:07:15.604668Z",
     "start_time": "2023-02-27T17:07:15.596649Z"
    }
   },
   "outputs": [
    {
     "name": "stdout",
     "output_type": "stream",
     "text": [
      "-----------Journals_IF.txt prepared-------------------\n"
     ]
    }
   ],
   "source": [
    "#读入o\n",
    "f = open('/Users/carina/Downloads/刘嘉莹/异常引用补充实验/sourcecode/ANCI_code/dataset/data/total/matrix/IFS.txt')\n",
    "o = np.ones((l,1))\n",
    "lines = f.readlines()\n",
    "o_row = 0\n",
    "for line in lines:\n",
    "    list = line.strip('\\n')\n",
    "    o[o_row] = list[0]\n",
    "    o_row += 1\n",
    "\n",
    "f.close()\n",
    "print (\"-----------Journals_IF.txt prepared-------------------\")"
   ]
  },
  {
   "cell_type": "code",
   "execution_count": 16,
   "id": "68954174",
   "metadata": {
    "ExecuteTime": {
     "end_time": "2023-02-27T17:07:15.610873Z",
     "start_time": "2023-02-27T17:07:15.607061Z"
    }
   },
   "outputs": [],
   "source": [
    "yL = np.ones((r,1))   #真假标签,如果是1则是假\n",
    "for i in range(r):\n",
    "    if i>=0 and i < 424:\n",
    "        yL[i][0] = -1\n",
    "    else:\n",
    "        yL[i][0] = 1"
   ]
  },
  {
   "cell_type": "code",
   "execution_count": 17,
   "id": "3ad43154",
   "metadata": {
    "ExecuteTime": {
     "end_time": "2023-02-27T17:07:15.614441Z",
     "start_time": "2023-02-27T17:07:15.612390Z"
    }
   },
   "outputs": [],
   "source": [
    "d = 3"
   ]
  },
  {
   "cell_type": "code",
   "execution_count": 18,
   "id": "c4af75b3",
   "metadata": {
    "ExecuteTime": {
     "end_time": "2023-02-27T17:07:15.622479Z",
     "start_time": "2023-02-27T17:07:15.616033Z"
    }
   },
   "outputs": [],
   "source": [
    "#读入量\n",
    "DL = np.ones((r,d))\n",
    "DU = np.ones((n-r,d))\n",
    "D = np.random.random(size = (n,d))\n",
    "for i in range(r):\n",
    "    for j in range(d):\n",
    "        DL[i][j] = D[i][j]\n",
    "\n",
    "for i in range(n-r):\n",
    "    for j in range(d):\n",
    "        DU[i][j] = D[i+r][j]"
   ]
  },
  {
   "cell_type": "code",
   "execution_count": 19,
   "id": "d41d27d1",
   "metadata": {
    "ExecuteTime": {
     "end_time": "2023-02-27T17:08:40.137377Z",
     "start_time": "2023-02-27T17:07:15.624689Z"
    }
   },
   "outputs": [
    {
     "name": "stdout",
     "output_type": "stream",
     "text": [
      "1391\n",
      "7489\n",
      "----------calculate L--------------\n",
      "----------到迭代了--------------\n"
     ]
    }
   ],
   "source": [
    "#随机初始化量\n",
    "U = (np.random.random(size=(m,d)))\n",
    "V = (np.random.random(size=(t,d)))\n",
    "P = (-1 + 2*np.random.random(size=(d,1)))\n",
    "#print(P)\n",
    "Q = (-1 + 2*np.random.random(size=(d,1)))\n",
    "T = (np.random.random(size=(d,d)))\n",
    "\n",
    "L = calL()  #预算出L\n",
    "L11 = np.zeros((m,m))\n",
    "L12 = np.zeros((m,r))\n",
    "L22 = np.zeros((r,r))\n",
    "L21 = np.zeros((r,m))\n",
    "\n",
    "for i in range(r):\n",
    "    for j in range(r):\n",
    "        L22[i][j] = L[m+i][m+j]\n",
    "\n",
    "for i in range(r):\n",
    "    for j in range(m):\n",
    "        L21[i][j] = L[m+i][j]\n",
    "\n",
    "for i in range(m):\n",
    "    for j in range(m):\n",
    "        L11[i][j] = L[i][j]\n",
    "\n",
    "for i in range(m):\n",
    "    for j in range(r):\n",
    "        L12[i][j] = L[m][m+j]\n",
    "            \n",
    "print('----------到迭代了--------------')"
   ]
  },
  {
   "cell_type": "code",
   "execution_count": 20,
   "id": "9fd4e8e8",
   "metadata": {
    "ExecuteTime": {
     "end_time": "2023-02-27T21:48:27.000253Z",
     "start_time": "2023-02-27T17:08:40.139915Z"
    }
   },
   "outputs": [
    {
     "name": "stdout",
     "output_type": "stream",
     "text": [
      "0\n",
      "17\n",
      "18\n",
      "94\n",
      "89\n",
      "Accuracy：0.5068493150684932\n",
      "Precision：0.4722222222222222\n",
      "Recall：0.1588785046728972\n",
      "F1：0.23776223776223776\n",
      "1\n",
      "35\n",
      "32\n",
      "80\n",
      "71\n",
      "Accuracy：0.5251141552511416\n",
      "Precision：0.5147058823529411\n",
      "Recall：0.32710280373831774\n",
      "F1：0.4\n",
      "2\n",
      "27\n",
      "30\n",
      "82\n",
      "79\n",
      "Accuracy：0.4977168949771689\n",
      "Precision：0.46551724137931033\n",
      "Recall：0.2523364485981308\n",
      "F1：0.32727272727272727\n",
      "3\n",
      "26\n",
      "23\n",
      "89\n",
      "80\n",
      "Accuracy：0.5251141552511416\n",
      "Precision：0.52\n",
      "Recall：0.24299065420560748\n",
      "F1：0.3312101910828026\n",
      "4\n",
      "26\n",
      "28\n",
      "84\n",
      "80\n",
      "Accuracy：0.502283105022831\n",
      "Precision：0.4727272727272727\n",
      "Recall：0.24299065420560748\n",
      "F1：0.32098765432098764\n",
      "5\n",
      "106\n",
      "112\n",
      "0\n",
      "0\n",
      "Accuracy：0.4840182648401826\n",
      "Precision：0.4840182648401826\n",
      "Recall：0.9906542056074766\n",
      "F1：0.6503067484662577\n",
      "6\n",
      "106\n",
      "112\n",
      "0\n",
      "0\n",
      "Accuracy：0.4840182648401826\n",
      "Precision：0.4840182648401826\n",
      "Recall：0.9906542056074766\n",
      "F1：0.6503067484662577\n",
      "7\n",
      "106\n",
      "112\n",
      "0\n",
      "0\n",
      "Accuracy：0.4840182648401826\n",
      "Precision：0.4840182648401826\n",
      "Recall：0.9906542056074766\n",
      "F1：0.6503067484662577\n",
      "8\n",
      "106\n",
      "112\n",
      "0\n",
      "0\n",
      "Accuracy：0.4840182648401826\n",
      "Precision：0.4840182648401826\n",
      "Recall：0.9906542056074766\n",
      "F1：0.6503067484662577\n",
      "9\n",
      "106\n",
      "112\n",
      "0\n",
      "0\n",
      "Accuracy：0.4840182648401826\n",
      "Precision：0.4840182648401826\n",
      "Recall：0.9906542056074766\n",
      "F1：0.6503067484662577\n",
      "106\n",
      "112\n",
      "0\n",
      "0\n",
      "Accuracy：0.4840182648401826\n",
      "Precision：0.4840182648401826\n",
      "Recall：0.9906542056074766\n",
      "F1：0.6503067484662577\n"
     ]
    }
   ],
   "source": [
    "iter = 10\n",
    "for i in range(iter):\n",
    "    print(i)\n",
    "    #更新DL与DU\n",
    "    yU = np.sign(np.dot(DU,P))\n",
    "    #print(yU)\n",
    "    evaluate(yU)\n",
    "       \n",
    "        \n",
    "    D1 = np.dot(X,V) + gama*plus(np.dot(np.dot(OneZeroNorm(B).T,o),Q.T)) + gama*minus(np.dot(np.dot(np.dot(OneZeroNorm(B).T,OneZeroNorm(B)),D),np.dot(Q,Q.T)))+np.vstack(((nita*minus(np.dot(np.dot(DL,P),P.T)) + nita*plus(np.dot(yL,P.T)) +beita*minus(np.dot(L21,U))+ beita*minus(np.dot(L22,DL))), np.zeros((n-r,d))))\n",
    "\n",
    "    D2 = np.dot(np.dot(D,V.T),V) + lambta*D + gama*plus(np.dot(np.dot(np.dot(OneZeroNorm(B).T,OneZeroNorm(B)),D),np.dot(Q,Q.T)))+ gama*minus(np.dot(np.dot(OneZeroNorm(B).T,o),Q.T))+ np.vstack(((beita*plus(np.dot(L21,U)) + beita*plus(np.dot(L22,DL)) + nita*plus(np.dot(np.dot(DL,P),P.T))+ nita*minus(np.dot(yL,P.T))), np.zeros((n-r,d))))\n",
    "\n",
    "    #更新D\n",
    "    for i in range(n):\n",
    "        for j in range(d):\n",
    "            D[i][j] = D[i][j] * math.sqrt(D1[i][j]/D2[i][j])\n",
    "\n",
    "    for i in range(r):\n",
    "        for j in range(d):\n",
    "            DL[i][j] = D[i][j]\n",
    "\n",
    "    for i in range(n-r):\n",
    "        for j in range(d):\n",
    "            DU[i][j] = D[i+r][j]\n",
    "        \n",
    "    U1 = alpha*(np.dot(np.dot(andor(Y,A),U),T.T)) + alpha*(np.dot(np.dot(andor(Y,A).T,U),T))+ beita*minus(np.dot(L11,U)) + beita*minus(np.dot(L12,DL))\n",
    "\n",
    "        \n",
    "    U2 = alpha*(np.dot(np.dot(andor(Y,np.dot(U,np.dot(T,U.T))),U),T.T)) + alpha*(np.dot(np.dot(andor(Y,np.dot(U,np.dot(T,U.T))).T,U),T))+ lambta*U + beita*plus(np.dot(L11,U)) + beita*plus(np.dot(L12,DL))\n",
    "    #更新U\n",
    "    for i in range(m):\n",
    "        for j in range(d):\n",
    "            U[i][j] = U[i][j] * math.sqrt(U1[i][j]/U2[i][j])\n",
    "                \n",
    "       \n",
    "\n",
    "    #更新V\n",
    "    for i in range(t):\n",
    "        for j in range(d):\n",
    "            V[i][j] = V[i][j] * math.sqrt(np.dot(X.T,D)[i][j]/(np.dot(np.dot(V,D.T),D)+lambta*V)[i][j])\n",
    "        \n",
    "        #更新T\n",
    "    for i in range(d):\n",
    "        for j in range(d):\n",
    "            T[i][j] = T[i][j] * math.sqrt(np.dot(np.dot(alpha*U.T,andor(Y,A)),U)[i][j]/(np.dot(np.dot(alpha*U.T,andor(Y,np.dot(np.dot(U,T),U.T))),U) + lambta*T)[i][j])\n",
    "\n",
    "       \n",
    "    P = np.dot(np.linalg.inv(nita*np.dot(DL.T,DL) + lambta*np.eye(d,dtype = int)),np.dot(nita*DL.T,yL))\n",
    "    Q = np.dot(np.linalg.inv(np.dot(np.dot(gama*np.dot(D.T,OneZeroNorm(B).T),OneZeroNorm(B)),D) + lambta*np.eye(d,dtype = int)),np.dot(np.dot(gama*D.T,OneZeroNorm(B).T),o))\n",
    "\n",
    "            \n",
    "yU = np.sign(np.dot(DU,P))\n",
    "evaluate(yU)"
   ]
  },
  {
   "cell_type": "code",
   "execution_count": null,
   "id": "16dfb49d",
   "metadata": {},
   "outputs": [],
   "source": []
  }
 ],
 "metadata": {
  "kernelspec": {
   "display_name": "Python 3 (ipykernel)",
   "language": "python",
   "name": "python3"
  },
  "language_info": {
   "codemirror_mode": {
    "name": "ipython",
    "version": 3
   },
   "file_extension": ".py",
   "mimetype": "text/x-python",
   "name": "python",
   "nbconvert_exporter": "python",
   "pygments_lexer": "ipython3",
   "version": "3.8.3"
  },
  "toc": {
   "base_numbering": 1,
   "nav_menu": {},
   "number_sections": true,
   "sideBar": true,
   "skip_h1_title": false,
   "title_cell": "Table of Contents",
   "title_sidebar": "Contents",
   "toc_cell": false,
   "toc_position": {},
   "toc_section_display": true,
   "toc_window_display": false
  }
 },
 "nbformat": 4,
 "nbformat_minor": 5
}
