{
 "cells": [
  {
   "cell_type": "code",
   "execution_count": 1,
   "id": "a16873c1",
   "metadata": {
    "ExecuteTime": {
     "end_time": "2023-02-27T20:18:58.219667Z",
     "start_time": "2023-02-27T20:18:57.914942Z"
    }
   },
   "outputs": [],
   "source": [
    "import csv\n",
    "import pandas as pd\n",
    "from tqdm import tqdm, trange\n",
    "import numpy as np\n",
    "import re\n",
    "import math\n",
    "import codecs\n",
    "import copy"
   ]
  },
  {
   "cell_type": "markdown",
   "id": "ab197d05",
   "metadata": {},
   "source": [
    "# paper2vec matrix"
   ]
  },
  {
   "cell_type": "code",
   "execution_count": 2,
   "id": "b9c3272d",
   "metadata": {
    "ExecuteTime": {
     "end_time": "2023-02-27T20:18:58.226528Z",
     "start_time": "2023-02-27T20:18:58.222335Z"
    }
   },
   "outputs": [],
   "source": [
    "def andor(Y,A):\n",
    "    m = 543\n",
    "    YA = np.zeros((m,m))\n",
    "    for i in range(m):\n",
    "        for j in range(m):\n",
    "            if Y[i][j] == 0 and A[i][j] == 0:\n",
    "                YA[i][j] = 1\n",
    "            elif Y[i][j] == 1 and A[i][j] == 1:\n",
    "                YA[i][j] = 1\n",
    "            else:\n",
    "                YA[i][j] = 0               \n",
    "    return YA"
   ]
  },
  {
   "cell_type": "code",
   "execution_count": 3,
   "id": "673beaeb",
   "metadata": {
    "ExecuteTime": {
     "end_time": "2023-02-27T20:18:58.231639Z",
     "start_time": "2023-02-27T20:18:58.228520Z"
    }
   },
   "outputs": [],
   "source": [
    "def plus(X):\n",
    "    X1 = (abs(X)+X)/2\n",
    "    return X1"
   ]
  },
  {
   "cell_type": "code",
   "execution_count": 4,
   "id": "0a221d3d",
   "metadata": {
    "ExecuteTime": {
     "end_time": "2023-02-27T20:18:58.237683Z",
     "start_time": "2023-02-27T20:18:58.235117Z"
    }
   },
   "outputs": [],
   "source": [
    "def minus(X):\n",
    "    X1 = (abs(X)-X)/2\n",
    "    return X1"
   ]
  },
  {
   "cell_type": "code",
   "execution_count": 5,
   "id": "abfd60a0",
   "metadata": {
    "ExecuteTime": {
     "end_time": "2023-02-27T20:18:58.244088Z",
     "start_time": "2023-02-27T20:18:58.239996Z"
    }
   },
   "outputs": [],
   "source": [
    "def OneZeroNorm(X):\n",
    "    row_num = X.shape[0]\n",
    "    col_num = X.shape[1]\n",
    "    temp = X.sum(axis=1)#       \n",
    "    #print temp     \n",
    "    X1 = copy.deepcopy(X)\n",
    "    for i in range(row_num):\n",
    "        for j in range(col_num):\n",
    "            if temp[i] != 0:\n",
    "                X1[i][j] = X[i][j]/temp[i]\n",
    "            else:\n",
    "                X1[i][j] = 0\n",
    "    return X1\n"
   ]
  },
  {
   "cell_type": "code",
   "execution_count": 6,
   "id": "7e8465ab",
   "metadata": {
    "ExecuteTime": {
     "end_time": "2023-02-27T20:18:58.259358Z",
     "start_time": "2023-02-27T20:18:58.246348Z"
    }
   },
   "outputs": [],
   "source": [
    "def calL():\n",
    "    m = 0\n",
    "    r = 0\n",
    "\n",
    "    f = open('/Users/carina/Downloads/刘嘉莹/异常引用补充实验/sourcecode/ANCI_code/dataset/same_journal_refer/processed data/Authors_paper_matrix.txt')\n",
    "    line = f.readline()\n",
    "    line = line.replace(' ','').strip('\\n')\n",
    "    n_init = len(line)           #文章数\n",
    "    m = len(f.readlines()) + 1 #作者数\n",
    "    f.close()\n",
    "    print(m)\n",
    "\n",
    "    r = 197   #假定已标记前895个\n",
    "    n = 248   #除去core文章\n",
    "    Wtemp = np.zeros((m,274))     #作者-文章矩阵\n",
    "    f = open('/Users/carina/Downloads/刘嘉莹/异常引用补充实验/sourcecode/ANCI_code/dataset/same_journal_refer/processed data/Authors_paper_matrix.txt')\n",
    "    lines = f.readlines()\n",
    "    \n",
    "    Wtemp_row = 0\n",
    "    for line in lines:\n",
    "        list1 = line.strip().split(' ')\n",
    "        #print(len(list1))\n",
    "        Wtemp[Wtemp_row:] = list1[0:274]\n",
    "        Wtemp_row += 1\n",
    "\n",
    "    W = np.zeros((m,n))\n",
    "    for i in range(m):\n",
    "        for j in range(n):\n",
    "            if 0 <= j and j < 122:\n",
    "                W[i][j] = Wtemp[i][j+26]\n",
    "            elif 122 <= j and j < 197:\n",
    "                W[i][j] = Wtemp[i][j+59]\n",
    "            elif 197 <= j and j < 230:\n",
    "                W[i][j] = Wtemp[i][j-49]\n",
    "            else:\n",
    "                W[i][j] = Wtemp[i][j+26]\n",
    "\n",
    "\n",
    "    yL = np.ones((r,1))   #真假标签,如果是1则是假\n",
    "    for i in range(r):\n",
    "        if i>=0 and i < 122:\n",
    "            yL[i][0] = -1\n",
    "        else:\n",
    "            yL[i][0] = 1\n",
    "    \n",
    "     #读入c\n",
    "    f = open('/Users/carina/Downloads/刘嘉莹/异常引用补充实验/sourcecode/ANCI_code/dataset/same_journal_refer/processed data/Authors_credit_matrix.txt')\n",
    "    c = np.ones((m,1))\n",
    "    lines = f.readlines()\n",
    "    c_row = 0\n",
    "    for line in lines:\n",
    "        list = line.strip('\\n')\n",
    "        c[c_row] = list[0]\n",
    "        c_row += 1\n",
    "        if c_row == 543:\n",
    "            break\n",
    "\n",
    "    f.close()\n",
    "    \n",
    "    G = np.ones((m,r))\n",
    "    F = np.zeros((m+r,m+r))\n",
    "    for i in range(m):\n",
    "        for j in range(r):\n",
    "            G[i][j] = W[i][j] * ( c[i][0] * ( 1 - ( 1 + yL[j][0] ) / 2 ) + ( 1 - c[i][0]) * ( 1 + yL[j][0]) / 2)\n",
    "\n",
    "    for i in range(m+r):\n",
    "        for j in range(m+r):\n",
    "            if i>=0 and i < m and j >= m and j < m+r:\n",
    "                F[i][j] = G[i][j-m]\n",
    "            elif j>=0 and j < m and i >= m and i < m+r:\n",
    "                F[i][j] = G[j][i-m]\n",
    "                              \n",
    "    S = np.zeros((m+r,m+r))\n",
    "    F2 = F.sum(axis = 0)\n",
    "\n",
    "    for i in range(m+r):\n",
    "        S[i][i] = F2[i]\n",
    "\n",
    "    L = S - F\n",
    "    print('----------calculate L--------------')\n",
    "    return L"
   ]
  },
  {
   "cell_type": "code",
   "execution_count": 7,
   "id": "d7c1a82f",
   "metadata": {
    "ExecuteTime": {
     "end_time": "2023-02-27T20:18:58.268742Z",
     "start_time": "2023-02-27T20:18:58.261370Z"
    }
   },
   "outputs": [],
   "source": [
    "def evaluate(yU):\n",
    "    TP = 0  #真的，判断为真的数量\n",
    "    FN = 0  #真的，判断为假的数量\n",
    "    TN = 0  #假的，判断为假的数量\n",
    "    FP = 0  #假的，判断为真的数量\n",
    "    for i in range(51):\n",
    "        if  0 <= i < 33:\n",
    "            if yU[i] == -1:\n",
    "                TP += 1\n",
    "            else:\n",
    "                FN += 1\n",
    "        if  i >=33:\n",
    "            if yU[i] == 1:\n",
    "                TN += 1\n",
    "            else:\n",
    "                FP += 1\n",
    "    #print str(TP+FP+TN+FN)\n",
    "    print('TP' + str(TP))\n",
    "    print('FN' + str(FN))\n",
    "    print('TN' + str(TN))\n",
    "    print('FP' + str(FP))\n",
    "    Accuracy = (TP+TN)/float(TP+FP+TN+FN+1)\n",
    "    Precision = TP/float(TP+FP+1)\n",
    "    Recall = TP/float(TP+FN+1)\n",
    "    F1 = 2*((Precision*Recall)/float(Precision+Recall+1))\n",
    "    print(\"Accuracy：\"+str(Accuracy))\n",
    "    print(\"Precision：\"+str(Precision))\n",
    "    print(\"Recall：\"+str(Recall))\n",
    "    print(\"F1：\"+str(F1))\n",
    "    with codecs.open(r'/Users/carina/Downloads/刘嘉莹/异常引用补充实验/sourcecode/ANCI_code/dataset/same_journal_refer/processed data/evaluate_add_credit.txt','a') as f:\n",
    "        f.write(str(Accuracy)+'\\t'+str(Precision)+'\\t'+str(Recall)+'\\t'+str(F1)+'\\n')"
   ]
  },
  {
   "cell_type": "code",
   "execution_count": 8,
   "id": "77681031",
   "metadata": {
    "ExecuteTime": {
     "end_time": "2023-02-27T20:18:58.273757Z",
     "start_time": "2023-02-27T20:18:58.270644Z"
    }
   },
   "outputs": [],
   "source": [
    "n_init = 274\n",
    "n =  248#1696个中前204个是core\n",
    "t = 200\n",
    "r = 197 #从1492个中挑选出前654个T和前540个F\n",
    "m = 543 #作者数\n",
    "l = 33\n",
    "\n",
    "gama = 10\n",
    "beita = 0.0001\n",
    "nita = 1\n",
    "alpha = 0.00001\n",
    "lambta = 0.1"
   ]
  },
  {
   "cell_type": "code",
   "execution_count": 9,
   "id": "40c88ea2",
   "metadata": {
    "ExecuteTime": {
     "end_time": "2023-02-27T20:18:58.392266Z",
     "start_time": "2023-02-27T20:18:58.275205Z"
    }
   },
   "outputs": [
    {
     "name": "stdout",
     "output_type": "stream",
     "text": [
      "-----------abstract2vec.txt prepared-------------------\n"
     ]
    }
   ],
   "source": [
    "#读入Xtemp，取需要部分组成X\n",
    "Xtemp = np.zeros((n_init,200),dtype = float)\n",
    "f = open('/Users/carina/Downloads/刘嘉莹/异常引用补充实验/sourcecode/ANCI_code/dataset/same_journal_refer/processed data/abstract2vec.txt')\n",
    "lines = f.readlines()\n",
    "Xtemp_row = 0\n",
    "for line in lines:\n",
    "    if '[' in line:\n",
    "        list = re.sub(' +',' ',line.strip('\\n').strip('[').strip()).split(' ')\n",
    "    elif '[' and ']' not in line:\n",
    "        list.extend(re.sub(' +',' ',line.strip('\\n').strip()).split(' '))\n",
    "    else:\n",
    "        list.extend(re.sub(' +',' ',line.strip('\\n').strip(']').strip()).split(' '))\n",
    "        Xtemp[Xtemp_row:] = list[0:200]\n",
    "        Xtemp_row += 1\n",
    "f.close()\n",
    "print (\"-----------abstract2vec.txt prepared-------------------\")\n",
    "   \n",
    "\n",
    "#更新X，把它变为正\n",
    "for i in range(n_init):\n",
    "    for j in range(t):\n",
    "        Xtemp[i][j] = Xtemp[i][j] + 1 \n",
    "\n",
    "#组成X\n",
    "X = np.zeros((n,t),dtype = float)\n",
    "for i in range(n):\n",
    "    for j in range(t):\n",
    "        if 0 <= i and i < 122:\n",
    "            X[i][j] = Xtemp[i+26][j]\n",
    "        elif 122 <= i and i < 197:\n",
    "            X[i][j] = Xtemp[i+59][j]\n",
    "        elif 197 <= i and i <230 :\n",
    "            X[i][j] = Xtemp[i-49][j]\n",
    "        else:\n",
    "            X[i][j] = Xtemp[i+26][j]"
   ]
  },
  {
   "cell_type": "code",
   "execution_count": 10,
   "id": "3188c8a2",
   "metadata": {
    "ExecuteTime": {
     "end_time": "2023-02-27T20:18:58.460605Z",
     "start_time": "2023-02-27T20:18:58.396084Z"
    }
   },
   "outputs": [
    {
     "name": "stdout",
     "output_type": "stream",
     "text": [
      "-----------Author_author_matrix.txt prepared-------------------\n"
     ]
    }
   ],
   "source": [
    "#读入A\n",
    "f = open('/Users/carina/Downloads/刘嘉莹/异常引用补充实验/sourcecode/ANCI_code/dataset/same_journal_refer/processed data/Author_author_matrix.txt')\n",
    "A = np.ones((m,m))\n",
    "lines = f.readlines()\n",
    "A_row = 0\n",
    "for line in lines:\n",
    "    list = line.strip().split(' ')\n",
    "    A[A_row:] = list[0:m]\n",
    "    A_row += 1\n",
    "\n",
    "f.close()\n",
    "print (\"-----------Author_author_matrix.txt prepared-------------------\")"
   ]
  },
  {
   "cell_type": "code",
   "execution_count": 11,
   "id": "8b91b4a5",
   "metadata": {
    "ExecuteTime": {
     "end_time": "2023-02-27T20:18:58.477316Z",
     "start_time": "2023-02-27T20:18:58.462357Z"
    }
   },
   "outputs": [
    {
     "name": "stdout",
     "output_type": "stream",
     "text": [
      "-----------Journal_paper_matrix.txt prepared-------------------\n"
     ]
    }
   ],
   "source": [
    "#读入Btemp\n",
    "f = open('/Users/carina/Downloads/刘嘉莹/异常引用补充实验/sourcecode/ANCI_code/dataset/same_journal_refer/processed data/Journal_paper_matrix.txt')\n",
    "Btemp = np.ones((l,n_init))\n",
    "lines = f.readlines()\n",
    "Btemp_row = 0\n",
    "for line in lines:\n",
    "    list = line.strip().split(' ')\n",
    "    Btemp[Btemp_row:] = list[0:n_init]\n",
    "    Btemp_row += 1\n",
    "\n",
    "f.close()\n",
    "print (\"-----------Journal_paper_matrix.txt prepared-------------------\")\n",
    "#组成B\n",
    "B = np.ones((l,n))\n",
    "for i in range(l):\n",
    "    for j in range(n):\n",
    "        if 0 <= j and j < 122:\n",
    "            B[i][j] = Btemp[i][j+26]\n",
    "        elif 122 <= j and j < 197:\n",
    "            B[i][j] = Btemp[i][j+59]\n",
    "        elif 197 <= j and j < 230:\n",
    "            B[i][j] = Btemp[i][j-49]\n",
    "        elif 230<= j and j < n:\n",
    "            B[i][j] = Btemp[i][j+26]"
   ]
  },
  {
   "cell_type": "code",
   "execution_count": 12,
   "id": "eeb84b0a",
   "metadata": {
    "ExecuteTime": {
     "end_time": "2023-02-27T20:18:58.483791Z",
     "start_time": "2023-02-27T20:18:58.479247Z"
    }
   },
   "outputs": [],
   "source": [
    "Y = np.sign(A) # Y和A有关"
   ]
  },
  {
   "cell_type": "code",
   "execution_count": 13,
   "id": "7902d0f3",
   "metadata": {
    "ExecuteTime": {
     "end_time": "2023-02-27T20:18:58.491887Z",
     "start_time": "2023-02-27T20:18:58.485771Z"
    }
   },
   "outputs": [
    {
     "name": "stdout",
     "output_type": "stream",
     "text": [
      "-----------Journals_IF.txt prepared-------------------\n"
     ]
    }
   ],
   "source": [
    "#读入o\n",
    "f = open('/Users/carina/Downloads/刘嘉莹/异常引用补充实验/sourcecode/ANCI_code/dataset/same_journal_refer/processed data/Journals_IF.txt')\n",
    "o = np.ones((l,1))\n",
    "lines = f.readlines()\n",
    "o_row = 0\n",
    "for line in lines:\n",
    "    list = line.strip('\\n')\n",
    "    o[o_row] = list[0]\n",
    "    o_row += 1\n",
    "f.close()\n",
    "print (\"-----------Journals_IF.txt prepared-------------------\")"
   ]
  },
  {
   "cell_type": "code",
   "execution_count": 14,
   "id": "f6463f6b",
   "metadata": {
    "ExecuteTime": {
     "end_time": "2023-02-27T20:18:59.277380Z",
     "start_time": "2023-02-27T20:18:58.494265Z"
    }
   },
   "outputs": [
    {
     "name": "stdout",
     "output_type": "stream",
     "text": [
      "543\n",
      "----------calculate L--------------\n",
      "----------到迭代了--------------\n"
     ]
    }
   ],
   "source": [
    "yL = np.ones((r,1))   #真假标签,如果是1则是假\n",
    "for i in range(r):\n",
    "    if i>=0 and i < 122:\n",
    "        yL[i][0] = -1\n",
    "    else:\n",
    "        yL[i][0] = 1\n",
    "    \n",
    "d = 3\n",
    "    \n",
    "    #读入量\n",
    "DL = np.ones((r,d))\n",
    "DU = np.ones((n-r,d))\n",
    "D = np.random.random(size = (n,d))\n",
    "for i in range(r):\n",
    "    for j in range(d):\n",
    "        DL[i][j] = D[i][j]\n",
    "\n",
    "for i in range(n-r):\n",
    "    for j in range(d):\n",
    "        DU[i][j] = D[i+r][j]\n",
    "            \n",
    "    #随机初始化量\n",
    "U = (np.random.random(size=(m,d)))\n",
    "V = (np.random.random(size=(t,d)))\n",
    "P = (-1 + 2*np.random.random(size=(d,1)))\n",
    "    #print(P)\n",
    "Q = (-1 + 2*np.random.random(size=(d,1)))\n",
    "T = (np.random.random(size=(d,d)))\n",
    "\n",
    "L = calL()  #预算出L\n",
    "L11 = np.zeros((m,m))\n",
    "L12 = np.zeros((m,r))\n",
    "L22 = np.zeros((r,r))\n",
    "L21 = np.zeros((r,m))\n",
    "\n",
    "for i in range(r):\n",
    "    for j in range(r):\n",
    "        L22[i][j] = L[m+i][m+j]\n",
    "\n",
    "for i in range(r):\n",
    "    for j in range(m):\n",
    "        L21[i][j] = L[m+i][j]\n",
    "\n",
    "for i in range(m):\n",
    "    for j in range(m):\n",
    "        L11[i][j] = L[i][j]\n",
    "\n",
    "for i in range(m):\n",
    "    for j in range(r):\n",
    "        L12[i][j] = L[m][m+j]\n",
    "            \n",
    "print('----------到迭代了--------------')"
   ]
  },
  {
   "cell_type": "code",
   "execution_count": 15,
   "id": "ae5bcdec",
   "metadata": {
    "ExecuteTime": {
     "end_time": "2023-02-27T20:20:19.838325Z",
     "start_time": "2023-02-27T20:18:59.279435Z"
    }
   },
   "outputs": [
    {
     "name": "stdout",
     "output_type": "stream",
     "text": [
      "0\n",
      "TP32\n",
      "FN1\n",
      "TN0\n",
      "FP18\n",
      "Accuracy：0.6153846153846154\n",
      "Precision：0.6274509803921569\n",
      "Recall：0.9411764705882353\n",
      "F1：0.45981140547822186\n",
      "1\n",
      "TP33\n",
      "FN0\n",
      "TN0\n",
      "FP18\n",
      "Accuracy：0.6346153846153846\n",
      "Precision：0.6346153846153846\n",
      "Recall：0.9705882352941176\n",
      "F1：0.4728614850195397\n",
      "2\n",
      "TP33\n",
      "FN0\n",
      "TN0\n",
      "FP18\n",
      "Accuracy：0.6346153846153846\n",
      "Precision：0.6346153846153846\n",
      "Recall：0.9705882352941176\n",
      "F1：0.4728614850195397\n",
      "3\n",
      "TP33\n",
      "FN0\n",
      "TN0\n",
      "FP18\n",
      "Accuracy：0.6346153846153846\n",
      "Precision：0.6346153846153846\n",
      "Recall：0.9705882352941176\n",
      "F1：0.4728614850195397\n",
      "4\n",
      "TP33\n",
      "FN0\n",
      "TN0\n",
      "FP18\n",
      "Accuracy：0.6346153846153846\n",
      "Precision：0.6346153846153846\n",
      "Recall：0.9705882352941176\n",
      "F1：0.4728614850195397\n",
      "5\n",
      "TP33\n",
      "FN0\n",
      "TN0\n",
      "FP18\n",
      "Accuracy：0.6346153846153846\n",
      "Precision：0.6346153846153846\n",
      "Recall：0.9705882352941176\n",
      "F1：0.4728614850195397\n",
      "6\n",
      "TP33\n",
      "FN0\n",
      "TN0\n",
      "FP18\n",
      "Accuracy：0.6346153846153846\n",
      "Precision：0.6346153846153846\n",
      "Recall：0.9705882352941176\n",
      "F1：0.4728614850195397\n",
      "7\n",
      "TP33\n",
      "FN0\n",
      "TN0\n",
      "FP18\n",
      "Accuracy：0.6346153846153846\n",
      "Precision：0.6346153846153846\n",
      "Recall：0.9705882352941176\n",
      "F1：0.4728614850195397\n",
      "8\n",
      "TP33\n",
      "FN0\n",
      "TN0\n",
      "FP18\n",
      "Accuracy：0.6346153846153846\n",
      "Precision：0.6346153846153846\n",
      "Recall：0.9705882352941176\n",
      "F1：0.4728614850195397\n",
      "9\n",
      "TP33\n",
      "FN0\n",
      "TN0\n",
      "FP18\n",
      "Accuracy：0.6346153846153846\n",
      "Precision：0.6346153846153846\n",
      "Recall：0.9705882352941176\n",
      "F1：0.4728614850195397\n",
      "TP33\n",
      "FN0\n",
      "TN0\n",
      "FP18\n",
      "Accuracy：0.6346153846153846\n",
      "Precision：0.6346153846153846\n",
      "Recall：0.9705882352941176\n",
      "F1：0.4728614850195397\n"
     ]
    }
   ],
   "source": [
    "iter = 10\n",
    "for i in range(iter):\n",
    "    print(i)\n",
    "    #更新DL与DU\n",
    "    yU = np.sign(np.dot(DU,P))\n",
    "    #print(yU)\n",
    "    evaluate(yU)\n",
    "       \n",
    "        \n",
    "    D1 = np.dot(X,V) + gama*plus(np.dot(np.dot(OneZeroNorm(B).T,o),Q.T)) + gama*minus(np.dot(np.dot(np.dot(OneZeroNorm(B).T,OneZeroNorm(B)),D),np.dot(Q,Q.T)))+np.vstack(((nita*minus(np.dot(np.dot(DL,P),P.T)) + nita*plus(np.dot(yL,P.T)) +beita*minus(np.dot(L21,U))+ beita*minus(np.dot(L22,DL))), np.zeros((n-r,d))))\n",
    "\n",
    "    D2 = np.dot(np.dot(D,V.T),V) + lambta*D + gama*plus(np.dot(np.dot(np.dot(OneZeroNorm(B).T,OneZeroNorm(B)),D),np.dot(Q,Q.T)))+ gama*minus(np.dot(np.dot(OneZeroNorm(B).T,o),Q.T))+ np.vstack(((beita*plus(np.dot(L21,U)) + beita*plus(np.dot(L22,DL)) + nita*plus(np.dot(np.dot(DL,P),P.T))+ nita*minus(np.dot(yL,P.T))), np.zeros((n-r,d))))\n",
    "\n",
    "        #更新D\n",
    "    for i in range(n):\n",
    "        for j in range(d):\n",
    "            D[i][j] = D[i][j] * math.sqrt(D1[i][j]/D2[i][j])\n",
    "\n",
    "    for i in range(r):\n",
    "        for j in range(d):\n",
    "            DL[i][j] = D[i][j]\n",
    "\n",
    "    for i in range(n-r):\n",
    "        for j in range(d):\n",
    "            DU[i][j] = D[i+r][j]\n",
    "        \n",
    "    U1 = alpha*(np.dot(np.dot(andor(Y,A),U),T.T)) + alpha*(np.dot(np.dot(andor(Y,A).T,U),T))+ beita*minus(np.dot(L11,U)) + beita*minus(np.dot(L12,DL))\n",
    "\n",
    "        \n",
    "    U2 = alpha*(np.dot(np.dot(andor(Y,np.dot(U,np.dot(T,U.T))),U),T.T)) + alpha*(np.dot(np.dot(andor(Y,np.dot(U,np.dot(T,U.T))).T,U),T))+ lambta*U + beita*plus(np.dot(L11,U)) + beita*plus(np.dot(L12,DL))\n",
    "        #更新U\n",
    "    for i in range(m):\n",
    "        for j in range(d):\n",
    "            U[i][j] = U[i][j] * math.sqrt(U1[i][j]/U2[i][j])\n",
    "                \n",
    "       \n",
    "\n",
    "        #更新V\n",
    "    for i in range(t):\n",
    "        for j in range(d):\n",
    "            V[i][j] = V[i][j] * math.sqrt(np.dot(X.T,D)[i][j]/(np.dot(np.dot(V,D.T),D)+lambta*V)[i][j])\n",
    "        \n",
    "         #更新T\n",
    "    for i in range(d):\n",
    "        for j in range(d):\n",
    "            T[i][j] = T[i][j] * math.sqrt(np.dot(np.dot(alpha*U.T,andor(Y,A)),U)[i][j]/(np.dot(np.dot(alpha*U.T,andor(Y,np.dot(np.dot(U,T),U.T))),U) + lambta*T)[i][j])\n",
    "\n",
    "       \n",
    "    P = np.dot(np.linalg.inv(nita*np.dot(DL.T,DL) + lambta*np.eye(d,dtype = int)),np.dot(nita*DL.T,yL))\n",
    "    Q = np.dot(np.linalg.inv(np.dot(np.dot(gama*np.dot(D.T,OneZeroNorm(B).T),OneZeroNorm(B)),D) + lambta*np.eye(d,dtype = int)),np.dot(np.dot(gama*D.T,OneZeroNorm(B).T),o))\n",
    "\n",
    "            \n",
    "yU = np.sign(np.dot(DU,P))\n",
    "evaluate(yU)"
   ]
  },
  {
   "cell_type": "code",
   "execution_count": null,
   "id": "5742d91d",
   "metadata": {},
   "outputs": [],
   "source": []
  }
 ],
 "metadata": {
  "kernelspec": {
   "display_name": "Python 3 (ipykernel)",
   "language": "python",
   "name": "python3"
  },
  "language_info": {
   "codemirror_mode": {
    "name": "ipython",
    "version": 3
   },
   "file_extension": ".py",
   "mimetype": "text/x-python",
   "name": "python",
   "nbconvert_exporter": "python",
   "pygments_lexer": "ipython3",
   "version": "3.8.3"
  },
  "toc": {
   "base_numbering": 1,
   "nav_menu": {},
   "number_sections": true,
   "sideBar": true,
   "skip_h1_title": false,
   "title_cell": "Table of Contents",
   "title_sidebar": "Contents",
   "toc_cell": false,
   "toc_position": {},
   "toc_section_display": true,
   "toc_window_display": false
  }
 },
 "nbformat": 4,
 "nbformat_minor": 5
}
